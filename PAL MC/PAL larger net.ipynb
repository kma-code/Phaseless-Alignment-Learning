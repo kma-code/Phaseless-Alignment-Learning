{
 "cells": [
  {
   "cell_type": "markdown",
   "id": "5e0770e1",
   "metadata": {},
   "source": [
    "# Demo of Phaseless Alignment Learning"
   ]
  },
  {
   "cell_type": "markdown",
   "id": "fe176316",
   "metadata": {},
   "source": [
    "We define a simple network using PAL with dendritic microcircuits.\n",
    "\n",
    "2 kinds of tasks:\n",
    "- learn to adapt the backward weights to transpose of forward weights\n",
    "- learn to reproduce output of a teacher network. <<< this notebook\n",
    "\n",
    "The model uses real time dynamics with Euler integration, LE, dendritic error propagation and a phased implementation of PAL."
   ]
  },
  {
   "cell_type": "markdown",
   "id": "ad1ef871",
   "metadata": {},
   "source": [
    "## Definitions"
   ]
  },
  {
   "cell_type": "code",
   "execution_count": 1,
   "id": "b137db45",
   "metadata": {},
   "outputs": [],
   "source": [
    "%matplotlib widget\n",
    "\n",
    "import numpy as np\n",
    "import pylab as plt\n",
    "plt.rc('text', usetex=True)\n",
    "plt.rc('font', size=12,family='serif')\n",
    "import matplotlib.gridspec as gridspec\n",
    "from matplotlib.ticker import FormatStrFormatter\n",
    "from microcircuit import *\n",
    "import sys\n",
    "# import pandas as pd\n",
    "\n",
    "\n",
    "#load autoreload, which automatically reloads the microcircuit.py upon execution\n",
    "%reload_ext autoreload\n",
    "%autoreload 1\n",
    "%aimport microcircuit"
   ]
  },
  {
   "cell_type": "markdown",
   "id": "1e16b7e9",
   "metadata": {
    "tags": []
   },
   "source": [
    "## Learn $B = W^T$"
   ]
  },
  {
   "cell_type": "markdown",
   "id": "07fb2c4b",
   "metadata": {},
   "source": [
    "We make another example with a network of size [4-30-3]."
   ]
  },
  {
   "cell_type": "markdown",
   "id": "83f3bd4f",
   "metadata": {
    "tags": []
   },
   "source": [
    "### Setup"
   ]
  },
  {
   "cell_type": "code",
   "execution_count": 6,
   "id": "1cb6cb67",
   "metadata": {},
   "outputs": [],
   "source": [
    "# simulation settings\n",
    "\n",
    "dt     = 1e-3 # in ms\n",
    "dtxi   = 10 * dt\n",
    "tauxi  = 10 * dtxi # time constant of Ornstein-Uhlenbeck noise\n",
    "tauHP  = 10 * dtxi # time constant of high-pass filter\n",
    "Tpres  = 1/dt * dt # present images for 1 ms\n",
    "tauLO  = 10 * Tpres # time constant of low-pass filter for synaptic weight updates\n",
    "images = 3000\n",
    "epochs = 10\n",
    "\n",
    "# noise settings: noise_scale is used as vapi + noise where noise = noise_scale * uP\n",
    "noise_scale = [5e-2]"
   ]
  },
  {
   "cell_type": "code",
   "execution_count": 7,
   "id": "cff1d262",
   "metadata": {},
   "outputs": [],
   "source": [
    "np.random.seed(123456)\n",
    "\n",
    "# Init model: weights, voltages\n",
    "\n",
    "layers = [4, 30, 3]\n",
    "\n",
    "# conductances\n",
    "gl = 0.03\n",
    "gbas = 0.1\n",
    "gapi = 0.06\n",
    "gden = 0.1\n",
    "gnI = 0.06\n",
    "gntgt = 0.06\n",
    "\n",
    "# learning rates in 1/ms\n",
    "eta_fw = [0.0] * (len(layers) - 1)\n",
    "eta_bw = [200.0] * (len(layers) - 2)\n",
    "eta_IP = [0.0] * (len(layers) - 1) # not needed, as we init in self-predicting state and WPP is fixed\n",
    "eta_PI = [1.0] * (len(layers) - 1)\n",
    "\n",
    "# regularizer for backward weight learning\n",
    "alpha = [1e-5]\n",
    "\n",
    "# initialise voltages\n",
    "uP_init = []\n",
    "for i in range(1, len(layers)):\n",
    "    uP_init.append(np.random.normal(0, 1, size=layers[i]))\n",
    "    \n",
    "uI_init = [np.random.normal(0, 1, size=layers[-1])]\n",
    "    \n",
    "\n",
    "INIT_CONST = 1\n",
    "    \n",
    "# forward pp weights: connects all layers k, k+1\n",
    "WPP_init = []\n",
    "for i in range(len(layers)-1):\n",
    "    WPP_init.append(np.random.uniform(-INIT_CONST, INIT_CONST, size=(layers[i+1], layers[i])))\n",
    "\n",
    "# p to inter: connects N-1 to N\n",
    "WIP_init = [np.random.uniform(-INIT_CONST, INIT_CONST, size=(layers[-1], layers[-2]))]\n",
    "\n",
    "# backwards p to p: connects N to k\n",
    "BPP_init = []\n",
    "for i in range(1, len(layers)-1):\n",
    "    BPP_init.append(np.random.uniform(-INIT_CONST, INIT_CONST, size=(layers[i], layers[-1])))\n",
    "\n",
    "# backwards inter to p: connects N to k\n",
    "BPI_init = []\n",
    "for i in range(1, len(layers)-1):\n",
    "    BPI_init.append(np.random.uniform(-INIT_CONST, INIT_CONST, size=(layers[i], layers[-1])))"
   ]
  },
  {
   "cell_type": "code",
   "execution_count": 8,
   "id": "476cd729",
   "metadata": {},
   "outputs": [],
   "source": [
    "# input rates: step functions in the form of random inputs held for Tpres\n",
    "\n",
    "r0_random = np.random.uniform(-1, 1, size=(images, layers[0]))\n",
    "r0_random = np.repeat(r0_random, int(Tpres / dt), axis=0)"
   ]
  },
  {
   "cell_type": "code",
   "execution_count": 9,
   "id": "916dd1e0",
   "metadata": {},
   "outputs": [],
   "source": [
    "mc2 = noise_model(bw_connection_mode='layered',\n",
    "                  dt=dt, dtxi=dtxi, tauxi=tauxi, tauHP=tauHP, tauLO=tauLO, Tpres=Tpres,\n",
    "                  noise_type='OU', noise_scale=noise_scale,\n",
    "                  alpha=alpha,\n",
    "                  inter_low_pass=False, pyr_hi_pass=True, dWPP_low_pass=True, dWPP_r_low_pass=False, dWPP_post_low_pass=False, gate_regularizer=False, dWPP_use_activation=True,\n",
    "                  noise_mode='uP', model='PAL',\n",
    "                  activation=relu, layers=layers,\n",
    "                  uP_init=uP_init, uI_init=uI_init,\n",
    "                  WPP_init=WPP_init, WIP_init=WIP_init, BPP_init=BPP_init, BPI_init=BPI_init,\n",
    "                  gl=gl, gden=gden, gbas=gbas, gapi=gapi, gnI=gnI, gntgt=gntgt,\n",
    "                  eta_fw=eta_fw, eta_bw=eta_bw, eta_PI=eta_PI, eta_IP=eta_IP)\n",
    "\n",
    "mc2.set_self_predicting_state()"
   ]
  },
  {
   "cell_type": "code",
   "execution_count": 10,
   "id": "aa1f1f3c",
   "metadata": {},
   "outputs": [
    {
     "data": {
      "text/plain": [
       "-0.17262518471583263"
      ]
     },
     "execution_count": 10,
     "metadata": {},
     "output_type": "execute_result"
    }
   ],
   "source": [
    "# check alignment between WPP.T and BPP before learning\n",
    "cos_sim(mc2.BPP[0], mc2.WPP[1].T)"
   ]
  },
  {
   "cell_type": "markdown",
   "id": "676e5f89",
   "metadata": {
    "tags": []
   },
   "source": [
    "### Simulation"
   ]
  },
  {
   "cell_type": "code",
   "execution_count": 11,
   "id": "56ed4924",
   "metadata": {},
   "outputs": [
    {
     "name": "stdout",
     "output_type": "stream",
     "text": [
      "Working on epoch 0\n"
     ]
    },
    {
     "ename": "KeyboardInterrupt",
     "evalue": "",
     "output_type": "error",
     "traceback": [
      "\u001b[0;31m---------------------------------------------------------------------------\u001b[0m",
      "\u001b[0;31mKeyboardInterrupt\u001b[0m                         Traceback (most recent call last)",
      "\u001b[0;32m/var/folders/zb/q43ry99x69g19b1w0cyrrr700000gn/T/ipykernel_84853/3270310605.py\u001b[0m in \u001b[0;36m<module>\u001b[0;34m\u001b[0m\n\u001b[1;32m      4\u001b[0m     \u001b[0mprint\u001b[0m\u001b[0;34m(\u001b[0m\u001b[0;34mf'Working on epoch {j}'\u001b[0m\u001b[0;34m)\u001b[0m\u001b[0;34m\u001b[0m\u001b[0;34m\u001b[0m\u001b[0m\n\u001b[1;32m      5\u001b[0m     \u001b[0;32mfor\u001b[0m \u001b[0mi\u001b[0m \u001b[0;32min\u001b[0m \u001b[0mrange\u001b[0m\u001b[0;34m(\u001b[0m\u001b[0mlen\u001b[0m\u001b[0;34m(\u001b[0m\u001b[0mr0_random\u001b[0m\u001b[0;34m)\u001b[0m\u001b[0;34m)\u001b[0m\u001b[0;34m:\u001b[0m\u001b[0;34m\u001b[0m\u001b[0;34m\u001b[0m\u001b[0m\n\u001b[0;32m----> 6\u001b[0;31m         \u001b[0mmc2\u001b[0m\u001b[0;34m.\u001b[0m\u001b[0mevolve_system\u001b[0m\u001b[0;34m(\u001b[0m\u001b[0mr0\u001b[0m\u001b[0;34m=\u001b[0m\u001b[0mr0_random\u001b[0m\u001b[0;34m[\u001b[0m\u001b[0mi\u001b[0m\u001b[0;34m]\u001b[0m\u001b[0;34m,\u001b[0m \u001b[0mlearn_weights\u001b[0m\u001b[0;34m=\u001b[0m\u001b[0;32mTrue\u001b[0m\u001b[0;34m,\u001b[0m \u001b[0mlearn_bw_weights\u001b[0m\u001b[0;34m=\u001b[0m\u001b[0;32mTrue\u001b[0m\u001b[0;34m)\u001b[0m \u001b[0;31m# << adapt BPI and BPP\u001b[0m\u001b[0;34m\u001b[0m\u001b[0;34m\u001b[0m\u001b[0m\n\u001b[0m",
      "\u001b[0;32m~/owncloud/Projects Neuro/RtDeel simulations/PAL MC/microcircuit.py\u001b[0m in \u001b[0;36mevolve_system\u001b[0;34m(self, r0, u_tgt, learn_weights, learn_lat_weights, learn_bw_weights, record)\u001b[0m\n\u001b[1;32m    832\u001b[0m                 \u001b[0;31m# calculate voltage evolution, including low pass on interneuron synapses\u001b[0m\u001b[0;34m\u001b[0m\u001b[0;34m\u001b[0m\u001b[0;34m\u001b[0m\u001b[0m\n\u001b[1;32m    833\u001b[0m                 \u001b[0;31m# see calc_dendritic updates below\u001b[0m\u001b[0;34m\u001b[0m\u001b[0;34m\u001b[0m\u001b[0;34m\u001b[0m\u001b[0m\n\u001b[0;32m--> 834\u001b[0;31m                 \u001b[0mself\u001b[0m\u001b[0;34m.\u001b[0m\u001b[0mduP\u001b[0m\u001b[0;34m,\u001b[0m \u001b[0mself\u001b[0m\u001b[0;34m.\u001b[0m\u001b[0mduI\u001b[0m \u001b[0;34m=\u001b[0m \u001b[0mself\u001b[0m\u001b[0;34m.\u001b[0m\u001b[0mevolve_voltages\u001b[0m\u001b[0;34m(\u001b[0m\u001b[0mr0\u001b[0m\u001b[0;34m,\u001b[0m \u001b[0mu_tgt\u001b[0m\u001b[0;34m,\u001b[0m \u001b[0minject_noise\u001b[0m\u001b[0;34m=\u001b[0m\u001b[0mlearn_bw_weights\u001b[0m\u001b[0;34m)\u001b[0m \u001b[0;31m# includes recalc of rP_breve\u001b[0m\u001b[0;34m\u001b[0m\u001b[0;34m\u001b[0m\u001b[0m\n\u001b[0m\u001b[1;32m    835\u001b[0m \u001b[0;34m\u001b[0m\u001b[0m\n\u001b[1;32m    836\u001b[0m                 \u001b[0mself\u001b[0m\u001b[0;34m.\u001b[0m\u001b[0mdWPP\u001b[0m\u001b[0;34m,\u001b[0m \u001b[0mself\u001b[0m\u001b[0;34m.\u001b[0m\u001b[0mdWIP\u001b[0m\u001b[0;34m,\u001b[0m \u001b[0m_\u001b[0m\u001b[0;34m,\u001b[0m \u001b[0mself\u001b[0m\u001b[0;34m.\u001b[0m\u001b[0mdBPI\u001b[0m \u001b[0;34m=\u001b[0m \u001b[0mself\u001b[0m\u001b[0;34m.\u001b[0m\u001b[0mevolve_synapses\u001b[0m\u001b[0;34m(\u001b[0m\u001b[0mr0\u001b[0m\u001b[0;34m)\u001b[0m\u001b[0;34m\u001b[0m\u001b[0;34m\u001b[0m\u001b[0m\n",
      "\u001b[0;32m~/owncloud/Projects Neuro/RtDeel simulations/PAL MC/microcircuit.py\u001b[0m in \u001b[0;36mevolve_voltages\u001b[0;34m(self, r0, u_tgt, inject_noise)\u001b[0m\n\u001b[1;32m    913\u001b[0m                 \u001b[0;32mif\u001b[0m \u001b[0minject_noise\u001b[0m\u001b[0;34m:\u001b[0m\u001b[0;34m\u001b[0m\u001b[0;34m\u001b[0m\u001b[0m\n\u001b[1;32m    914\u001b[0m                         \u001b[0;32mfor\u001b[0m \u001b[0mi\u001b[0m \u001b[0;32min\u001b[0m \u001b[0mrange\u001b[0m\u001b[0;34m(\u001b[0m\u001b[0mlen\u001b[0m\u001b[0;34m(\u001b[0m\u001b[0mself\u001b[0m\u001b[0;34m.\u001b[0m\u001b[0mBPP\u001b[0m\u001b[0;34m)\u001b[0m\u001b[0;34m)\u001b[0m\u001b[0;34m:\u001b[0m\u001b[0;34m\u001b[0m\u001b[0;34m\u001b[0m\u001b[0m\n\u001b[0;32m--> 915\u001b[0;31m                                 \u001b[0mself\u001b[0m\u001b[0;34m.\u001b[0m\u001b[0mgenerate_noise\u001b[0m\u001b[0;34m(\u001b[0m\u001b[0mlayer\u001b[0m\u001b[0;34m=\u001b[0m\u001b[0mi\u001b[0m\u001b[0;34m,\u001b[0m \u001b[0mnoise_type\u001b[0m\u001b[0;34m=\u001b[0m\u001b[0mself\u001b[0m\u001b[0;34m.\u001b[0m\u001b[0mnoise_type\u001b[0m\u001b[0;34m,\u001b[0m \u001b[0mnoise_scale\u001b[0m\u001b[0;34m=\u001b[0m\u001b[0mself\u001b[0m\u001b[0;34m.\u001b[0m\u001b[0mnoise_scale\u001b[0m\u001b[0;34m)\u001b[0m\u001b[0;34m\u001b[0m\u001b[0;34m\u001b[0m\u001b[0m\n\u001b[0m\u001b[1;32m    916\u001b[0m \u001b[0;34m\u001b[0m\u001b[0m\n\u001b[1;32m    917\u001b[0m                 \u001b[0mself\u001b[0m\u001b[0;34m.\u001b[0m\u001b[0mduP\u001b[0m\u001b[0;34m,\u001b[0m \u001b[0mself\u001b[0m\u001b[0;34m.\u001b[0m\u001b[0mduI\u001b[0m \u001b[0;34m=\u001b[0m \u001b[0mself\u001b[0m\u001b[0;34m.\u001b[0m\u001b[0mcalc_somatic_updates\u001b[0m\u001b[0;34m(\u001b[0m\u001b[0mu_tgt\u001b[0m\u001b[0;34m,\u001b[0m \u001b[0minject_noise\u001b[0m\u001b[0;34m=\u001b[0m\u001b[0minject_noise\u001b[0m\u001b[0;34m)\u001b[0m\u001b[0;34m\u001b[0m\u001b[0;34m\u001b[0m\u001b[0m\n",
      "\u001b[0;32m~/owncloud/Projects Neuro/RtDeel simulations/PAL MC/microcircuit.py\u001b[0m in \u001b[0;36mgenerate_noise\u001b[0;34m(self, layer, noise_type, noise_scale)\u001b[0m\n\u001b[1;32m    997\u001b[0m                         \u001b[0;32melif\u001b[0m \u001b[0mself\u001b[0m\u001b[0;34m.\u001b[0m\u001b[0mnoise_mode\u001b[0m \u001b[0;34m==\u001b[0m \u001b[0;34m'uP'\u001b[0m\u001b[0;34m:\u001b[0m\u001b[0;34m\u001b[0m\u001b[0;34m\u001b[0m\u001b[0m\n\u001b[1;32m    998\u001b[0m                                 \u001b[0;31m# add noise with magnitude of rescaled uP\u001b[0m\u001b[0;34m\u001b[0m\u001b[0;34m\u001b[0m\u001b[0;34m\u001b[0m\u001b[0m\n\u001b[0;32m--> 999\u001b[0;31m                                 \u001b[0mwhite_noise\u001b[0m \u001b[0;34m=\u001b[0m \u001b[0mnoise_scale\u001b[0m\u001b[0;34m[\u001b[0m\u001b[0mlayer\u001b[0m\u001b[0;34m]\u001b[0m \u001b[0;34m*\u001b[0m \u001b[0mnp\u001b[0m\u001b[0;34m.\u001b[0m\u001b[0marray\u001b[0m\u001b[0;34m(\u001b[0m\u001b[0;34m[\u001b[0m\u001b[0mself\u001b[0m\u001b[0;34m.\u001b[0m\u001b[0mrng\u001b[0m\u001b[0;34m.\u001b[0m\u001b[0mnormal\u001b[0m\u001b[0;34m(\u001b[0m\u001b[0;36m0\u001b[0m\u001b[0;34m,\u001b[0m \u001b[0mnp\u001b[0m\u001b[0;34m.\u001b[0m\u001b[0mabs\u001b[0m\u001b[0;34m(\u001b[0m\u001b[0mx\u001b[0m\u001b[0;34m)\u001b[0m\u001b[0;34m)\u001b[0m \u001b[0;32mfor\u001b[0m \u001b[0mx\u001b[0m \u001b[0;32min\u001b[0m \u001b[0mself\u001b[0m\u001b[0;34m.\u001b[0m\u001b[0muP\u001b[0m\u001b[0;34m[\u001b[0m\u001b[0mlayer\u001b[0m\u001b[0;34m]\u001b[0m\u001b[0;34m]\u001b[0m\u001b[0;34m)\u001b[0m\u001b[0;34m\u001b[0m\u001b[0;34m\u001b[0m\u001b[0m\n\u001b[0m\u001b[1;32m   1000\u001b[0m \u001b[0;34m\u001b[0m\u001b[0m\n\u001b[1;32m   1001\u001b[0m                         \u001b[0;32melif\u001b[0m \u001b[0mself\u001b[0m\u001b[0;34m.\u001b[0m\u001b[0mnoise_mode\u001b[0m \u001b[0;34m==\u001b[0m \u001b[0;34m'uP_breve'\u001b[0m\u001b[0;34m:\u001b[0m\u001b[0;34m\u001b[0m\u001b[0;34m\u001b[0m\u001b[0m\n",
      "\u001b[0;32m~/owncloud/Projects Neuro/RtDeel simulations/PAL MC/microcircuit.py\u001b[0m in \u001b[0;36m<listcomp>\u001b[0;34m(.0)\u001b[0m\n\u001b[1;32m    997\u001b[0m                         \u001b[0;32melif\u001b[0m \u001b[0mself\u001b[0m\u001b[0;34m.\u001b[0m\u001b[0mnoise_mode\u001b[0m \u001b[0;34m==\u001b[0m \u001b[0;34m'uP'\u001b[0m\u001b[0;34m:\u001b[0m\u001b[0;34m\u001b[0m\u001b[0;34m\u001b[0m\u001b[0m\n\u001b[1;32m    998\u001b[0m                                 \u001b[0;31m# add noise with magnitude of rescaled uP\u001b[0m\u001b[0;34m\u001b[0m\u001b[0;34m\u001b[0m\u001b[0;34m\u001b[0m\u001b[0m\n\u001b[0;32m--> 999\u001b[0;31m                                 \u001b[0mwhite_noise\u001b[0m \u001b[0;34m=\u001b[0m \u001b[0mnoise_scale\u001b[0m\u001b[0;34m[\u001b[0m\u001b[0mlayer\u001b[0m\u001b[0;34m]\u001b[0m \u001b[0;34m*\u001b[0m \u001b[0mnp\u001b[0m\u001b[0;34m.\u001b[0m\u001b[0marray\u001b[0m\u001b[0;34m(\u001b[0m\u001b[0;34m[\u001b[0m\u001b[0mself\u001b[0m\u001b[0;34m.\u001b[0m\u001b[0mrng\u001b[0m\u001b[0;34m.\u001b[0m\u001b[0mnormal\u001b[0m\u001b[0;34m(\u001b[0m\u001b[0;36m0\u001b[0m\u001b[0;34m,\u001b[0m \u001b[0mnp\u001b[0m\u001b[0;34m.\u001b[0m\u001b[0mabs\u001b[0m\u001b[0;34m(\u001b[0m\u001b[0mx\u001b[0m\u001b[0;34m)\u001b[0m\u001b[0;34m)\u001b[0m \u001b[0;32mfor\u001b[0m \u001b[0mx\u001b[0m \u001b[0;32min\u001b[0m \u001b[0mself\u001b[0m\u001b[0;34m.\u001b[0m\u001b[0muP\u001b[0m\u001b[0;34m[\u001b[0m\u001b[0mlayer\u001b[0m\u001b[0;34m]\u001b[0m\u001b[0;34m]\u001b[0m\u001b[0;34m)\u001b[0m\u001b[0;34m\u001b[0m\u001b[0;34m\u001b[0m\u001b[0m\n\u001b[0m\u001b[1;32m   1000\u001b[0m \u001b[0;34m\u001b[0m\u001b[0m\n\u001b[1;32m   1001\u001b[0m                         \u001b[0;32melif\u001b[0m \u001b[0mself\u001b[0m\u001b[0;34m.\u001b[0m\u001b[0mnoise_mode\u001b[0m \u001b[0;34m==\u001b[0m \u001b[0;34m'uP_breve'\u001b[0m\u001b[0;34m:\u001b[0m\u001b[0;34m\u001b[0m\u001b[0;34m\u001b[0m\u001b[0m\n",
      "\u001b[0;31mKeyboardInterrupt\u001b[0m: "
     ]
    }
   ],
   "source": [
    "mc2.init_record(rec_per_steps=1000, rec_WPP=False, rec_WIP=False, rec_BPP=True, rec_BPI=True)\n",
    "\n",
    "for j in range(epochs):\n",
    "    print(f'Working on epoch {j}')\n",
    "    for i in range(len(r0_random)):\n",
    "        mc2.evolve_system(r0=r0_random[i], learn_weights=True, learn_bw_weights=True) # << adapt BPI and BPP"
   ]
  },
  {
   "cell_type": "markdown",
   "id": "421c70ba",
   "metadata": {},
   "source": [
    "Check that BPP and BPI learn approx at same speed:"
   ]
  },
  {
   "cell_type": "code",
   "execution_count": null,
   "id": "0c9a8467",
   "metadata": {},
   "outputs": [],
   "source": [
    "print(np.mean(mc2.dBPP[0]), np.std(mc2.dBPP[0]))"
   ]
  },
  {
   "cell_type": "code",
   "execution_count": null,
   "id": "eff8ea26",
   "metadata": {},
   "outputs": [],
   "source": [
    "print(np.mean(mc2.dBPI[0]), np.std(mc2.dBPI[0]))"
   ]
  },
  {
   "cell_type": "code",
   "execution_count": null,
   "id": "2a492081",
   "metadata": {},
   "outputs": [],
   "source": [
    "# # fig = plt.figure()\n",
    "# # rP = [rP[0] for rP in rPbreve_time_series]\n",
    "# # plt.plot(np.array(rP[int(Tpres/dt):]).ravel())\n",
    "# # plt.show()\n",
    "\n",
    "# fig = plt.figure()\n",
    "# rP = [rP[1] for rP in rPbreve_time_series]\n",
    "# plt.plot(np.array(rP[int(Tpres/dt):]).ravel(), label=\"$\\\\varphi{(\\\\breve{u}^P)}$\")\n",
    "# plt.plot(np.array(rIbreve_time_series[int(Tpres/dt):]).ravel(), label=\"$\\\\varphi{(\\\\breve{u}^I)}$\")\n",
    "# plt.legend()\n",
    "# plt.title(\"Denoising in interneuron\")\n",
    "# plt.xlabel('dt')\n",
    "# plt.show()\n",
    "\n",
    "\n",
    "# fig = plt.figure()\n",
    "# rPbreve_HI = [rPbreve_HI[1] for rPbreve_HI in rPbreve_HI_time_series]\n",
    "# plt.plot(np.array(rPbreve_HI[int(Tpres/dt):]).ravel(), label=\"$\\widehat{\\\\varphi{(\\\\breve{u}^P)}}$\")\n",
    "# plt.xlabel('dt')\n",
    "# plt.title(\"High-pass filtering\")\n",
    "# plt.legend()\n",
    "# plt.show()\n",
    "\n",
    "# fig = plt.figure()\n",
    "# xibreve = [xibreve[0] for xibreve in xibreve_time_series]\n",
    "# plt.plot(np.array(xibreve[int(Tpres/dt):]), label=[\"$\\\\breve{\\\\xi_1}$\",\"$\\\\breve{\\\\xi_2}$\"])\n",
    "# plt.title(\"Lookahead of noise\")\n",
    "# plt.xlabel('dt')\n",
    "# plt.legend()\n",
    "# plt.show()"
   ]
  },
  {
   "cell_type": "code",
   "execution_count": null,
   "id": "edd756eb",
   "metadata": {},
   "outputs": [],
   "source": [
    "# for i in range(layers[-1]):\n",
    "    \n",
    "#     # plot neuron outputs in output layer\n",
    "\n",
    "#     fig = plt.figure()\n",
    "#     plt.plot(np.array(rIbreve_time_series).T[i][0])\n",
    "#     plt.plot(np.array(rPbreve_time_series).T[i][1])\n",
    "#     plt.show()\n",
    "    \n",
    "# # check apical potentials\n",
    "\n",
    "# fig = plt.figure()\n",
    "# plt.plot(np.array(vapi_time_series).T[0][0])\n",
    "# plt.plot(np.array(vapi_time_series).T[1][0])\n",
    "# plt.show()\n"
   ]
  },
  {
   "cell_type": "markdown",
   "id": "b9a8a2a5",
   "metadata": {},
   "source": [
    "Now, let's check angle between BPP and WPP.T:"
   ]
  },
  {
   "cell_type": "code",
   "execution_count": null,
   "id": "8849c986",
   "metadata": {},
   "outputs": [],
   "source": [
    "# cos_BPI_BPP = []\n",
    "# for i in range(len(BPI_time_series[0])):\n",
    "#     cos_BPI_BPP.append(np.array([\n",
    "#         cos_sim(BPI_time_series[j][i], -BPP_time_series[j][i]) for j in range(0, len(BPI_time_series), 10)\n",
    "#                            ]))\n",
    "    \n",
    "# cos_WIP_WPP = []\n",
    "# for i in range(len(WIP_time_series[0])):\n",
    "#     cos_WIP_WPP.append(np.array([\n",
    "#         cos_sim(WIP_time_series[j][i], WPP_time_series[j][i+1]) for j in range(0, len(WIP_time_series), 10)\n",
    "#                            ]))\n",
    "    \n",
    "mc2.cos_WPPtrans_BPP = []\n",
    "for i in range(len(mc2.BPP_time_series[0])):\n",
    "    mc2.cos_WPPtrans_BPP.append(np.array([\n",
    "        cos_sim(mc2.BPP_time_series[j][i], WPP_init[i+1].T) for j in range(0, len(mc2.BPP_time_series), 1)\n",
    "                           ]))"
   ]
  },
  {
   "cell_type": "markdown",
   "id": "59fb992d",
   "metadata": {},
   "source": [
    "BPP at init:"
   ]
  },
  {
   "cell_type": "code",
   "execution_count": null,
   "id": "1bd7f9b2",
   "metadata": {},
   "outputs": [],
   "source": [
    "# mc2.BPP_time_series[0][0]"
   ]
  },
  {
   "cell_type": "markdown",
   "id": "99775ffa",
   "metadata": {},
   "source": [
    "BPP after learning:"
   ]
  },
  {
   "cell_type": "code",
   "execution_count": null,
   "id": "47e8f3d8",
   "metadata": {},
   "outputs": [],
   "source": [
    "# mc2.BPP_time_series[-1][0]"
   ]
  },
  {
   "cell_type": "markdown",
   "id": "7249b4da",
   "metadata": {},
   "source": [
    "WPP^T (fixed):"
   ]
  },
  {
   "cell_type": "code",
   "execution_count": null,
   "id": "52bea05a",
   "metadata": {},
   "outputs": [],
   "source": [
    "# mc2.WPP_time_series[0][1].T"
   ]
  },
  {
   "cell_type": "code",
   "execution_count": null,
   "id": "9cc3dc33",
   "metadata": {},
   "outputs": [],
   "source": [
    "for i in range(len(layers[1:-1])):\n",
    "    fig, ax = plt.subplots()\n",
    "    ax.plot(mc2.cos_WPPtrans_BPP[i])\n",
    "    plt.yscale('linear')\n",
    "    label = 'ms'\n",
    "    plt.xlabel(label)\n",
    "    plt.title('$\\cos(B^\\mathrm{PP}, (W^\\mathrm{PP})^T)$ to layer ' + str(i+1))\n",
    "    plt.ylim(-1.1,1.1)\n",
    "    plt.show()\n",
    "    \n",
    "\n",
    "    # fig, ax = plt.subplots()\n",
    "    # ax.plot([WPP_init[i+1].T.ravel() for WPP in BPP_time_series], label=\"WPP.T\")\n",
    "    # ax.plot([BPP[i].ravel() for BPP in BPP_time_series], label=\"BPP\", linestyle=\"--\")\n",
    "    # plt.yscale('linear')\n",
    "    # label = 'dt'\n",
    "    # plt.xlabel(label)\n",
    "    # plt.ylabel(\"B\")\n",
    "    # plt.legend()\n",
    "    # # plt.title('$\\cos(W^\\mathrm{IP}, W^\\mathrm{PP})$ to layer ' + str(i+1))\n",
    "    # plt.show()"
   ]
  },
  {
   "cell_type": "code",
   "execution_count": null,
   "id": "dbfc8f71",
   "metadata": {},
   "outputs": [],
   "source": [
    "# for i in range(len(layers[1:-1])):\n",
    "#     fig, ax = plt.subplots()\n",
    "#     ax.plot(cos_BPI_BPP[i], label='$\\cos(B^\\mathrm{PI}, -B^\\mathrm{PP})$ to layer ' + str(i+1))\n",
    "#     # ax.plot(cos_rIbreveBPI_rPbreveBPP[i], label='$\\cos(r^\\mathrm{PI}, -r^\\mathrm{PP})$ to layer ' + str(i+1))\n",
    "#     plt.yscale('linear')\n",
    "#     label = '10 dt'\n",
    "#     plt.xlabel(label)\n",
    "#     plt.legend()\n",
    "#     plt.ylim(-1.1,1.1)\n",
    "#     plt.show()\n",
    "    \n",
    "\n",
    "# fig, ax = plt.subplots()\n",
    "# ax.plot(np.array(BPI_time_series).ravel(), label=\"BPI\")\n",
    "# ax.plot(-np.array(BPP_time_series).ravel(), label=\"BPP\")\n",
    "# plt.yscale('linear')\n",
    "# label = 'dt'\n",
    "# plt.xlabel(label)\n",
    "# plt.ylabel(\"B\")\n",
    "# plt.legend()\n",
    "# # plt.title('$\\cos(W^\\mathrm{IP}, W^\\mathrm{PP})$ to layer ' + str(i+1))\n",
    "# plt.show()"
   ]
  },
  {
   "cell_type": "code",
   "execution_count": null,
   "id": "bae02b23",
   "metadata": {},
   "outputs": [],
   "source": [
    "# for i in range(len(layers[1:-1])):\n",
    "#     fig, ax = plt.subplots()\n",
    "#     ax.plot(cos_WIP_WPP[i])\n",
    "#     plt.yscale('linear')\n",
    "#     label = '10 dt'\n",
    "#     plt.xlabel(label)\n",
    "#     plt.title('$\\cos(W^\\mathrm{IP}, W^\\mathrm{PP})$ to layer ' + str(i+1))\n",
    "#     plt.ylim(-1.1,1.1)\n",
    "#     plt.show()\n",
    "\n",
    "\n",
    "# fig, ax = plt.subplots()\n",
    "# ax.plot(np.array([WPP[1] for WPP in WPP_time_series]).ravel())\n",
    "# ax.plot(np.array(WIP_time_series).ravel())\n",
    "# plt.yscale('linear')\n",
    "# label = 'dt'\n",
    "# # plt.legend()\n",
    "# plt.xlabel(label)\n",
    "# plt.show()"
   ]
  },
  {
   "cell_type": "code",
   "execution_count": null,
   "id": "9847a88f",
   "metadata": {},
   "outputs": [],
   "source": []
  },
  {
   "cell_type": "code",
   "execution_count": null,
   "id": "fe789fb6",
   "metadata": {},
   "outputs": [],
   "source": []
  }
 ],
 "metadata": {
  "kernelspec": {
   "display_name": "Python 3 (ipykernel)",
   "language": "python",
   "name": "python3"
  },
  "language_info": {
   "codemirror_mode": {
    "name": "ipython",
    "version": 3
   },
   "file_extension": ".py",
   "mimetype": "text/x-python",
   "name": "python",
   "nbconvert_exporter": "python",
   "pygments_lexer": "ipython3",
   "version": "3.8.5"
  }
 },
 "nbformat": 4,
 "nbformat_minor": 5
}
