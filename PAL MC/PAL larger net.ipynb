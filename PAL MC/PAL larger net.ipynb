{
 "cells": [
  {
   "cell_type": "markdown",
   "id": "41d5b0df-2879-49fc-8eae-160ea963dd28",
   "metadata": {},
   "source": [
    "# Demo of RtDeep"
   ]
  },
  {
   "cell_type": "markdown",
   "id": "d318c0ad-52d2-4631-a0dd-7703e5ebde21",
   "metadata": {},
   "source": [
    "We define a simple network using RtDeep with microcircuits.\n",
    "\n",
    "Task: learn $B^\\mathrm{PP} \\to (W^\\mathrm{PP})^T$\n",
    "\n",
    "The model uses real time dynamics with Euler integration, LE, dendritic error propagation and a phased implementation of L-DRL."
   ]
  },
  {
   "cell_type": "markdown",
   "id": "a2d019a7-1085-4c6d-8e5c-d2a7719d1d18",
   "metadata": {},
   "source": [
    "## Definitions"
   ]
  },
  {
   "cell_type": "code",
   "execution_count": 173,
   "id": "f40c50ca-c52c-437a-8c00-fc9e43aa380c",
   "metadata": {},
   "outputs": [],
   "source": [
    "%matplotlib widget\n",
    "\n",
    "import numpy as np\n",
    "import pylab as plt\n",
    "plt.rc('text', usetex=True)\n",
    "plt.rc('font', size=12,family='serif')\n",
    "import matplotlib.gridspec as gridspec\n",
    "from matplotlib.ticker import FormatStrFormatter\n",
    "from microcircuit import *\n",
    "import sys\n",
    "# import pandas as pd\n",
    "\n",
    "\n",
    "#load autoreload, which automatically reloads the microcircuit.py upon execution\n",
    "%reload_ext autoreload\n",
    "%autoreload 1\n",
    "%aimport microcircuit"
   ]
  },
  {
   "cell_type": "markdown",
   "id": "f8192c08-84a0-4530-8cc9-ea2f66648fdd",
   "metadata": {
    "tags": []
   },
   "source": [
    "## Learn $B = W^T$"
   ]
  },
  {
   "cell_type": "markdown",
   "id": "9081c4aa-6857-4577-a123-22194ba9dd9b",
   "metadata": {},
   "source": [
    "We make another example with a network of size [4-30-3]."
   ]
  },
  {
   "cell_type": "markdown",
   "id": "a6183ad8-bb2d-498d-94e4-c637da62b724",
   "metadata": {
    "tags": []
   },
   "source": [
    "### Setup"
   ]
  },
  {
   "cell_type": "code",
   "execution_count": 151,
   "id": "87f7f7e2-e990-4ac8-9e27-98aad28909d4",
   "metadata": {},
   "outputs": [],
   "source": [
    "# simulation settings\n",
    "\n",
    "dt     = 1e-3 # in ms\n",
    "dtxi   = 10 * dt\n",
    "tausyn = dtxi\n",
    "Tpres  = 1/dt * dt # present images for 1 ms\n",
    "Tbw    = 1 * Tpres # time scale of phases for backward weight learning\n",
    "images = 3000\n",
    "epochs = 10\n",
    "\n",
    "# noise settings: noise_scale is used as vapi + noise where noise = noise_scale * uP\n",
    "noise_scale = [5e-2]"
   ]
  },
  {
   "cell_type": "code",
   "execution_count": 152,
   "id": "cdf57a16-6389-41af-9d97-24822fc32768",
   "metadata": {},
   "outputs": [],
   "source": [
    "np.random.seed(123456)\n",
    "\n",
    "# Init model: weights, voltages\n",
    "\n",
    "layers = [4, 30, 3]\n",
    "\n",
    "# conductances\n",
    "gl = 0.03\n",
    "gbas = 0.1\n",
    "gapi = 0.06\n",
    "gden = 0.1\n",
    "gnI = 0.06\n",
    "gntgt = 0.06\n",
    "\n",
    "# learning rates in 1/ms\n",
    "eta_fw = [0.0] * (len(layers) - 1)\n",
    "eta_bw = [200.0] * (len(layers) - 2)\n",
    "eta_IP = [0.0] * (len(layers) - 1) # not needed, as we init in self-predicting state and WPP is fixed\n",
    "eta_PI = [1.0] * (len(layers) - 1)\n",
    "\n",
    "# regularizer for backward weight learning\n",
    "alpha = [1e-5]\n",
    "\n",
    "# initialise voltages\n",
    "uP_init = []\n",
    "for i in range(1, len(layers)):\n",
    "    uP_init.append(np.random.normal(0, 1, size=layers[i]))\n",
    "    \n",
    "uI_init = [np.random.normal(0, 1, size=layers[-1])]\n",
    "    \n",
    "\n",
    "INIT_CONST = 1\n",
    "    \n",
    "# forward pp weights: connects all layers k, k+1\n",
    "WPP_init = []\n",
    "for i in range(len(layers)-1):\n",
    "    WPP_init.append(np.random.uniform(-INIT_CONST, INIT_CONST, size=(layers[i+1], layers[i])))\n",
    "\n",
    "# p to inter: connects N-1 to N\n",
    "WIP_init = [np.random.uniform(-INIT_CONST, INIT_CONST, size=(layers[-1], layers[-2]))]\n",
    "\n",
    "# backwards p to p: connects N to k\n",
    "BPP_init = []\n",
    "for i in range(1, len(layers)-1):\n",
    "    BPP_init.append(np.random.uniform(-INIT_CONST, INIT_CONST, size=(layers[i], layers[-1])))\n",
    "\n",
    "# backwards inter to p: connects N to k\n",
    "BPI_init = []\n",
    "for i in range(1, len(layers)-1):\n",
    "    BPI_init.append(np.random.uniform(-INIT_CONST, INIT_CONST, size=(layers[i], layers[-1])))"
   ]
  },
  {
   "cell_type": "code",
   "execution_count": 153,
   "id": "4edc1e72-3763-4d5e-95e7-4d93d8b80cbc",
   "metadata": {},
   "outputs": [],
   "source": [
    "# input rates: step functions in the form of random inputs held for Tpres\n",
    "\n",
    "r0_random = np.random.uniform(-1, 1, size=(images, layers[0]))\n",
    "r0_random = np.repeat(r0_random, int(Tpres / dt), axis=0)"
   ]
  },
  {
   "cell_type": "code",
   "execution_count": 154,
   "id": "18b2bf87-57a9-4374-80ff-954562d25a76",
   "metadata": {},
   "outputs": [],
   "source": [
    "mc2 = phased_noise_model(dt, dtxi, tausyn, Tbw, Tpres, noise_scale, alpha, inter_low_pass=False, pyr_hi_pass=True, dWPP_low_pass=False,\n",
    "                         gate_regularizer=True,\n",
    "                         noise_mode='uP',\n",
    "                         model='LDRL',\n",
    "                         activation=relu, layers=layers,\n",
    "            uP_init=uP_init, uI_init=uI_init,\n",
    "            WPP_init=WPP_init, WIP_init=WIP_init, BPP_init=BPP_init, BPI_init=BPI_init,\n",
    "            gl=gl, gden=gden, gbas=gbas, gapi=gapi, gnI=gnI, gntgt=gntgt,\n",
    "            eta_fw=eta_fw, eta_bw=eta_bw, eta_PI=eta_PI, eta_IP=eta_IP)\n",
    "\n",
    "mc2.set_self_predicting_state()"
   ]
  },
  {
   "cell_type": "code",
   "execution_count": 155,
   "id": "00b5dc41-871e-4ab3-bc79-e3eb245fec45",
   "metadata": {},
   "outputs": [
    {
     "data": {
      "text/plain": [
       "-0.17262518471583263"
      ]
     },
     "execution_count": 155,
     "metadata": {},
     "output_type": "execute_result"
    }
   ],
   "source": [
    "# check alignment between WPP.T and BPP before learning\n",
    "cos_sim(mc2.BPP[0], mc2.WPP[1].T)"
   ]
  },
  {
   "cell_type": "markdown",
   "id": "cc04a93a-0974-4cf6-bb3a-6bf663e61248",
   "metadata": {
    "tags": []
   },
   "source": [
    "### Simulation"
   ]
  },
  {
   "cell_type": "code",
   "execution_count": 156,
   "id": "e5bc8575-eaa9-4bf0-bd06-90bcf5d02b94",
   "metadata": {},
   "outputs": [
    {
     "name": "stdout",
     "output_type": "stream",
     "text": [
      "Working on epoch 0\n",
      "Working on epoch 1\n",
      "Working on epoch 2\n",
      "Working on epoch 3\n",
      "Working on epoch 4\n",
      "Working on epoch 5\n",
      "Working on epoch 6\n",
      "Working on epoch 7\n",
      "Working on epoch 8\n",
      "Working on epoch 9\n"
     ]
    }
   ],
   "source": [
    "mc2.init_record(rec_per_steps=1000, rec_WPP=False, rec_WIP=False, rec_BPP=True, rec_BPI=True)\n",
    "\n",
    "for j in range(epochs):\n",
    "    print(f'Working on epoch {j}')\n",
    "    for i in range(len(r0_random)):\n",
    "        mc2.evolve_system(r0=r0_random[i], learn_weights=True, learn_bw_weights=True) # << adapt BPI and BPP"
   ]
  },
  {
   "cell_type": "markdown",
   "id": "569eb89a",
   "metadata": {},
   "source": [
    "Check that BPP and BPI learn approx at same speed:"
   ]
  },
  {
   "cell_type": "code",
   "execution_count": 157,
   "id": "9879a85b-3b66-49e8-8a4f-000861c7d59d",
   "metadata": {},
   "outputs": [
    {
     "name": "stdout",
     "output_type": "stream",
     "text": [
      "-5.834663627926438e-08 4.6939216563509844e-07\n"
     ]
    }
   ],
   "source": [
    "print(np.mean(mc2.dBPP[0]), np.std(mc2.dBPP[0]))"
   ]
  },
  {
   "cell_type": "code",
   "execution_count": 158,
   "id": "35ecaf33-a560-4ed2-917f-8484dd195bab",
   "metadata": {},
   "outputs": [
    {
     "name": "stdout",
     "output_type": "stream",
     "text": [
      "-1.3757990040562777e-08 9.54196213822173e-07\n"
     ]
    }
   ],
   "source": [
    "print(np.mean(mc2.dBPI[0]), np.std(mc2.dBPI[0]))"
   ]
  },
  {
   "cell_type": "code",
   "execution_count": 159,
   "id": "34ebc635-1574-4385-babb-ea876186c49d",
   "metadata": {},
   "outputs": [],
   "source": [
    "# # fig = plt.figure()\n",
    "# # rP = [rP[0] for rP in rPbreve_time_series]\n",
    "# # plt.plot(np.array(rP[int(Tpres/dt):]).ravel())\n",
    "# # plt.show()\n",
    "\n",
    "# fig = plt.figure()\n",
    "# rP = [rP[1] for rP in rPbreve_time_series]\n",
    "# plt.plot(np.array(rP[int(Tpres/dt):]).ravel(), label=\"$\\\\varphi{(\\\\breve{u}^P)}$\")\n",
    "# plt.plot(np.array(rIbreve_time_series[int(Tpres/dt):]).ravel(), label=\"$\\\\varphi{(\\\\breve{u}^I)}$\")\n",
    "# plt.legend()\n",
    "# plt.title(\"Denoising in interneuron\")\n",
    "# plt.xlabel('dt')\n",
    "# plt.show()\n",
    "\n",
    "\n",
    "# fig = plt.figure()\n",
    "# rPbreve_HI = [rPbreve_HI[1] for rPbreve_HI in rPbreve_HI_time_series]\n",
    "# plt.plot(np.array(rPbreve_HI[int(Tpres/dt):]).ravel(), label=\"$\\widehat{\\\\varphi{(\\\\breve{u}^P)}}$\")\n",
    "# plt.xlabel('dt')\n",
    "# plt.title(\"High-pass filtering\")\n",
    "# plt.legend()\n",
    "# plt.show()\n",
    "\n",
    "# fig = plt.figure()\n",
    "# xibreve = [xibreve[0] for xibreve in xibreve_time_series]\n",
    "# plt.plot(np.array(xibreve[int(Tpres/dt):]), label=[\"$\\\\breve{\\\\xi_1}$\",\"$\\\\breve{\\\\xi_2}$\"])\n",
    "# plt.title(\"Lookahead of noise\")\n",
    "# plt.xlabel('dt')\n",
    "# plt.legend()\n",
    "# plt.show()"
   ]
  },
  {
   "cell_type": "code",
   "execution_count": 160,
   "id": "39119b30-a3ff-4daa-9abd-a575f3a61c7c",
   "metadata": {},
   "outputs": [],
   "source": [
    "# for i in range(layers[-1]):\n",
    "    \n",
    "#     # plot neuron outputs in output layer\n",
    "\n",
    "#     fig = plt.figure()\n",
    "#     plt.plot(np.array(rIbreve_time_series).T[i][0])\n",
    "#     plt.plot(np.array(rPbreve_time_series).T[i][1])\n",
    "#     plt.show()\n",
    "    \n",
    "# # check apical potentials\n",
    "\n",
    "# fig = plt.figure()\n",
    "# plt.plot(np.array(vapi_time_series).T[0][0])\n",
    "# plt.plot(np.array(vapi_time_series).T[1][0])\n",
    "# plt.show()\n"
   ]
  },
  {
   "cell_type": "markdown",
   "id": "62b726d8-2827-410f-a1e3-908ec1ba40e2",
   "metadata": {},
   "source": [
    "Now, let's check angle between BPP and WPP.T:"
   ]
  },
  {
   "cell_type": "code",
   "execution_count": 161,
   "id": "e9beabd9-1238-41fe-be74-98c111093f26",
   "metadata": {},
   "outputs": [],
   "source": [
    "# cos_BPI_BPP = []\n",
    "# for i in range(len(BPI_time_series[0])):\n",
    "#     cos_BPI_BPP.append(np.array([\n",
    "#         cos_sim(BPI_time_series[j][i], -BPP_time_series[j][i]) for j in range(0, len(BPI_time_series), 10)\n",
    "#                            ]))\n",
    "    \n",
    "# cos_WIP_WPP = []\n",
    "# for i in range(len(WIP_time_series[0])):\n",
    "#     cos_WIP_WPP.append(np.array([\n",
    "#         cos_sim(WIP_time_series[j][i], WPP_time_series[j][i+1]) for j in range(0, len(WIP_time_series), 10)\n",
    "#                            ]))\n",
    "    \n",
    "mc2.cos_WPPtrans_BPP = []\n",
    "for i in range(len(mc2.BPP_time_series[0])):\n",
    "    mc2.cos_WPPtrans_BPP.append(np.array([\n",
    "        cos_sim(mc2.BPP_time_series[j][i], WPP_init[i+1].T) for j in range(0, len(mc2.BPP_time_series), 1)\n",
    "                           ]))"
   ]
  },
  {
   "cell_type": "markdown",
   "id": "0054a858-ae2e-4603-a94b-94c27a2722d2",
   "metadata": {},
   "source": [
    "BPP at init:"
   ]
  },
  {
   "cell_type": "code",
   "execution_count": 162,
   "id": "c5ff0efa-e54f-4f6e-8db4-2abf2260d996",
   "metadata": {},
   "outputs": [],
   "source": [
    "# mc2.BPP_time_series[0][0]"
   ]
  },
  {
   "cell_type": "markdown",
   "id": "8e09da2e-2b25-4c4f-8f12-0d6f0d46130f",
   "metadata": {},
   "source": [
    "BPP after learning:"
   ]
  },
  {
   "cell_type": "code",
   "execution_count": 163,
   "id": "386ff3df-4b74-401f-8b84-e66b6dcab40d",
   "metadata": {},
   "outputs": [],
   "source": [
    "# mc2.BPP_time_series[-1][0]"
   ]
  },
  {
   "cell_type": "markdown",
   "id": "0a30ad67-75aa-4d6a-ab0b-f9f20802a4b6",
   "metadata": {},
   "source": [
    "WPP^T (fixed):"
   ]
  },
  {
   "cell_type": "code",
   "execution_count": 164,
   "id": "40edebd7-9efa-46d6-8bee-ad3af97bb447",
   "metadata": {},
   "outputs": [],
   "source": [
    "# mc2.WPP_time_series[0][1].T"
   ]
  },
  {
   "cell_type": "code",
   "execution_count": 165,
   "id": "966c1444-2242-4ab6-82da-ce28f6069aa7",
   "metadata": {},
   "outputs": [
    {
     "data": {
      "application/vnd.jupyter.widget-view+json": {
       "model_id": "e22a86956d5a49d09365bb2dd761b451",
       "version_major": 2,
       "version_minor": 0
      },
      "image/png": "[encoded data removed]",
      "text/html": [
       "\n",
       "            <div style=\"display: inline-block;\">\n",
       "                <div class=\"jupyter-widgets widget-label\" style=\"text-align: center;\">\n",
       "                    Figure\n",
       "                </div>\n",
       "                <img src='data:image/png;base64,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' width=640.0/>\n",
       "            </div>\n",
       "        "
      ],
      "text/plain": [
       "Canvas(toolbar=Toolbar(toolitems=[('Home', 'Reset original view', 'home', 'home'), ('Back', 'Back to previous …"
      ]
     },
     "metadata": {},
     "output_type": "display_data"
    }
   ],
   "source": [
    "for i in range(len(layers[1:-1])):\n",
    "    fig, ax = plt.subplots()\n",
    "    ax.plot(mc2.cos_WPPtrans_BPP[i])\n",
    "    plt.yscale('linear')\n",
    "    label = 'ms'\n",
    "    plt.xlabel(label)\n",
    "    plt.title('$\\cos(B^\\mathrm{PP}, (W^\\mathrm{PP})^T)$ to layer ' + str(i+1))\n",
    "    plt.ylim(-1.1,1.1)\n",
    "    plt.show()\n",
    "    \n",
    "\n",
    "    # fig, ax = plt.subplots()\n",
    "    # ax.plot([WPP_init[i+1].T.ravel() for WPP in BPP_time_series], label=\"WPP.T\")\n",
    "    # ax.plot([BPP[i].ravel() for BPP in BPP_time_series], label=\"BPP\", linestyle=\"--\")\n",
    "    # plt.yscale('linear')\n",
    "    # label = 'dt'\n",
    "    # plt.xlabel(label)\n",
    "    # plt.ylabel(\"B\")\n",
    "    # plt.legend()\n",
    "    # # plt.title('$\\cos(W^\\mathrm{IP}, W^\\mathrm{PP})$ to layer ' + str(i+1))\n",
    "    # plt.show()"
   ]
  },
  {
   "cell_type": "code",
   "execution_count": 166,
   "id": "fb9aa42d-a209-4058-995a-23ccc852642e",
   "metadata": {},
   "outputs": [],
   "source": [
    "# for i in range(len(layers[1:-1])):\n",
    "#     fig, ax = plt.subplots()\n",
    "#     ax.plot(cos_BPI_BPP[i], label='$\\cos(B^\\mathrm{PI}, -B^\\mathrm{PP})$ to layer ' + str(i+1))\n",
    "#     # ax.plot(cos_rIbreveBPI_rPbreveBPP[i], label='$\\cos(r^\\mathrm{PI}, -r^\\mathrm{PP})$ to layer ' + str(i+1))\n",
    "#     plt.yscale('linear')\n",
    "#     label = '10 dt'\n",
    "#     plt.xlabel(label)\n",
    "#     plt.legend()\n",
    "#     plt.ylim(-1.1,1.1)\n",
    "#     plt.show()\n",
    "    \n",
    "\n",
    "# fig, ax = plt.subplots()\n",
    "# ax.plot(np.array(BPI_time_series).ravel(), label=\"BPI\")\n",
    "# ax.plot(-np.array(BPP_time_series).ravel(), label=\"BPP\")\n",
    "# plt.yscale('linear')\n",
    "# label = 'dt'\n",
    "# plt.xlabel(label)\n",
    "# plt.ylabel(\"B\")\n",
    "# plt.legend()\n",
    "# # plt.title('$\\cos(W^\\mathrm{IP}, W^\\mathrm{PP})$ to layer ' + str(i+1))\n",
    "# plt.show()"
   ]
  },
  {
   "cell_type": "code",
   "execution_count": 167,
   "id": "e51feba4-953b-4376-8489-b9c62a34de62",
   "metadata": {},
   "outputs": [],
   "source": [
    "# for i in range(len(layers[1:-1])):\n",
    "#     fig, ax = plt.subplots()\n",
    "#     ax.plot(cos_WIP_WPP[i])\n",
    "#     plt.yscale('linear')\n",
    "#     label = '10 dt'\n",
    "#     plt.xlabel(label)\n",
    "#     plt.title('$\\cos(W^\\mathrm{IP}, W^\\mathrm{PP})$ to layer ' + str(i+1))\n",
    "#     plt.ylim(-1.1,1.1)\n",
    "#     plt.show()\n",
    "\n",
    "\n",
    "# fig, ax = plt.subplots()\n",
    "# ax.plot(np.array([WPP[1] for WPP in WPP_time_series]).ravel())\n",
    "# ax.plot(np.array(WIP_time_series).ravel())\n",
    "# plt.yscale('linear')\n",
    "# label = 'dt'\n",
    "# # plt.legend()\n",
    "# plt.xlabel(label)\n",
    "# plt.show()"
   ]
  },
  {
   "cell_type": "code",
   "execution_count": null,
   "id": "eaae6dfc-ec18-485e-9682-d0eab7dff822",
   "metadata": {},
   "outputs": [],
   "source": []
  },
  {
   "cell_type": "code",
   "execution_count": null,
   "id": "b25dab15-e7c4-4840-8926-701b0f41813c",
   "metadata": {},
   "outputs": [],
   "source": []
  }
 ],
 "metadata": {
  "kernelspec": {
   "display_name": "Python 3 (ipykernel)",
   "language": "python",
   "name": "python3"
  },
  "language_info": {
   "codemirror_mode": {
    "name": "ipython",
    "version": 3
   },
   "file_extension": ".py",
   "mimetype": "text/x-python",
   "name": "python",
   "nbconvert_exporter": "python",
   "pygments_lexer": "ipython3",
   "version": "3.8.5"
  }
 },
 "nbformat": 4,
 "nbformat_minor": 5
}
