{
 "cells": [
  {
   "cell_type": "markdown",
   "id": "41d5b0df-2879-49fc-8eae-160ea963dd28",
   "metadata": {},
   "source": [
    "# Demo of RtDeep"
   ]
  },
  {
   "cell_type": "markdown",
   "id": "d318c0ad-52d2-4631-a0dd-7703e5ebde21",
   "metadata": {},
   "source": [
    "We define a simple network using RtDeep with microcircuits.\n",
    "\n",
    "Task: learn to reproduce output of a teacher network.\n",
    "\n",
    "The model uses real time dynamics with Euler integration, LE, dendritic error propagation and a phased implementation of DTP-DRL."
   ]
  },
  {
   "cell_type": "markdown",
   "id": "a2d019a7-1085-4c6d-8e5c-d2a7719d1d18",
   "metadata": {},
   "source": [
    "## Definitions"
   ]
  },
  {
   "cell_type": "code",
   "execution_count": 1,
   "id": "f40c50ca-c52c-437a-8c00-fc9e43aa380c",
   "metadata": {},
   "outputs": [],
   "source": [
    "%matplotlib widget\n",
    "\n",
    "import numpy as np\n",
    "import pylab as plt\n",
    "plt.rc('text', usetex=True)\n",
    "plt.rc('font', size=12,family='serif')\n",
    "import matplotlib.gridspec as gridspec\n",
    "from matplotlib.ticker import FormatStrFormatter\n",
    "from microcircuit import *\n",
    "import sys\n",
    "import pandas as pd\n",
    "\n",
    "\n",
    "#load autoreload, which automatically reloads the microcircuit.py upon execution\n",
    "%reload_ext autoreload\n",
    "%autoreload 1\n",
    "%aimport microcircuit"
   ]
  },
  {
   "cell_type": "markdown",
   "id": "9d46fc23-7546-4119-a840-e0c269f376e2",
   "metadata": {
    "tags": []
   },
   "source": [
    "## Adding noise, and filtering it out again"
   ]
  },
  {
   "cell_type": "markdown",
   "id": "de16238a-5b25-47f8-a6cf-c68648ec4d69",
   "metadata": {},
   "source": [
    "We add phased noise to one layer and filter it out again, s.t. synaptic plasticity remains the same."
   ]
  },
  {
   "cell_type": "markdown",
   "id": "164e65b5-9d6c-4ad9-a181-14ce67e47bb3",
   "metadata": {
    "tags": []
   },
   "source": [
    "### Setup"
   ]
  },
  {
   "cell_type": "code",
   "execution_count": 33,
   "id": "e2aa1676-0cce-412d-bcfd-c82983afe6b7",
   "metadata": {},
   "outputs": [],
   "source": [
    "# simulation settings\n",
    "\n",
    "dt     = 1e-4 # in ms\n",
    "dtxi   = 10 * dt\n",
    "tausyn = 100 * dt\n",
    "Tpres  = 1e+4 * dt\n",
    "Tbw    = 1 * Tpres # time scale of phases for backward weight learning\n",
    "Ttot   = 30 * Tpres # total simulation time\n",
    "\n",
    "# noise settings\n",
    "noise_scale = [5*1e-7]"
   ]
  },
  {
   "cell_type": "code",
   "execution_count": 34,
   "id": "6947bf99-293a-4438-af54-637602eff1bd",
   "metadata": {},
   "outputs": [],
   "source": [
    "np.random.seed(1234)\n",
    "\n",
    "# Init model: weights, voltages\n",
    "\n",
    "layers = [1, 1, 1]\n",
    "\n",
    "# conductances\n",
    "gl = 0.03\n",
    "gbas = 0.1\n",
    "gapi = 0.06\n",
    "gden = 0.1\n",
    "gnI = 0.06\n",
    "gntgt = 0.06\n",
    "\n",
    "# learning rates in 1/ms\n",
    "eta_fw = [0.0] * (len(layers) - 1)\n",
    "eta_bw = [200.0] * (len(layers) - 2)\n",
    "eta_IP = [40.0] * (len(layers) - 1)\n",
    "eta_PI = [50.0] * (len(layers) - 1)\n",
    "\n",
    "# regularizer for backward weight learning\n",
    "alpha = [1e-3]\n",
    "\n",
    "# initialise voltages\n",
    "uP_init = []\n",
    "for i in range(1, len(layers)):\n",
    "    uP_init.append(np.random.normal(0, 1, size=layers[i]))\n",
    "    \n",
    "uI_init = [np.random.normal(0, 1, size=layers[-1])]\n",
    "    \n",
    "# forward pp weights: connects all layers k, k+1\n",
    "WPP_init = []\n",
    "for i in range(len(layers)-1):\n",
    "    WPP_init.append(np.random.uniform(-1, 1, size=(layers[i+1], layers[i])))\n",
    "\n",
    "# p to inter: connects N-1 to N\n",
    "WIP_init = [np.random.uniform(-1, 1, size=(layers[-1], layers[-2]))]\n",
    "\n",
    "# backwards p to p: connects N to k\n",
    "BPP_init = []\n",
    "for i in range(1, len(layers)-1):\n",
    "    BPP_init.append(np.random.uniform(-1, 1, size=(layers[i], layers[-1])))\n",
    "\n",
    "# backwards inter to p: connects N to k\n",
    "BPI_init = []\n",
    "for i in range(1, len(layers)-1):\n",
    "    BPI_init.append(np.random.uniform(-1, 1, size=(layers[i], layers[-1])))"
   ]
  },
  {
   "cell_type": "code",
   "execution_count": 35,
   "id": "fc6e5355-088c-483d-9282-47d79101a291",
   "metadata": {},
   "outputs": [],
   "source": [
    "# input rates: step functions in the form of random inputs held for Tpres\n",
    "\n",
    "r0_random = np.random.uniform(0, 1, size=(int(Ttot / Tpres), layers[0]))\n",
    "r0_random = np.repeat(r0_random, int(Tpres / dt), axis=0)"
   ]
  },
  {
   "cell_type": "code",
   "execution_count": 36,
   "id": "eb220df7-6e9c-4528-ac85-f82585b73a78",
   "metadata": {},
   "outputs": [],
   "source": [
    "mc1 = phased_noise_model(dt, dtxi, tausyn, Tbw, Tpres, noise_scale, alpha, 'LDRL', logistic, d_logistic, layers,\n",
    "            uP_init=uP_init, uI_init=uI_init,\n",
    "            WPP_init=WPP_init, WIP_init=WIP_init, BPP_init=BPP_init, BPI_init=BPI_init,\n",
    "            gl=gl, gden=gden, gbas=gbas, gapi=gapi, gnI=gnI, gntgt=gntgt,\n",
    "            eta_fw=eta_fw, eta_bw=eta_bw, eta_PI=eta_PI, eta_IP=eta_IP)\n",
    "\n",
    "# mc1.set_self_predicting_state()"
   ]
  },
  {
   "cell_type": "markdown",
   "id": "37a2e8fa-de8f-48ce-aaa1-1a536d0c8f9d",
   "metadata": {
    "tags": []
   },
   "source": [
    "### Simulation"
   ]
  },
  {
   "cell_type": "code",
   "execution_count": 37,
   "id": "b6ff4a8b-bd40-4719-a195-1d378cb15566",
   "metadata": {},
   "outputs": [],
   "source": [
    "# # pre-training to settle voltages\n",
    "# for i in range(len(r0_random)):\n",
    "#     mc1.evolve_system(r0=r0_random[i], learn_weights=False, learn_bw_weights=False)"
   ]
  },
  {
   "cell_type": "code",
   "execution_count": null,
   "id": "264ee71c-0f63-4931-a728-46a45c7b5511",
   "metadata": {},
   "outputs": [
    {
     "name": "stdout",
     "output_type": "stream",
     "text": [
      "Current time: 0s\n",
      "Learning backward weights to layer 1\n",
      "Current time: 1.0s\n",
      "Learning backward weights to layer 1\n",
      "Current time: 2.0s\n",
      "Learning backward weights to layer 1\n"
     ]
    }
   ],
   "source": [
    "u_time_series = []\n",
    "uIbreve_time_series = []\n",
    "uPbreve_time_series = []\n",
    "rIbreve_time_series = []\n",
    "rPbreve_time_series = []\n",
    "rPbreve_HI_time_series = []\n",
    "\n",
    "WPP_time_series = []\n",
    "BPP_time_series = []\n",
    "WIP_time_series = []\n",
    "BPI_time_series = []\n",
    "\n",
    "for i in range(len(r0_random)):\n",
    "    mc1.evolve_system(r0=r0_random[i], learn_weights=True, learn_bw_weights=True)\n",
    "    \n",
    "    uIbreve_time_series.append(copy.deepcopy(mc1.uI_breve))\n",
    "    uPbreve_time_series.append(copy.deepcopy(mc1.uP_breve))\n",
    "    rIbreve_time_series.append(copy.deepcopy(mc1.rI_breve))\n",
    "    rPbreve_time_series.append(copy.deepcopy(mc1.rP_breve))\n",
    "    u_time_series.append(copy.deepcopy(mc1.get_voltages()))\n",
    "\n",
    "    rPbreve_HI_time_series.append(copy.deepcopy(mc1.rP_breve_HI))\n",
    "    WPP, WIP, BPP, BPI = mc1.get_weights()\n",
    "    WPP_time_series.append(copy.deepcopy(WPP))\n",
    "    BPP_time_series.append(copy.deepcopy(BPP))\n",
    "    WIP_time_series.append(copy.deepcopy(WIP))\n",
    "    BPI_time_series.append(copy.deepcopy(BPI))\n",
    "        \n",
    "uP_time_series = [u[0] for u in u_time_series]\n",
    "uI_time_series = [u[1] for u in u_time_series]"
   ]
  },
  {
   "cell_type": "code",
   "execution_count": null,
   "id": "ab487d08-f984-4058-9be4-5427367950a3",
   "metadata": {},
   "outputs": [],
   "source": [
    "fig = plt.figure()\n",
    "uP = [uP[0] for uP in uPbreve_time_series]\n",
    "plt.plot(np.array(uP[int(Tpres/dt):]).ravel())\n",
    "plt.show()\n",
    "\n",
    "fig = plt.figure()\n",
    "uP = [uP[1] for uP in uPbreve_time_series]\n",
    "plt.plot(np.array(uP[int(Tpres/dt):]).ravel())\n",
    "plt.plot(np.array(uIbreve_time_series[int(Tpres/dt):]).ravel())\n",
    "plt.xlabel('dt')\n",
    "plt.show()\n",
    "\n",
    "\n",
    "fig = plt.figure()\n",
    "rPbreve_HI = [rPbreve_HI[1] for rPbreve_HI in rPbreve_HI_time_series]\n",
    "plt.plot(np.array(rPbreve_HI[int(Tpres/dt):]).ravel(), label=\"rPbreveHI\")\n",
    "plt.xlabel('dt')\n",
    "plt.legend()\n",
    "plt.show()"
   ]
  },
  {
   "cell_type": "markdown",
   "id": "2d6eec12-8857-4e5b-96fe-b01246d5d0dd",
   "metadata": {},
   "source": [
    "Now, let's also check that BPI has converged onto -BPP and WIP onto WPP:"
   ]
  },
  {
   "cell_type": "code",
   "execution_count": null,
   "id": "01eecb68-6b3b-4776-bc99-d65889bafdcd",
   "metadata": {},
   "outputs": [],
   "source": [
    "len(BPP_time_series)"
   ]
  },
  {
   "cell_type": "code",
   "execution_count": null,
   "id": "9d590dc4-2ab5-4d6a-9bed-76175a083d2b",
   "metadata": {},
   "outputs": [],
   "source": [
    "cos_BPI_BPP = []\n",
    "for i in range(len(BPI_time_series[0])):\n",
    "    cos_BPI_BPP.append(np.array([\n",
    "        cos_sim(BPI_time_series[j][i], -BPP_time_series[j][i]) for j in range(len(BPI_time_series))\n",
    "                           ]))\n",
    "    \n",
    "cos_WIP_WPP = []\n",
    "for i in range(len(WIP_time_series[0])):\n",
    "    cos_WIP_WPP.append(np.array([\n",
    "        cos_sim(WIP_time_series[j][i], WPP_time_series[j][i+1]) for j in range(len(WIP_time_series))\n",
    "                           ]))\n",
    "    \n",
    "cos_WPPtrans_BPP = []\n",
    "for i in range(len(BPP_time_series[0])):\n",
    "    cos_WPPtrans_BPP.append(np.array([\n",
    "        cos_sim(BPP_time_series[j][i], WPP_time_series[j][i+1].T) for j in range(len(BPP_time_series))\n",
    "                           ]))"
   ]
  },
  {
   "cell_type": "code",
   "execution_count": null,
   "id": "2827d482-36e1-47ee-8ab1-08d4b0f6d12c",
   "metadata": {},
   "outputs": [],
   "source": [
    "for i in range(len(layers[1:-1])):\n",
    "    fig, ax = plt.subplots()\n",
    "    ax.plot(cos_WPPtrans_BPP[i])\n",
    "    plt.yscale('linear')\n",
    "    label = 'dt'\n",
    "    plt.xlabel(label)\n",
    "    plt.title('$\\cos(B^\\mathrm{PP}, (W^\\mathrm{PP})^T)$ to layer ' + str(i+1))\n",
    "    plt.show()\n",
    "    \n",
    "\n",
    "fig, ax = plt.subplots()\n",
    "ax.plot(np.array([WPP[1].T for WPP in WPP_time_series]).ravel(), label=\"WPP.T\")\n",
    "ax.plot(np.array(BPP_time_series).ravel(), label=\"BPP\")\n",
    "plt.yscale('linear')\n",
    "label = 'dt'\n",
    "plt.xlabel(label)\n",
    "plt.ylabel(\"B\")\n",
    "plt.legend()\n",
    "# plt.title('$\\cos(W^\\mathrm{IP}, W^\\mathrm{PP})$ to layer ' + str(i+1))\n",
    "plt.show()"
   ]
  },
  {
   "cell_type": "code",
   "execution_count": null,
   "id": "1a1eab01-8673-4abe-a7fd-ead4760500c6",
   "metadata": {},
   "outputs": [],
   "source": [
    "for i in range(len(layers[1:-1])):\n",
    "    fig, ax = plt.subplots()\n",
    "    ax.plot(cos_BPI_BPP[i])\n",
    "    plt.yscale('linear')\n",
    "    label = 'dt'\n",
    "    plt.xlabel(label)\n",
    "    plt.title('$\\cos(B^\\mathrm{PI}, -B^\\mathrm{PP})$ to layer ' + str(i+1))\n",
    "    plt.show()\n",
    "    \n",
    "\n",
    "fig, ax = plt.subplots()\n",
    "ax.plot(np.array(BPI_time_series).ravel(), label=\"BPI\")\n",
    "ax.plot(-np.array(BPP_time_series).ravel(), label=\"BPP\")\n",
    "plt.yscale('linear')\n",
    "label = 'dt'\n",
    "plt.xlabel(label)\n",
    "plt.ylabel(\"B\")\n",
    "plt.legend()\n",
    "# plt.title('$\\cos(W^\\mathrm{IP}, W^\\mathrm{PP})$ to layer ' + str(i+1))\n",
    "plt.show()"
   ]
  },
  {
   "cell_type": "code",
   "execution_count": null,
   "id": "23e36f23-8f65-4afb-9d0a-6f1ddbe11530",
   "metadata": {},
   "outputs": [],
   "source": [
    "for i in range(len(layers[1:-1])):\n",
    "    fig, ax = plt.subplots()\n",
    "    ax.plot(cos_WIP_WPP[i])\n",
    "    plt.yscale('linear')\n",
    "    label = 'dt'\n",
    "    plt.xlabel(label)\n",
    "    plt.title('$\\cos(W^\\mathrm{IP}, W^\\mathrm{PP})$ to layer ' + str(i+1))\n",
    "    plt.show()\n",
    "\n",
    "\n",
    "fig, ax = plt.subplots()\n",
    "ax.plot(np.array([WPP[1] for WPP in WPP_time_series]).ravel())\n",
    "ax.plot(np.array(WIP_time_series).ravel())\n",
    "plt.yscale('linear')\n",
    "label = 'dt'\n",
    "# plt.legend()\n",
    "plt.xlabel(label)\n",
    "plt.show()"
   ]
  },
  {
   "cell_type": "code",
   "execution_count": null,
   "id": "f2676bc1-4490-4f8f-9b3a-97c84a810162",
   "metadata": {},
   "outputs": [],
   "source": []
  },
  {
   "cell_type": "code",
   "execution_count": null,
   "id": "82141763-800c-4d34-819b-4251779b5875",
   "metadata": {},
   "outputs": [],
   "source": []
  }
 ],
 "metadata": {
  "kernelspec": {
   "display_name": "Python 3 (ipykernel)",
   "language": "python",
   "name": "python3"
  },
  "language_info": {
   "codemirror_mode": {
    "name": "ipython",
    "version": 3
   },
   "file_extension": ".py",
   "mimetype": "text/x-python",
   "name": "python",
   "nbconvert_exporter": "python",
   "pygments_lexer": "ipython3",
   "version": "3.8.5"
  }
 },
 "nbformat": 4,
 "nbformat_minor": 5
}
