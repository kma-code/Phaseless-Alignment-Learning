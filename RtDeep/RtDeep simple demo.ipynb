{
 "cells": [
  {
   "cell_type": "markdown",
   "id": "41d5b0df-2879-49fc-8eae-160ea963dd28",
   "metadata": {},
   "source": [
    "# Demo of RtDeep"
   ]
  },
  {
   "cell_type": "markdown",
   "id": "d318c0ad-52d2-4631-a0dd-7703e5ebde21",
   "metadata": {},
   "source": [
    "We define a simple network using RtDeep with microcircuits.\n",
    "\n",
    "Task: mapping a 1-D signal in time onto another 1-D signal.\n",
    "\n",
    "The model uses real time dynamics with Euler integration, LE, dendritic error propagation and a phased implementation of DTP-DRL."
   ]
  },
  {
   "cell_type": "markdown",
   "id": "a2d019a7-1085-4c6d-8e5c-d2a7719d1d18",
   "metadata": {},
   "source": [
    "## Definitions"
   ]
  },
  {
   "cell_type": "code",
   "execution_count": 1,
   "id": "f40c50ca-c52c-437a-8c00-fc9e43aa380c",
   "metadata": {},
   "outputs": [],
   "source": [
    "%matplotlib notebook\n",
    "\n",
    "import numpy as np\n",
    "import pylab as plt\n",
    "plt.rc('text', usetex=True)\n",
    "plt.rc('font', size=18,family='serif')\n",
    "import matplotlib.gridspec as gridspec\n",
    "from matplotlib.ticker import FormatStrFormatter\n",
    "from microcircuit import *\n",
    "import sys\n",
    "\n",
    "\n",
    "#load autoreload, which automatically reloads the microcircuit.py upon execution\n",
    "%reload_ext autoreload\n",
    "%autoreload 1\n",
    "%aimport microcircuit"
   ]
  },
  {
   "cell_type": "code",
   "execution_count": 2,
   "id": "181471db-6dbb-406a-b2e1-057f6860e2a8",
   "metadata": {},
   "outputs": [],
   "source": [
    "# simulation settings\n",
    "\n",
    "dt = 0.01 # in ms\n",
    "tauxi = 10 * dt\n",
    "Tpres = 100 * dt"
   ]
  },
  {
   "cell_type": "code",
   "execution_count": 151,
   "id": "01fbd7e4-53b5-4275-aca5-98f930042b72",
   "metadata": {},
   "outputs": [],
   "source": [
    "# Init model: weights, voltages\n",
    "\n",
    "layers = [1, 2, 3, 4]\n",
    "\n",
    "# conductances\n",
    "gl = 0.03\n",
    "gbas = 0.1\n",
    "gapi = 0.06\n",
    "gden = 0.1\n",
    "gnI = 0.06\n",
    "gntgt = 0.06\n",
    "\n",
    "# initialise voltages\n",
    "uP_init = []\n",
    "for i in range(1, len(layers)):\n",
    "    uP_init.append(np.random.normal(0, 1, size=layers[i]))\n",
    "    \n",
    "uI_init = [np.random.normal(0, 1, size=layers[-1])]\n",
    "    \n",
    "# forward pp weights: connects all layers k, k+1\n",
    "WPP_init = []\n",
    "for i in range(len(layers)-1):\n",
    "    WPP_init.append(np.random.normal(0, 1, size=(layers[i+1], layers[i])))\n",
    "\n",
    "# p to inter: connects N-1 to N\n",
    "WIP_init = [np.random.normal(0, 1, size=(layers[-1], layers[-2]))]\n",
    "\n",
    "# backwards p to p: connects N to k\n",
    "BPP_init = []\n",
    "for i in range(len(layers)-1):\n",
    "    BPP_init.append(np.random.normal(0, 1, size=(layers[i], layers[-1])))\n",
    "\n",
    "# backwards inter to p: connects N to k\n",
    "BPI_init = []\n",
    "for i in range(len(layers)-1):\n",
    "    BPI_init.append(np.random.normal(0, 1, size=(layers[i], layers[-1])))"
   ]
  },
  {
   "cell_type": "code",
   "execution_count": 152,
   "id": "fc6e5355-088c-483d-9282-47d79101a291",
   "metadata": {},
   "outputs": [],
   "source": [
    "# input rates: zero for now\n",
    "\n",
    "r0 = np.zeros(shape=(int(Tpres / dt * 10), layers[0]))"
   ]
  },
  {
   "cell_type": "code",
   "execution_count": 153,
   "id": "eb220df7-6e9c-4528-ac85-f82585b73a78",
   "metadata": {},
   "outputs": [],
   "source": [
    "mc1 = model(dt, tauxi, Tpres, 'FA', relu, d_relu, layers, uP_init, uI_init, WPP_init, WIP_init, BPP_init, BPI_init,\n",
    "            gl=gl, gden=gden, gbas=gbas, gapi=gapi, gnI=gnI, gntgt=gntgt)"
   ]
  },
  {
   "cell_type": "markdown",
   "id": "9d46fc23-7546-4119-a840-e0c269f376e2",
   "metadata": {},
   "source": [
    "## Test self-predicting dynamics (no target)"
   ]
  },
  {
   "cell_type": "code",
   "execution_count": 154,
   "id": "117f861a-640c-400c-a0ca-05d6d6669c3f",
   "metadata": {},
   "outputs": [],
   "source": [
    "mc1.set_self_predicting_state()"
   ]
  },
  {
   "cell_type": "code",
   "execution_count": 155,
   "id": "f2233dc4-e23c-4954-9ab7-472645deb0f3",
   "metadata": {},
   "outputs": [
    {
     "data": {
      "text/plain": [
       "([array([-0.66880624,  1.33312975]),\n",
       "  array([-0.13684279, -1.00268295,  0.05522704]),\n",
       "  array([-0.42855275, -0.32584572, -1.03219156,  0.76398363])],\n",
       " [array([ 1.94784151, -1.09901399,  1.46673554,  0.43653691])])"
      ]
     },
     "execution_count": 155,
     "metadata": {},
     "output_type": "execute_result"
    }
   ],
   "source": [
    "mc1.get_voltages()"
   ]
  },
  {
   "cell_type": "code",
   "execution_count": 165,
   "id": "6fb4f638-8fc3-4b4e-89de-e419abc5cc42",
   "metadata": {},
   "outputs": [],
   "source": [
    "mc1.evolve_voltages()"
   ]
  },
  {
   "cell_type": "code",
   "execution_count": 161,
   "id": "264ee71c-0f63-4931-a728-46a45c7b5511",
   "metadata": {},
   "outputs": [],
   "source": [
    "u_time_series = []\n",
    "for j in range(100):\n",
    "    u_time_series.append(copy.deepcopy(mc1.get_voltages()))\n",
    "    for i in range(100):\n",
    "        mc1.evolve_voltages()"
   ]
  },
  {
   "cell_type": "code",
   "execution_count": 157,
   "id": "24c53268-2345-43cd-8942-6e86318f6811",
   "metadata": {},
   "outputs": [],
   "source": [
    "uI_time_series = [u[-1] for u in u_time_series]"
   ]
  },
  {
   "cell_type": "code",
   "execution_count": 158,
   "id": "e01f2586-73cd-45ba-802f-6c90071c7032",
   "metadata": {},
   "outputs": [],
   "source": [
    "# uI_time_series"
   ]
  },
  {
   "cell_type": "code",
   "execution_count": 164,
   "id": "e08f3c9e-8a29-481a-b513-160f02525265",
   "metadata": {},
   "outputs": [
    {
     "data": {
      "text/plain": [
       "[array([ 1.56865909e-08,  5.77463847e-08, -1.77713083e-07, -3.27326250e-07])]"
      ]
     },
     "execution_count": 164,
     "metadata": {},
     "output_type": "execute_result"
    }
   ],
   "source": [
    "mc1.uI_breve"
   ]
  },
  {
   "cell_type": "code",
   "execution_count": 160,
   "id": "44f8478a-618a-4a4b-9629-d4fc6a69d997",
   "metadata": {},
   "outputs": [
    {
     "data": {
      "text/plain": [
       "[array([-0.66858349,  1.33011869]),\n",
       " array([-0.13756484, -0.99931229,  0.05503083]),\n",
       " array([-0.42771921, -0.32523134, -1.03018931,  0.76253387])]"
      ]
     },
     "execution_count": 160,
     "metadata": {},
     "output_type": "execute_result"
    }
   ],
   "source": [
    "mc1.uP"
   ]
  },
  {
   "cell_type": "code",
   "execution_count": null,
   "id": "f97a3d55-d7a3-402f-8d1f-c9ef8279db58",
   "metadata": {},
   "outputs": [],
   "source": []
  }
 ],
 "metadata": {
  "kernelspec": {
   "display_name": "Python 3 (ipykernel)",
   "language": "python",
   "name": "python3"
  },
  "language_info": {
   "codemirror_mode": {
    "name": "ipython",
    "version": 3
   },
   "file_extension": ".py",
   "mimetype": "text/x-python",
   "name": "python",
   "nbconvert_exporter": "python",
   "pygments_lexer": "ipython3",
   "version": "3.8.5"
  }
 },
 "nbformat": 4,
 "nbformat_minor": 5
}
