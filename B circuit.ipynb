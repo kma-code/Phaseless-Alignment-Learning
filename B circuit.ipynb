{
 "cells": [
  {
   "cell_type": "markdown",
   "metadata": {},
   "source": [
    "# A short demo to show how B converges to the data-specific pseudoinverse of W"
   ]
  },
  {
   "cell_type": "code",
   "execution_count": 1,
   "metadata": {},
   "outputs": [],
   "source": [
    "import torch\n",
    "import torchvision\n",
    "import numpy as np"
   ]
  },
  {
   "cell_type": "markdown",
   "metadata": {},
   "source": [
    "Here we will show how gradient descent on the energy E = 1/2 ||r - B W r||^2 aligns B with the data-specific pseudoinverse of W. In this demo, we keep W fixed and assume only one data vector r."
   ]
  },
  {
   "cell_type": "code",
   "execution_count": 2,
   "metadata": {},
   "outputs": [],
   "source": [
    "# define the update rule for B\n",
    "def update_B(r, W, B):\n",
    "    grad_B = np.outer((- r + B @ W @ r), (W @ r).T)\n",
    "    return grad_B\n",
    "\n",
    "# define the data-specific pseudoinverse of W given the data vector r\n",
    "def ds_pinv(r, W):\n",
    "    gen_pseudo = np.outer(r,r.T) @ W.T / np.linalg.norm(W @ r)**2\n",
    "    return gen_pseudo\n",
    "\n",
    "# define the mismatch energy\n",
    "def mismatch_energy(r, W, B):\n",
    "    return .5 * np.linalg.norm(r - B @ W @ r)\n",
    "\n",
    "# Calculate the cosine similarity between two tensors\n",
    "# using the Frobenius inner product\n",
    "def cosine_similarity_tensors(A, B):\n",
    "    product = np.trace(A.T @ B)\n",
    "    norm = (np.trace(A.T @ A))**.5 * (np.trace(B.T @ B))**.5\n",
    "\n",
    "    # returns cos(theta)\n",
    "    return product / norm"
   ]
  },
  {
   "cell_type": "markdown",
   "metadata": {},
   "source": [
    "We are now ready to define our 'net', which here just means the matrices W and B. We do so for several examples: a small test net, and some larger nets."
   ]
  },
  {
   "cell_type": "markdown",
   "metadata": {},
   "source": [
    "# Test: small net with 3 -> 2# define parameters of net"
   ]
  },
  {
   "cell_type": "code",
   "execution_count": 3,
   "metadata": {},
   "outputs": [
    {
     "name": "stdout",
     "output_type": "stream",
     "text": [
      "mm energy after 50 steps: 0.16811798381712026\n",
      "mm energy after 100 steps: 0.25122203178845887\n",
      "mm energy after 150 steps: 0.3190872152670388\n",
      "mm energy after 200 steps: 0.36009661955323646\n",
      "mm energy after 250 steps: 0.3837688025833645\n",
      "mm energy after 300 steps: 0.3972484395606173\n",
      "plateau detected, reducing alpha to 1.0\n",
      "mm energy after 350 steps: 0.3743463324088366\n",
      "mm energy after 400 steps: 0.354051805566545\n",
      "mm energy after 450 steps: 0.3360679846031502\n",
      "mm energy after 500 steps: 0.3201317889909526\n",
      "mm energy after 550 steps: 0.30601008595826806\n",
      "mm energy after 600 steps: 0.29349628213666834\n",
      "mm energy after 650 steps: 0.2824073031232946\n",
      "mm energy after 700 steps: 0.2725809167682677\n",
      "mm energy after 750 steps: 0.26387336104004017\n",
      "plateau detected, reducing alpha to 0.1\n",
      "mm energy after 800 steps: 0.24690029745208325\n",
      "mm energy after 850 steps: 0.23116572951721123\n",
      "mm energy after 900 steps: 0.21657928654335862\n",
      "mm energy after 950 steps: 0.20305719202414485\n",
      "mm energy after 1000 steps: 0.19052178247246235\n",
      "mm energy after 1050 steps: 0.17890106136384298\n",
      "mm energy after 1100 steps: 0.16812828562771037\n",
      "mm energy after 1150 steps: 0.15814158231156533\n",
      "mm energy after 1200 steps: 0.14888359321644334\n",
      "mm energy after 1250 steps: 0.1403011454626492\n",
      "mm energy after 1300 steps: 0.13234494609368827\n",
      "mm energy after 1350 steps: 0.12496929896439167\n",
      "mm energy after 1400 steps: 0.11813184228721318\n",
      "mm energy after 1450 steps: 0.11179330532932562\n",
      "mm energy after 1500 steps: 0.10591728286314138\n",
      "mm energy after 1550 steps: 0.10047002607484182\n",
      "mm energy after 1600 steps: 0.09542024873002203\n",
      "mm energy after 1650 steps: 0.09073894748319374\n",
      "mm energy after 1700 steps: 0.08639923529910731\n",
      "mm energy after 1750 steps: 0.08237618702916683\n",
      "mm energy after 1800 steps: 0.07864669625601613\n",
      "mm energy after 1850 steps: 0.0751893425840848\n",
      "mm energy after 1900 steps: 0.07198426861387737\n",
      "mm energy after 1950 steps: 0.06901306589339928\n",
      "mm energy after 2000 steps: 0.06625866919166724\n",
      "mm energy after 2050 steps: 0.06370525848704714\n",
      "mm energy after 2100 steps: 0.06133816810746439\n",
      "mm energy after 2150 steps: 0.05914380250060813\n",
      "mm energy after 2200 steps: 0.05710955815032596\n",
      "mm energy after 2250 steps: 0.055223751190707965\n",
      "plateau detected, reducing alpha to 0.010000000000000002\n",
      "mm energy after 2300 steps: 0.0516540430663192\n",
      "mm energy after 2350 steps: 0.04832986298479954\n",
      "mm energy after 2400 steps: 0.04523432328830186\n",
      "mm energy after 2450 steps: 0.0423516978686744\n",
      "mm energy after 2500 steps: 0.03966734227493428\n",
      "mm energy after 2550 steps: 0.037167619315826524\n",
      "mm energy after 2600 steps: 0.03483982977951054\n",
      "mm energy after 2650 steps: 0.03267214791841486\n",
      "mm energy after 2700 steps: 0.030653561371504944\n",
      "mm energy after 2750 steps: 0.028773815218755362\n",
      "mm energy after 2800 steps: 0.027023359883610907\n",
      "mm energy after 2850 steps: 0.025393302618763696\n",
      "mm energy after 2900 steps: 0.023875362328786814\n",
      "mm energy after 2950 steps: 0.022461827500111012\n",
      "mm energy after 3000 steps: 0.02114551702461573\n",
      "mm energy after 3050 steps: 0.01991974371781304\n",
      "mm energy after 3100 steps: 0.018778280346283545\n",
      "mm energy after 3150 steps: 0.017715327991780553\n",
      "mm energy after 3200 steps: 0.016725486591276973\n",
      "mm energy after 3250 steps: 0.015803727503300655\n",
      "mm energy after 3300 steps: 0.014945367961180303\n",
      "mm energy after 3350 steps: 0.014146047283424024\n",
      "mm energy after 3400 steps: 0.013401704720367759\n",
      "mm energy after 3450 steps: 0.01270855882455854\n",
      "mm energy after 3500 steps: 0.012063088240057633\n",
      "mm energy after 3550 steps: 0.011462013813079718\n",
      "mm energy after 3600 steps: 0.010902281933077723\n",
      "mm energy after 3650 steps: 0.010381049019646732\n",
      "mm energy after 3700 steps: 0.009895667076436009\n",
      "mm energy after 3750 steps: 0.009443670238677853\n",
      "mm energy after 3800 steps: 0.009022762245993358\n",
      "mm energy after 3850 steps: 0.008630804776833962\n",
      "mm energy after 3900 steps: 0.0082658065852928\n",
      "mm energy after 3950 steps: 0.007925913385100571\n",
      "mm energy after 4000 steps: 0.007609398429412708\n",
      "mm energy after 4050 steps: 0.007314653738530236\n",
      "mm energy after 4100 steps: 0.007040181930988733\n",
      "mm energy after 4150 steps: 0.006784588616517907\n",
      "mm energy after 4200 steps: 0.00654657531221911\n",
      "mm energy after 4250 steps: 0.00632493284598119\n",
      "mm energy after 4300 steps: 0.006118535213613157\n",
      "plateau detected, reducing alpha to 0.0010000000000000002\n",
      "mm energy after 4350 steps: 0.005723133292966559\n",
      "mm energy after 4400 steps: 0.005354761538491192\n",
      "mm energy after 4450 steps: 0.005011572134533105\n",
      "mm energy after 4500 steps: 0.004691843584409605\n",
      "mm energy after 4550 steps: 0.004393972075087827\n",
      "mm energy after 4600 steps: 0.0041164634321836134\n",
      "mm energy after 4650 steps: 0.003857925624928108\n",
      "mm energy after 4700 steps: 0.003617061783503137\n",
      "mm energy after 4750 steps: 0.0033926636937215517\n",
      "mm energy after 4800 steps: 0.0031836057364165882\n",
      "mm energy after 4850 steps: 0.00298883924114501\n",
      "mm energy after 4900 steps: 0.0028073872258764063\n",
      "mm energy after 4950 steps: 0.0026383394962847207\n"
     ]
    }
   ],
   "source": [
    "# define parameters of net\n",
    "layers = [3, 2]\n",
    "steps = 5000\n",
    "bw_lr = 1e-3\n",
    "alpha = 1e+1\n",
    "alpha_decay = 1e-1\n",
    "\n",
    "# after how many steps to eval model\n",
    "per_steps = 50\n",
    "\n",
    "# init weights\n",
    "W = np.random.rand(layers[1],layers[0])\n",
    "B = np.random.rand(layers[0],layers[1])\n",
    "r = np.random.rand(layers[0])\n",
    "B0 = B.copy()\n",
    "B_array = []\n",
    "\n",
    "# keep W fixed, but change B\n",
    "mm_energy = []\n",
    "for i in range(steps):\n",
    "    B -= bw_lr * (update_B(r, W, B) + alpha * B)\n",
    "    B_array.append(B.copy())\n",
    "    \n",
    "    mm_energy.append(mismatch_energy(r, W, B))\n",
    "    \n",
    "    # every 50 steps, take average and see if energy doesn't move\n",
    "    if i % per_steps == 0 and i != 0:\n",
    "        print(f'mm energy after {i} steps: {mm_energy[-1]}')\n",
    "        if mm_energy[-1] < 1e-10:\n",
    "            print(\"reached precision of 10^-10\")\n",
    "            break\n",
    "        if np.sqrt(np.cov(mm_energy[-per_steps:])) < 1e-2 * np.mean(mm_energy[-per_steps:]):\n",
    "            alpha *= alpha_decay\n",
    "            print(f'plateau detected, reducing alpha to {alpha}')"
   ]
  },
  {
   "cell_type": "code",
   "execution_count": 4,
   "metadata": {},
   "outputs": [
    {
     "data": {
      "image/png": "[encoded data removed]",
      "text/plain": [
       "<Figure size 432x288 with 1 Axes>"
      ]
     },
     "metadata": {
      "needs_background": "light"
     },
     "output_type": "display_data"
    }
   ],
   "source": [
    "import matplotlib.pyplot as plt\n",
    "plt.plot(mm_energy)\n",
    "plt.yscale('log')\n",
    "plt.ylabel('mm energy')\n",
    "plt.show()"
   ]
  },
  {
   "cell_type": "code",
   "execution_count": 5,
   "metadata": {},
   "outputs": [
    {
     "data": {
      "image/png": "[encoded data removed]",
      "text/plain": [
       "<Figure size 432x288 with 1 Axes>"
      ]
     },
     "metadata": {
      "needs_background": "light"
     },
     "output_type": "display_data"
    }
   ],
   "source": [
    "cos_sim = [cosine_similarity_tensors(B_mat, ds_pinv(r, W)) for B_mat in B_array]\n",
    "    \n",
    "plt.plot(cos_sim)\n",
    "plt.ylabel('cosine similarity')\n",
    "plt.show()"
   ]
  },
  {
   "cell_type": "code",
   "execution_count": 6,
   "metadata": {},
   "outputs": [
    {
     "data": {
      "text/plain": [
       "array([[0.26813835, 0.35385586, 0.18577806],\n",
       "       [0.50392674, 0.65824502, 0.34859596],\n",
       "       [0.09792055, 0.12447975, 0.0674609 ]])"
      ]
     },
     "execution_count": 6,
     "metadata": {},
     "output_type": "execute_result"
    }
   ],
   "source": [
    "B_array[-1] @ W "
   ]
  },
  {
   "cell_type": "markdown",
   "metadata": {},
   "source": [
    "# A larger net with 100 -> 10"
   ]
  },
  {
   "cell_type": "code",
   "execution_count": 7,
   "metadata": {},
   "outputs": [
    {
     "name": "stdout",
     "output_type": "stream",
     "text": [
      "mm energy after 50 steps: 0.4345657723219456\n",
      "mm energy after 100 steps: 0.4345657723219456\n",
      "plateau detected, reducing alpha to 100.0\n",
      "mm energy after 150 steps: 0.05074601264526916\n",
      "mm energy after 200 steps: 0.050746012645269116\n",
      "plateau detected, reducing alpha to 10.0\n",
      "mm energy after 250 steps: 0.005161175162890863\n",
      "mm energy after 300 steps: 0.005161175162890863\n",
      "plateau detected, reducing alpha to 1.0\n",
      "mm energy after 350 steps: 0.0005169995297203915\n",
      "mm energy after 400 steps: 0.0005169995297204287\n",
      "plateau detected, reducing alpha to 0.1\n",
      "mm energy after 450 steps: 5.170878968961085e-05\n",
      "mm energy after 500 steps: 5.170878968956767e-05\n",
      "plateau detected, reducing alpha to 0.010000000000000002\n",
      "mm energy after 550 steps: 5.1709673527107075e-06\n",
      "mm energy after 600 steps: 5.17096735270214e-06\n",
      "plateau detected, reducing alpha to 0.0010000000000000002\n",
      "mm energy after 650 steps: 5.170976191892848e-07\n",
      "mm energy after 700 steps: 5.170976190720666e-07\n",
      "plateau detected, reducing alpha to 0.00010000000000000003\n",
      "mm energy after 750 steps: 5.170977077109465e-08\n",
      "mm energy after 800 steps: 5.170977069408895e-08\n",
      "plateau detected, reducing alpha to 1.0000000000000004e-05\n",
      "mm energy after 850 steps: 5.170977137438284e-09\n",
      "mm energy after 900 steps: 5.1709771444221265e-09\n",
      "plateau detected, reducing alpha to 1.0000000000000004e-06\n",
      "mm energy after 950 steps: 5.170977029595202e-10\n",
      "mm energy after 1000 steps: 5.17097701827401e-10\n",
      "plateau detected, reducing alpha to 1.0000000000000005e-07\n",
      "mm energy after 1050 steps: 5.170975170383052e-11\n",
      "mm energy after 1100 steps: 5.170974328785515e-11\n",
      "plateau detected, reducing alpha to 1.0000000000000005e-08\n",
      "mm energy after 1150 steps: 5.170956790791788e-12\n",
      "mm energy after 1200 steps: 5.170999681005207e-12\n",
      "plateau detected, reducing alpha to 1.0000000000000005e-09\n",
      "mm energy after 1250 steps: 5.171176402945893e-13\n",
      "mm energy after 1300 steps: 5.170951887868494e-13\n",
      "plateau detected, reducing alpha to 1.0000000000000006e-10\n",
      "mm energy after 1350 steps: 5.177608100740146e-14\n",
      "mm energy after 1400 steps: 5.177723022236193e-14\n",
      "plateau detected, reducing alpha to 1.0000000000000006e-11\n",
      "mm energy after 1450 steps: 5.244363086262583e-15\n",
      "mm energy after 1500 steps: 5.24436491191799e-15\n",
      "plateau detected, reducing alpha to 1.0000000000000006e-12\n",
      "mm energy after 1550 steps: 5.806978839937048e-16\n",
      "mm energy after 1600 steps: 5.806978839937048e-16\n",
      "plateau detected, reducing alpha to 1.0000000000000007e-13\n",
      "mm energy after 1650 steps: 1.408895588953471e-16\n",
      "mm energy after 1700 steps: 1.408895588953471e-16\n",
      "mm energy after 1750 steps: 1.408895588953471e-16\n",
      "mm energy after 1800 steps: 1.408895588953471e-16\n",
      "mm energy after 1850 steps: 1.408895588953471e-16\n",
      "mm energy after 1900 steps: 1.408895588953471e-16\n",
      "mm energy after 1950 steps: 1.408895588953471e-16\n",
      "mm energy after 2000 steps: 1.408895588953471e-16\n",
      "mm energy after 2050 steps: 1.408895588953471e-16\n",
      "mm energy after 2100 steps: 1.408895588953471e-16\n",
      "mm energy after 2150 steps: 1.408895588953471e-16\n",
      "mm energy after 2200 steps: 1.408895588953471e-16\n",
      "mm energy after 2250 steps: 1.408895588953471e-16\n",
      "mm energy after 2300 steps: 1.408895588953471e-16\n",
      "mm energy after 2350 steps: 1.408895588953471e-16\n",
      "mm energy after 2400 steps: 1.408895588953471e-16\n",
      "mm energy after 2450 steps: 1.408895588953471e-16\n",
      "mm energy after 2500 steps: 1.408895588953471e-16\n",
      "mm energy after 2550 steps: 1.408895588953471e-16\n",
      "mm energy after 2600 steps: 1.408895588953471e-16\n",
      "mm energy after 2650 steps: 1.408895588953471e-16\n",
      "mm energy after 2700 steps: 1.408895588953471e-16\n",
      "mm energy after 2750 steps: 1.408895588953471e-16\n",
      "mm energy after 2800 steps: 1.408895588953471e-16\n",
      "mm energy after 2850 steps: 1.408895588953471e-16\n",
      "mm energy after 2900 steps: 1.408895588953471e-16\n",
      "mm energy after 2950 steps: 1.408895588953471e-16\n",
      "mm energy after 3000 steps: 1.408895588953471e-16\n",
      "mm energy after 3050 steps: 1.408895588953471e-16\n",
      "mm energy after 3100 steps: 1.408895588953471e-16\n",
      "mm energy after 3150 steps: 1.408895588953471e-16\n",
      "mm energy after 3200 steps: 1.408895588953471e-16\n",
      "mm energy after 3250 steps: 1.408895588953471e-16\n",
      "mm energy after 3300 steps: 1.408895588953471e-16\n",
      "mm energy after 3350 steps: 1.408895588953471e-16\n",
      "mm energy after 3400 steps: 1.408895588953471e-16\n",
      "mm energy after 3450 steps: 1.408895588953471e-16\n",
      "mm energy after 3500 steps: 1.408895588953471e-16\n",
      "mm energy after 3550 steps: 1.408895588953471e-16\n",
      "mm energy after 3600 steps: 1.408895588953471e-16\n",
      "mm energy after 3650 steps: 1.408895588953471e-16\n",
      "mm energy after 3700 steps: 1.408895588953471e-16\n",
      "mm energy after 3750 steps: 1.408895588953471e-16\n",
      "mm energy after 3800 steps: 1.408895588953471e-16\n",
      "mm energy after 3850 steps: 1.408895588953471e-16\n",
      "mm energy after 3900 steps: 1.408895588953471e-16\n",
      "mm energy after 3950 steps: 1.408895588953471e-16\n",
      "mm energy after 4000 steps: 1.408895588953471e-16\n",
      "mm energy after 4050 steps: 1.408895588953471e-16\n",
      "mm energy after 4100 steps: 1.408895588953471e-16\n",
      "mm energy after 4150 steps: 1.408895588953471e-16\n",
      "mm energy after 4200 steps: 1.408895588953471e-16\n",
      "mm energy after 4250 steps: 1.408895588953471e-16\n",
      "mm energy after 4300 steps: 1.408895588953471e-16\n",
      "mm energy after 4350 steps: 1.408895588953471e-16\n",
      "mm energy after 4400 steps: 1.408895588953471e-16\n",
      "mm energy after 4450 steps: 1.408895588953471e-16\n",
      "mm energy after 4500 steps: 1.408895588953471e-16\n",
      "mm energy after 4550 steps: 1.408895588953471e-16\n",
      "mm energy after 4600 steps: 1.408895588953471e-16\n",
      "mm energy after 4650 steps: 1.408895588953471e-16\n",
      "mm energy after 4700 steps: 1.408895588953471e-16\n",
      "mm energy after 4750 steps: 1.408895588953471e-16\n",
      "mm energy after 4800 steps: 1.408895588953471e-16\n",
      "mm energy after 4850 steps: 1.408895588953471e-16\n",
      "mm energy after 4900 steps: 1.408895588953471e-16\n",
      "mm energy after 4950 steps: 1.408895588953471e-16\n"
     ]
    }
   ],
   "source": [
    "# define parameters of net\n",
    "layers = [100, 10]\n",
    "steps = 5000\n",
    "bw_lr = 1e-4\n",
    "alpha = 1e+3\n",
    "alpha_decay = 1e-1\n",
    "\n",
    "# after how many steps to eval model\n",
    "per_steps = 50\n",
    "\n",
    "# init weights\n",
    "W = np.random.rand(layers[1],layers[0])\n",
    "B = np.random.rand(layers[0],layers[1])\n",
    "r = np.random.rand(layers[0])\n",
    "B0 = B.copy()\n",
    "B_array = []\n",
    "\n",
    "# keep W fixed, but change B\n",
    "mm_energy = []\n",
    "for i in range(steps):\n",
    "    B -= bw_lr * (update_B(r, W, B) + alpha * B)\n",
    "    B_array.append(B.copy())\n",
    "    \n",
    "    mm_energy.append(mismatch_energy(r, W, B))\n",
    "    \n",
    "    # every 50 steps, take average and see if energy doesn't move\n",
    "    if i % per_steps == 0 and i != 0:\n",
    "        if np.isnan(mm_energy[-1]) or np.isinf(mm_energy[-1]):\n",
    "            raise ValueError('mm energy inf or nan')\n",
    "        print(f'mm energy after {i} steps: {mm_energy[-1]}')\n",
    "        if mm_energy[-1] < 1e-20:\n",
    "            print(\"reached precision of 10^-20\")\n",
    "            break\n",
    "        if np.sqrt(np.cov(mm_energy[-per_steps:])) < 1e-2 * np.mean(mm_energy[-per_steps:]):\n",
    "            alpha *= alpha_decay\n",
    "            print(f'plateau detected, reducing alpha to {alpha}')"
   ]
  },
  {
   "cell_type": "code",
   "execution_count": 8,
   "metadata": {},
   "outputs": [
    {
     "data": {
      "image/png": "[encoded data removed]",
      "text/plain": [
       "<Figure size 432x288 with 1 Axes>"
      ]
     },
     "metadata": {
      "needs_background": "light"
     },
     "output_type": "display_data"
    }
   ],
   "source": [
    "import matplotlib.pyplot as plt\n",
    "plt.plot(mm_energy)\n",
    "plt.yscale('log')\n",
    "plt.ylabel('mm energy')\n",
    "plt.show()"
   ]
  },
  {
   "cell_type": "code",
   "execution_count": 9,
   "metadata": {},
   "outputs": [
    {
     "data": {
      "image/png": "[encoded data removed]",
      "text/plain": [
       "<Figure size 432x288 with 1 Axes>"
      ]
     },
     "metadata": {
      "needs_background": "light"
     },
     "output_type": "display_data"
    }
   ],
   "source": [
    "cos_sim = [cosine_similarity_tensors(B_mat, ds_pinv(r, W)) for B_mat in B_array]\n",
    "    \n",
    "plt.plot(cos_sim)\n",
    "plt.ylabel('cosine similarity')\n",
    "plt.show()"
   ]
  },
  {
   "cell_type": "markdown",
   "metadata": {},
   "source": [
    "# The inverse: 10 -> 100"
   ]
  },
  {
   "cell_type": "code",
   "execution_count": 10,
   "metadata": {},
   "outputs": [
    {
     "name": "stdout",
     "output_type": "stream",
     "text": [
      "mm energy after 50 steps: 0.10946633892530927\n",
      "mm energy after 100 steps: 0.10946633892530941\n",
      "plateau detected, reducing alpha to 10.0\n",
      "mm energy after 150 steps: 0.012159717935446592\n",
      "mm energy after 200 steps: 0.012159717935446509\n",
      "plateau detected, reducing alpha to 1.0\n",
      "mm energy after 250 steps: 0.0012295979517695879\n",
      "mm energy after 300 steps: 0.0012295979517695003\n",
      "plateau detected, reducing alpha to 0.1\n",
      "mm energy after 350 steps: 0.00012309773828293442\n",
      "mm energy after 400 steps: 0.0001230977382828375\n",
      "plateau detected, reducing alpha to 0.010000000000000002\n",
      "mm energy after 450 steps: 1.2311154961773427e-05\n",
      "mm energy after 500 steps: 1.2311154961773466e-05\n",
      "plateau detected, reducing alpha to 0.0010000000000000002\n",
      "mm energy after 550 steps: 1.231129309229956e-06\n",
      "mm energy after 600 steps: 1.2311293091545211e-06\n",
      "plateau detected, reducing alpha to 0.00010000000000000003\n",
      "mm energy after 650 steps: 1.231130690025585e-07\n",
      "mm energy after 700 steps: 1.2311306903757484e-07\n",
      "plateau detected, reducing alpha to 1.0000000000000004e-05\n",
      "mm energy after 750 steps: 1.2311308295718004e-08\n",
      "mm energy after 800 steps: 1.2311308320111668e-08\n",
      "plateau detected, reducing alpha to 1.0000000000000004e-06\n",
      "mm energy after 850 steps: 1.231130816152842e-09\n",
      "mm energy after 900 steps: 1.2311308674661727e-09\n",
      "plateau detected, reducing alpha to 1.0000000000000005e-07\n",
      "mm energy after 950 steps: 1.2311309455704097e-10\n",
      "mm energy after 1000 steps: 1.2311306896316907e-10\n",
      "plateau detected, reducing alpha to 1.0000000000000005e-08\n",
      "mm energy after 1050 steps: 1.23112977609742e-11\n",
      "mm energy after 1100 steps: 1.2311310394990296e-11\n",
      "plateau detected, reducing alpha to 1.0000000000000005e-09\n",
      "mm energy after 1150 steps: 1.2311151086099995e-12\n",
      "mm energy after 1200 steps: 1.2311221378067296e-12\n",
      "plateau detected, reducing alpha to 1.0000000000000006e-10\n",
      "mm energy after 1250 steps: 1.2311133790270825e-13\n",
      "mm energy after 1300 steps: 1.2309901309504653e-13\n",
      "plateau detected, reducing alpha to 1.0000000000000006e-11\n",
      "mm energy after 1350 steps: 1.2321437886196114e-14\n",
      "mm energy after 1400 steps: 1.2300568827262683e-14\n",
      "plateau detected, reducing alpha to 1.0000000000000006e-12\n",
      "mm energy after 1450 steps: 1.224021671371647e-15\n",
      "mm energy after 1500 steps: 1.224021671371647e-15\n",
      "plateau detected, reducing alpha to 1.0000000000000007e-13\n",
      "mm energy after 1550 steps: 1.6482611831264015e-16\n",
      "mm energy after 1600 steps: 1.3387750201192774e-16\n",
      "mm energy after 1650 steps: 1.3387750201192774e-16\n",
      "mm energy after 1700 steps: 1.3387750201192774e-16\n",
      "mm energy after 1750 steps: 1.3387750201192774e-16\n",
      "mm energy after 1800 steps: 1.3387750201192774e-16\n",
      "mm energy after 1850 steps: 1.2182650628633384e-16\n",
      "mm energy after 1900 steps: 1.3387750201192774e-16\n",
      "mm energy after 1950 steps: 1.3387750201192774e-16\n",
      "mm energy after 2000 steps: 1.3387750201192774e-16\n",
      "mm energy after 2050 steps: 1.3387750201192774e-16\n",
      "plateau detected, reducing alpha to 1.0000000000000008e-14\n",
      "mm energy after 2100 steps: 6.206335383118183e-17\n",
      "plateau detected, reducing alpha to 1.0000000000000009e-15\n",
      "mm energy after 2150 steps: 6.206335383118183e-17\n",
      "plateau detected, reducing alpha to 1.000000000000001e-16\n",
      "mm energy after 2200 steps: 6.206335383118183e-17\n",
      "plateau detected, reducing alpha to 1.000000000000001e-17\n",
      "mm energy after 2250 steps: 6.206335383118183e-17\n",
      "plateau detected, reducing alpha to 1.000000000000001e-18\n",
      "mm energy after 2300 steps: 6.206335383118183e-17\n",
      "plateau detected, reducing alpha to 1.000000000000001e-19\n",
      "mm energy after 2350 steps: 6.206335383118183e-17\n",
      "plateau detected, reducing alpha to 1.0000000000000011e-20\n",
      "mm energy after 2400 steps: 6.206335383118183e-17\n",
      "plateau detected, reducing alpha to 1.0000000000000012e-21\n",
      "mm energy after 2450 steps: 6.206335383118183e-17\n",
      "plateau detected, reducing alpha to 1.0000000000000012e-22\n",
      "mm energy after 2500 steps: 6.206335383118183e-17\n",
      "plateau detected, reducing alpha to 1.0000000000000013e-23\n",
      "mm energy after 2550 steps: 6.206335383118183e-17\n",
      "plateau detected, reducing alpha to 1.0000000000000014e-24\n",
      "mm energy after 2600 steps: 6.206335383118183e-17\n",
      "plateau detected, reducing alpha to 1.0000000000000014e-25\n",
      "mm energy after 2650 steps: 6.206335383118183e-17\n",
      "plateau detected, reducing alpha to 1.0000000000000015e-26\n",
      "mm energy after 2700 steps: 6.206335383118183e-17\n",
      "plateau detected, reducing alpha to 1.0000000000000015e-27\n",
      "mm energy after 2750 steps: 6.206335383118183e-17\n",
      "plateau detected, reducing alpha to 1.0000000000000015e-28\n",
      "mm energy after 2800 steps: 6.206335383118183e-17\n",
      "plateau detected, reducing alpha to 1.0000000000000016e-29\n",
      "mm energy after 2850 steps: 6.206335383118183e-17\n",
      "plateau detected, reducing alpha to 1.0000000000000017e-30\n",
      "mm energy after 2900 steps: 6.206335383118183e-17\n",
      "plateau detected, reducing alpha to 1.0000000000000016e-31\n",
      "mm energy after 2950 steps: 6.206335383118183e-17\n",
      "plateau detected, reducing alpha to 1.0000000000000017e-32\n",
      "mm energy after 3000 steps: 6.206335383118183e-17\n",
      "plateau detected, reducing alpha to 1.0000000000000018e-33\n",
      "mm energy after 3050 steps: 6.206335383118183e-17\n",
      "plateau detected, reducing alpha to 1.0000000000000019e-34\n",
      "mm energy after 3100 steps: 6.206335383118183e-17\n",
      "plateau detected, reducing alpha to 1.0000000000000019e-35\n",
      "mm energy after 3150 steps: 6.206335383118183e-17\n",
      "plateau detected, reducing alpha to 1.000000000000002e-36\n",
      "mm energy after 3200 steps: 6.206335383118183e-17\n",
      "plateau detected, reducing alpha to 1.000000000000002e-37\n",
      "mm energy after 3250 steps: 6.206335383118183e-17\n",
      "plateau detected, reducing alpha to 1.000000000000002e-38\n",
      "mm energy after 3300 steps: 6.206335383118183e-17\n",
      "plateau detected, reducing alpha to 1.000000000000002e-39\n",
      "mm energy after 3350 steps: 6.206335383118183e-17\n",
      "plateau detected, reducing alpha to 1.0000000000000022e-40\n",
      "mm energy after 3400 steps: 6.206335383118183e-17\n",
      "plateau detected, reducing alpha to 1.0000000000000022e-41\n",
      "mm energy after 3450 steps: 6.206335383118183e-17\n",
      "plateau detected, reducing alpha to 1.0000000000000023e-42\n",
      "mm energy after 3500 steps: 6.206335383118183e-17\n",
      "plateau detected, reducing alpha to 1.0000000000000023e-43\n",
      "mm energy after 3550 steps: 6.206335383118183e-17\n",
      "plateau detected, reducing alpha to 1.0000000000000023e-44\n",
      "mm energy after 3600 steps: 6.206335383118183e-17\n",
      "plateau detected, reducing alpha to 1.0000000000000023e-45\n",
      "mm energy after 3650 steps: 6.206335383118183e-17\n",
      "plateau detected, reducing alpha to 1.0000000000000024e-46\n",
      "mm energy after 3700 steps: 6.206335383118183e-17\n",
      "plateau detected, reducing alpha to 1.0000000000000024e-47\n",
      "mm energy after 3750 steps: 6.206335383118183e-17\n",
      "plateau detected, reducing alpha to 1.0000000000000024e-48\n",
      "mm energy after 3800 steps: 6.206335383118183e-17\n",
      "plateau detected, reducing alpha to 1.0000000000000024e-49\n",
      "mm energy after 3850 steps: 6.206335383118183e-17\n",
      "plateau detected, reducing alpha to 1.0000000000000025e-50\n",
      "mm energy after 3900 steps: 6.206335383118183e-17\n",
      "plateau detected, reducing alpha to 1.0000000000000025e-51\n",
      "mm energy after 3950 steps: 6.206335383118183e-17\n",
      "plateau detected, reducing alpha to 1.0000000000000026e-52\n",
      "mm energy after 4000 steps: 6.206335383118183e-17\n",
      "plateau detected, reducing alpha to 1.0000000000000027e-53\n",
      "mm energy after 4050 steps: 6.206335383118183e-17\n",
      "plateau detected, reducing alpha to 1.0000000000000028e-54\n",
      "mm energy after 4100 steps: 6.206335383118183e-17\n",
      "plateau detected, reducing alpha to 1.0000000000000029e-55\n",
      "mm energy after 4150 steps: 6.206335383118183e-17\n",
      "plateau detected, reducing alpha to 1.000000000000003e-56\n",
      "mm energy after 4200 steps: 6.206335383118183e-17\n",
      "plateau detected, reducing alpha to 1.000000000000003e-57\n",
      "mm energy after 4250 steps: 6.206335383118183e-17\n",
      "plateau detected, reducing alpha to 1.0000000000000032e-58\n",
      "mm energy after 4300 steps: 6.206335383118183e-17\n",
      "plateau detected, reducing alpha to 1.0000000000000033e-59\n",
      "mm energy after 4350 steps: 6.206335383118183e-17\n",
      "plateau detected, reducing alpha to 1.0000000000000034e-60\n",
      "mm energy after 4400 steps: 6.206335383118183e-17\n",
      "plateau detected, reducing alpha to 1.0000000000000035e-61\n",
      "mm energy after 4450 steps: 6.206335383118183e-17\n",
      "plateau detected, reducing alpha to 1.0000000000000035e-62\n",
      "mm energy after 4500 steps: 6.206335383118183e-17\n",
      "plateau detected, reducing alpha to 1.0000000000000036e-63\n",
      "mm energy after 4550 steps: 6.206335383118183e-17\n",
      "plateau detected, reducing alpha to 1.0000000000000037e-64\n",
      "mm energy after 4600 steps: 6.206335383118183e-17\n",
      "plateau detected, reducing alpha to 1.0000000000000037e-65\n",
      "mm energy after 4650 steps: 6.206335383118183e-17\n",
      "plateau detected, reducing alpha to 1.0000000000000038e-66\n",
      "mm energy after 4700 steps: 6.206335383118183e-17\n",
      "plateau detected, reducing alpha to 1.0000000000000039e-67\n",
      "mm energy after 4750 steps: 6.206335383118183e-17\n",
      "plateau detected, reducing alpha to 1.000000000000004e-68\n",
      "mm energy after 4800 steps: 6.206335383118183e-17\n",
      "plateau detected, reducing alpha to 1.0000000000000041e-69\n",
      "mm energy after 4850 steps: 6.206335383118183e-17\n",
      "plateau detected, reducing alpha to 1.0000000000000042e-70\n",
      "mm energy after 4900 steps: 6.206335383118183e-17\n",
      "plateau detected, reducing alpha to 1.0000000000000041e-71\n",
      "mm energy after 4950 steps: 6.206335383118183e-17\n",
      "plateau detected, reducing alpha to 1.0000000000000042e-72\n"
     ]
    }
   ],
   "source": [
    "# define parameters of net\n",
    "layers = [10, 100]\n",
    "steps = 5000\n",
    "bw_lr = 1e-3\n",
    "alpha = 1e+2\n",
    "alpha_decay = 1e-1\n",
    "\n",
    "# after how many steps to eval model\n",
    "per_steps = 50\n",
    "\n",
    "# init weights\n",
    "W = np.random.rand(layers[1],layers[0])\n",
    "B = np.random.rand(layers[0],layers[1])\n",
    "r = np.random.rand(layers[0])\n",
    "B0 = B.copy()\n",
    "B_array = []\n",
    "\n",
    "# keep W fixed, but change B\n",
    "mm_energy = []\n",
    "for i in range(steps):\n",
    "    B -= bw_lr * (update_B(r, W, B) + alpha * B)\n",
    "    B_array.append(B.copy())\n",
    "    \n",
    "    mm_energy.append(mismatch_energy(r, W, B))\n",
    "    \n",
    "    # every 50 steps, take average and see if energy doesn't move\n",
    "    if i % per_steps == 0 and i != 0:\n",
    "        if np.isnan(mm_energy[-1]) or np.isinf(mm_energy[-1]):\n",
    "            raise ValueError('mm energy inf or nan')\n",
    "        print(f'mm energy after {i} steps: {mm_energy[-1]}')\n",
    "        if mm_energy[-1] < 1e-20:\n",
    "            print(\"reached precision of 10^-20\")\n",
    "            break\n",
    "        if np.sqrt(np.cov(mm_energy[-per_steps:])) < 1e-2 * np.mean(mm_energy[-per_steps:]):\n",
    "            alpha *= alpha_decay\n",
    "            print(f'plateau detected, reducing alpha to {alpha}')"
   ]
  },
  {
   "cell_type": "code",
   "execution_count": 11,
   "metadata": {},
   "outputs": [
    {
     "data": {
      "image/png": "[encoded data removed]",
      "text/plain": [
       "<Figure size 432x288 with 1 Axes>"
      ]
     },
     "metadata": {
      "needs_background": "light"
     },
     "output_type": "display_data"
    }
   ],
   "source": [
    "import matplotlib.pyplot as plt\n",
    "plt.plot(mm_energy)\n",
    "plt.yscale('log')\n",
    "plt.ylabel('mm energy')\n",
    "plt.show()"
   ]
  },
  {
   "cell_type": "code",
   "execution_count": 12,
   "metadata": {},
   "outputs": [
    {
     "data": {
      "image/png": "[encoded data removed]",
      "text/plain": [
       "<Figure size 432x288 with 1 Axes>"
      ]
     },
     "metadata": {
      "needs_background": "light"
     },
     "output_type": "display_data"
    }
   ],
   "source": [
    "cos_sim = [cosine_similarity_tensors(B_mat, ds_pinv(r, W)) for B_mat in B_array]\n",
    "    \n",
    "plt.plot(cos_sim)\n",
    "plt.ylabel('cosine similarity')\n",
    "plt.show()"
   ]
  },
  {
   "cell_type": "markdown",
   "metadata": {},
   "source": [
    "# A realistic net with 784 -> 500"
   ]
  },
  {
   "cell_type": "code",
   "execution_count": 14,
   "metadata": {},
   "outputs": [
    {
     "name": "stdout",
     "output_type": "stream",
     "text": [
      "mm energy after 50 steps: 1892.1501243292635\n",
      "mm energy after 100 steps: 6.422853920703528\n",
      "mm energy after 150 steps: 0.43548792361535305\n",
      "mm energy after 200 steps: 0.4188650767454203\n",
      "mm energy after 250 steps: 0.41881218826393823\n",
      "plateau detected, reducing alpha to 100000.0\n",
      "mm energy after 300 steps: 0.04397940375685182\n",
      "mm energy after 350 steps: 0.04397353340505879\n",
      "plateau detected, reducing alpha to 10000.0\n",
      "mm energy after 400 steps: 0.004419784461532307\n",
      "mm energy after 450 steps: 0.004419432254965276\n",
      "plateau detected, reducing alpha to 1000.0\n",
      "mm energy after 500 steps: 0.000442198693964058\n",
      "mm energy after 550 steps: 0.0004421652347126312\n",
      "plateau detected, reducing alpha to 100.0\n",
      "mm energy after 600 steps: 4.422207358604494e-05\n",
      "mm energy after 650 steps: 4.421874479040212e-05\n",
      "plateau detected, reducing alpha to 10.0\n",
      "mm energy after 700 steps: 4.42222940226927e-06\n",
      "mm energy after 750 steps: 4.421896693627619e-06\n",
      "plateau detected, reducing alpha to 1.0\n",
      "mm energy after 800 steps: 4.422231607765337e-07\n",
      "mm energy after 850 steps: 4.4218989216547286e-07\n",
      "plateau detected, reducing alpha to 0.1\n",
      "mm energy after 900 steps: 4.422231834474889e-08\n",
      "mm energy after 950 steps: 4.421899247828485e-08\n",
      "plateau detected, reducing alpha to 0.010000000000000002\n",
      "mm energy after 1000 steps: 4.422231630801502e-09\n",
      "mm energy after 1050 steps: 4.421900324195499e-09\n",
      "plateau detected, reducing alpha to 0.0010000000000000002\n",
      "mm energy after 1100 steps: 4.422234090592596e-10\n",
      "mm energy after 1150 steps: 4.4219147861617706e-10\n",
      "plateau detected, reducing alpha to 0.00010000000000000003\n",
      "mm energy after 1200 steps: 4.42234526682349e-11\n",
      "mm energy after 1250 steps: 4.422054303189156e-11\n",
      "plateau detected, reducing alpha to 1.0000000000000004e-05\n",
      "mm energy after 1300 steps: 4.424257177542428e-12\n",
      "mm energy after 1350 steps: 4.423354295602547e-12\n",
      "plateau detected, reducing alpha to 1.0000000000000004e-06\n",
      "mm energy after 1400 steps: 4.441010190878602e-13\n",
      "mm energy after 1450 steps: 4.434439412690147e-13\n",
      "plateau detected, reducing alpha to 1.0000000000000005e-07\n",
      "mm energy after 1500 steps: 4.5953418593149746e-14\n",
      "mm energy after 1550 steps: 4.556080621189883e-14\n",
      "mm energy after 1600 steps: 4.547366291704652e-14\n",
      "mm energy after 1650 steps: 4.532632905147274e-14\n",
      "mm energy after 1700 steps: 4.5262346194199457e-14\n",
      "mm energy after 1750 steps: 4.521792964260318e-14\n",
      "mm energy after 1800 steps: 4.520416750014055e-14\n",
      "mm energy after 1850 steps: 4.5154441652308077e-14\n",
      "mm energy after 1900 steps: 4.5127667387241124e-14\n",
      "mm energy after 1950 steps: 4.5124559299000214e-14\n",
      "mm energy after 2000 steps: 4.5081165823172745e-14\n",
      "mm energy after 2050 steps: 4.5073359121107206e-14\n",
      "mm energy after 2100 steps: 4.504183539826083e-14\n",
      "mm energy after 2150 steps: 4.497928499101265e-14\n",
      "mm energy after 2200 steps: 4.5016857910003174e-14\n",
      "mm energy after 2250 steps: 4.499137843318643e-14\n",
      "mm energy after 2300 steps: 4.504370793478797e-14\n",
      "mm energy after 2350 steps: 4.4935337214886237e-14\n",
      "mm energy after 2400 steps: 4.4970054617508736e-14\n",
      "mm energy after 2450 steps: 4.4955336847075305e-14\n",
      "mm energy after 2500 steps: 4.495180415287193e-14\n",
      "mm energy after 2550 steps: 4.4942595155481684e-14\n",
      "mm energy after 2600 steps: 4.4896564205642706e-14\n",
      "mm energy after 2650 steps: 4.4948166232802675e-14\n",
      "mm energy after 2700 steps: 4.4930697780936423e-14\n",
      "mm energy after 2750 steps: 4.4927259344378155e-14\n",
      "mm energy after 2800 steps: 4.491655693026437e-14\n",
      "mm energy after 2850 steps: 4.490188856944946e-14\n",
      "mm energy after 2900 steps: 4.4858877518622205e-14\n",
      "mm energy after 2950 steps: 4.487860638481736e-14\n",
      "mm energy after 3000 steps: 4.492731183011454e-14\n",
      "mm energy after 3050 steps: 4.485934641127106e-14\n",
      "mm energy after 3100 steps: 4.488197365567816e-14\n",
      "mm energy after 3150 steps: 4.488608862474079e-14\n",
      "mm energy after 3200 steps: 4.490485161908039e-14\n",
      "mm energy after 3250 steps: 4.492565499066961e-14\n",
      "mm energy after 3300 steps: 4.489981424296262e-14\n",
      "mm energy after 3350 steps: 4.490103217348454e-14\n",
      "mm energy after 3400 steps: 4.4905807500354535e-14\n",
      "mm energy after 3450 steps: 4.487048150952151e-14\n",
      "mm energy after 3500 steps: 4.488691032715949e-14\n",
      "mm energy after 3550 steps: 4.492546175828442e-14\n",
      "mm energy after 3600 steps: 4.491331158857188e-14\n",
      "mm energy after 3650 steps: 4.492971772719123e-14\n",
      "mm energy after 3700 steps: 4.490406664064921e-14\n",
      "mm energy after 3750 steps: 4.4902683940161845e-14\n",
      "mm energy after 3800 steps: 4.491414600458985e-14\n",
      "mm energy after 3850 steps: 4.489544221605441e-14\n",
      "mm energy after 3900 steps: 4.494141832369929e-14\n",
      "mm energy after 3950 steps: 4.4924008498021076e-14\n",
      "mm energy after 4000 steps: 4.4891625803400056e-14\n",
      "mm energy after 4050 steps: 4.491316902141831e-14\n",
      "mm energy after 4100 steps: 4.488193409709138e-14\n",
      "mm energy after 4150 steps: 4.491496686918212e-14\n",
      "mm energy after 4200 steps: 4.48661559033808e-14\n",
      "mm energy after 4250 steps: 4.490263614200014e-14\n",
      "mm energy after 4300 steps: 4.4909497902684203e-14\n",
      "mm energy after 4350 steps: 4.4907098090404495e-14\n",
      "mm energy after 4400 steps: 4.4909590651202796e-14\n",
      "mm energy after 4450 steps: 4.487996168227807e-14\n",
      "mm energy after 4500 steps: 4.492949996084625e-14\n",
      "mm energy after 4550 steps: 4.488850546724236e-14\n",
      "mm energy after 4600 steps: 4.4899523300466643e-14\n",
      "mm energy after 4650 steps: 4.490785030042357e-14\n",
      "mm energy after 4700 steps: 4.4870346866754435e-14\n",
      "mm energy after 4750 steps: 4.4871265633606265e-14\n",
      "mm energy after 4800 steps: 4.48297178337478e-14\n",
      "mm energy after 4850 steps: 4.4877007609233885e-14\n",
      "mm energy after 4900 steps: 4.48520552263271e-14\n",
      "mm energy after 4950 steps: 4.4883510555212806e-14\n"
     ]
    }
   ],
   "source": [
    "# define parameters of net\n",
    "layers = [784, 500]\n",
    "steps = 5000\n",
    "bw_lr = 1e-7\n",
    "alpha = 1e+6\n",
    "alpha_decay = 1e-1\n",
    "\n",
    "# after how many steps to eval model\n",
    "per_steps = 50\n",
    "\n",
    "# init weights\n",
    "W = np.random.rand(layers[1],layers[0])\n",
    "B = np.random.rand(layers[0],layers[1])\n",
    "r = np.random.rand(layers[0])\n",
    "B0 = B.copy()\n",
    "B_array = []\n",
    "\n",
    "# keep W fixed, but change B\n",
    "mm_energy = []\n",
    "for i in range(steps):\n",
    "    B -= bw_lr * (update_B(r, W, B) + alpha * B)\n",
    "    B_array.append(B.copy())\n",
    "    \n",
    "    mm_energy.append(mismatch_energy(r, W, B))\n",
    "    \n",
    "    # every 50 steps, take average and see if energy doesn't move\n",
    "    if i % per_steps == 0 and i != 0:\n",
    "        if np.isnan(mm_energy[-1]) or np.isinf(mm_energy[-1]):\n",
    "            raise ValueError('mm energy inf or nan')\n",
    "        print(f'mm energy after {i} steps: {mm_energy[-1]}')\n",
    "        if mm_energy[-1] < 1e-20:\n",
    "            print(\"reached precision of 10^-20\")\n",
    "            break\n",
    "        if np.sqrt(np.cov(mm_energy[-per_steps:])) < 1e-2 * np.mean(mm_energy[-per_steps:]):\n",
    "            alpha *= alpha_decay\n",
    "            print(f'plateau detected, reducing alpha to {alpha}')"
   ]
  },
  {
   "cell_type": "code",
   "execution_count": 30,
   "metadata": {},
   "outputs": [
    {
     "data": {
      "image/png": "[encoded data removed]",
      "text/plain": [
       "<Figure size 432x288 with 1 Axes>"
      ]
     },
     "metadata": {
      "needs_background": "light"
     },
     "output_type": "display_data"
    }
   ],
   "source": [
    "import matplotlib.pyplot as plt\n",
    "plt.plot(mm_energy[1::50])\n",
    "plt.yscale('log')\n",
    "plt.ylabel('mm energy')\n",
    "plt.show()"
   ]
  },
  {
   "cell_type": "code",
   "execution_count": 29,
   "metadata": {},
   "outputs": [
    {
     "data": {
      "image/png": "[encoded data removed]",
      "text/plain": [
       "<Figure size 432x288 with 1 Axes>"
      ]
     },
     "metadata": {
      "needs_background": "light"
     },
     "output_type": "display_data"
    }
   ],
   "source": [
    "cos_sim = [cosine_similarity_tensors(B_mat, ds_pinv(r, W)) for B_mat in B_array[1::50]]\n",
    "    \n",
    "plt.plot(cos_sim)\n",
    "plt.ylabel('cosine similarity')\n",
    "plt.show()"
   ]
  },
  {
   "cell_type": "code",
   "execution_count": null,
   "metadata": {},
   "outputs": [],
   "source": []
  }
 ],
 "metadata": {
  "kernelspec": {
   "display_name": "Python 3",
   "language": "python",
   "name": "python3"
  },
  "language_info": {
   "codemirror_mode": {
    "name": "ipython",
    "version": 3
   },
   "file_extension": ".py",
   "mimetype": "text/x-python",
   "name": "python",
   "nbconvert_exporter": "python",
   "pygments_lexer": "ipython3",
   "version": "3.8.5"
  }
 },
 "nbformat": 4,
 "nbformat_minor": 4
}
