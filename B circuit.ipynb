{
 "cells": [
  {
   "cell_type": "markdown",
   "metadata": {},
   "source": [
    "# A short demo to show how B converges to the data-specific pseudoinverse of W"
   ]
  },
  {
   "cell_type": "code",
   "execution_count": 1,
   "metadata": {},
   "outputs": [],
   "source": [
    "import torch\n",
    "import torchvision\n",
    "import numpy as np"
   ]
  },
  {
   "cell_type": "markdown",
   "metadata": {},
   "source": [
    "Here we will show how gradient descent on the energy E = 1/2 ||r - B W r||^2 aligns B with the data-specific pseudoinverse of W. In this demo, we keep W fixed and assume only one data vector r."
   ]
  },
  {
   "cell_type": "code",
   "execution_count": 31,
   "metadata": {},
   "outputs": [],
   "source": [
    "# define the update rule for B\n",
    "def update_B(r, W, B):\n",
    "    grad_B = np.outer((- r + B @ W @ r), (W @ r).T)\n",
    "    return grad_B\n",
    "\n",
    "# define the data-specific pseudoinverse of W given the data vector r\n",
    "def ds_pinv(r, W):\n",
    "    gen_pseudo = np.outer(r,r.T) @ W.T / np.linalg.norm(W @ r)**2\n",
    "    return gen_pseudo\n",
    "\n",
    "# define the mismatch energy\n",
    "def mismatch_energy(r, W, B):\n",
    "    return .5 * np.linalg.norm(r - B @ W @ r)**2\n",
    "\n",
    "# Calculate the cosine similarity between two tensors\n",
    "# using the Frobenius inner product\n",
    "def cosine_similarity_tensors(A, B):\n",
    "    product = np.trace(A.T @ B)\n",
    "    norm = (np.trace(A.T @ A))**.5 * (np.trace(B.T @ B))**.5\n",
    "\n",
    "    # returns cos(theta)\n",
    "    return product / norm"
   ]
  },
  {
   "cell_type": "markdown",
   "metadata": {},
   "source": [
    "We are now ready to define our 'net', which here just means the matrices W and B. We do so for several examples: a small test net, and some larger nets."
   ]
  },
  {
   "cell_type": "markdown",
   "metadata": {},
   "source": [
    "# Test: small net with 3 -> 2"
   ]
  },
  {
   "cell_type": "code",
   "execution_count": 32,
   "metadata": {},
   "outputs": [
    {
     "name": "stdout",
     "output_type": "stream",
     "text": [
      "mm energy after 50 steps: 0.32671996941857245\n",
      "mm energy after 100 steps: 0.28679153343618874\n",
      "mm energy after 150 steps: 0.32811333680453747\n",
      "mm energy after 200 steps: 0.3726407551825971\n",
      "mm energy after 250 steps: 0.4049022819611777\n",
      "mm energy after 300 steps: 0.42555787856590416\n",
      "mm energy after 350 steps: 0.43808333129383265\n",
      "plateau detected, reducing alpha to 1.0\n",
      "mm energy after 400 steps: 0.39739670392375315\n",
      "mm energy after 450 steps: 0.36253092624822375\n",
      "mm energy after 500 steps: 0.3325693344775825\n",
      "mm energy after 550 steps: 0.30675108338964513\n",
      "mm energy after 600 steps: 0.28444323683764955\n",
      "mm energy after 650 steps: 0.2651180208759397\n",
      "mm energy after 700 steps: 0.2483342666841488\n",
      "mm energy after 750 steps: 0.23372225567058266\n",
      "mm energy after 800 steps: 0.22097132888242543\n",
      "mm energy after 850 steps: 0.20981974395118297\n",
      "mm energy after 900 steps: 0.20004636075439666\n",
      "mm energy after 950 steps: 0.1914638162199951\n",
      "mm energy after 1000 steps: 0.18391291282497482\n",
      "mm energy after 1050 steps: 0.17725799724332783\n",
      "mm energy after 1100 steps: 0.17138314762039872\n",
      "plateau detected, reducing alpha to 0.1\n",
      "mm energy after 1150 steps: 0.15427375337585414\n",
      "mm energy after 1200 steps: 0.1390116893658854\n",
      "mm energy after 1250 steps: 0.12539052676021928\n",
      "mm energy after 1300 steps: 0.11322735535506469\n",
      "mm energy after 1350 steps: 0.1023600758302659\n",
      "mm energy after 1400 steps: 0.0926450054873616\n",
      "mm energy after 1450 steps: 0.08395476107094468\n",
      "mm energy after 1500 steps: 0.07617638650812672\n",
      "mm energy after 1550 steps: 0.06920969714077684\n",
      "mm energy after 1600 steps: 0.06296581532988109\n",
      "mm energy after 1650 steps: 0.057365875231507275\n",
      "mm energy after 1700 steps: 0.052339877124228246\n",
      "mm energy after 1750 steps: 0.04782567394801798\n",
      "mm energy after 1800 steps: 0.04376807472951584\n",
      "mm energy after 1850 steps: 0.04011805134905393\n",
      "mm energy after 1900 steps: 0.03683203667822562\n",
      "mm energy after 1950 steps: 0.03387130350716039\n",
      "mm energy after 2000 steps: 0.031201414909348538\n",
      "mm energy after 2050 steps: 0.02879173777765701\n",
      "mm energy after 2100 steps: 0.026615012224717405\n",
      "mm energy after 2150 steps: 0.024646970388848704\n",
      "mm energy after 2200 steps: 0.022865998936069408\n",
      "mm energy after 2250 steps: 0.021252840211045367\n",
      "mm energy after 2300 steps: 0.019790327575129055\n",
      "mm energy after 2350 steps: 0.0184631509869401\n",
      "mm energy after 2400 steps: 0.017257649338122617\n",
      "mm energy after 2450 steps: 0.016161626460988454\n",
      "mm energy after 2500 steps: 0.01516418808188943\n",
      "mm energy after 2550 steps: 0.014255597309824121\n",
      "mm energy after 2600 steps: 0.013427146528787222\n",
      "mm energy after 2650 steps: 0.012671043808987046\n",
      "mm energy after 2700 steps: 0.011980312170044603\n",
      "mm energy after 2750 steps: 0.01134870022198384\n",
      "mm energy after 2800 steps: 0.010770602880155886\n",
      "mm energy after 2850 steps: 0.010240991000824855\n",
      "mm energy after 2900 steps: 0.009755348917257928\n",
      "mm energy after 2950 steps: 0.009309618973850744\n",
      "mm energy after 3000 steps: 0.008900152259866477\n",
      "mm energy after 3050 steps: 0.008523664836360393\n",
      "mm energy after 3100 steps: 0.008177198831199004\n",
      "mm energy after 3150 steps: 0.007858087849006557\n",
      "mm energy after 3200 steps: 0.007563926206467169\n",
      "mm energy after 3250 steps: 0.007292541559653046\n",
      "mm energy after 3300 steps: 0.007041970539784969\n",
      "mm energy after 3350 steps: 0.006810437057820401\n",
      "plateau detected, reducing alpha to 0.010000000000000002\n",
      "mm energy after 3400 steps: 0.006128786355401132\n",
      "mm energy after 3450 steps: 0.005518150264113274\n",
      "mm energy after 3500 steps: 0.004970988889293782\n",
      "mm energy after 3550 steps: 0.004480571099739712\n",
      "mm energy after 3600 steps: 0.004040887307292621\n",
      "mm energy after 3650 steps: 0.003646571679083404\n",
      "mm energy after 3700 steps: 0.003292832760835371\n",
      "mm energy after 3750 steps: 0.002975391600351929\n",
      "mm energy after 3800 steps: 0.0026904265590348333\n",
      "mm energy after 3850 steps: 0.0024345240872986245\n",
      "mm energy after 3900 steps: 0.00220463481821919\n",
      "mm energy after 3950 steps: 0.0019980344037225377\n",
      "mm energy after 4000 steps: 0.0018122885799991832\n",
      "mm energy after 4050 steps: 0.0016452220044485778\n",
      "mm energy after 4100 steps: 0.0014948904560452207\n",
      "mm energy after 4150 steps: 0.0013595560352318956\n",
      "mm energy after 4200 steps: 0.0012376650388648883\n",
      "mm energy after 4250 steps: 0.001127828220882464\n",
      "mm energy after 4300 steps: 0.0010288031807062657\n",
      "mm energy after 4350 steps: 0.0009394786493246687\n",
      "mm energy after 4400 steps: 0.0008588604679202388\n",
      "mm energy after 4450 steps: 0.0007860590761154329\n",
      "mm energy after 4500 steps: 0.0007202783467157575\n",
      "mm energy after 4550 steps: 0.0006608056214888078\n",
      "mm energy after 4600 steps: 0.0006070028182622368\n",
      "mm energy after 4650 steps: 0.0005582984936639796\n",
      "mm energy after 4700 steps: 0.000514180758345334\n",
      "mm energy after 4750 steps: 0.0004741909526896852\n",
      "mm energy after 4800 steps: 0.0004379180009627177\n",
      "mm energy after 4850 steps: 0.0004049933707340528\n",
      "mm energy after 4900 steps: 0.00037508657231394564\n",
      "mm energy after 4950 steps: 0.0003479011400047249\n"
     ]
    }
   ],
   "source": [
    "# define parameters of net\n",
    "layers = [3, 2]\n",
    "steps = 5000\n",
    "bw_lr = 1e-3\n",
    "alpha = 1e+1\n",
    "alpha_decay = 1e-1\n",
    "\n",
    "# after how many steps to eval model\n",
    "per_steps = 50\n",
    "\n",
    "# init weights\n",
    "W = np.random.rand(layers[1],layers[0])\n",
    "B = np.random.rand(layers[0],layers[1])\n",
    "r = np.random.rand(layers[0])\n",
    "B0 = B.copy()\n",
    "B_array = []\n",
    "\n",
    "# keep W fixed, but change B\n",
    "mm_energy = []\n",
    "for i in range(steps):\n",
    "    B -= bw_lr * (update_B(r, W, B) + alpha * B)\n",
    "    B_array.append(B.copy())\n",
    "    \n",
    "    mm_energy.append(mismatch_energy(r, W, B))\n",
    "    \n",
    "    # every 50 steps, take average and see if energy doesn't move\n",
    "    if i % per_steps == 0 and i != 0:\n",
    "        print(f'mm energy after {i} steps: {mm_energy[-1]}')\n",
    "        if mm_energy[-1] < 1e-10:\n",
    "            print(\"reached precision of 10^-10\")\n",
    "            break\n",
    "        if np.sqrt(np.cov(mm_energy[-per_steps:])) < 1e-2 * np.mean(mm_energy[-per_steps:]):\n",
    "            alpha *= alpha_decay\n",
    "            print(f'plateau detected, reducing alpha to {alpha}')"
   ]
  },
  {
   "cell_type": "code",
   "execution_count": 33,
   "metadata": {},
   "outputs": [
    {
     "data": {
      "image/png": "[encoded data removed]",
      "text/plain": [
       "<Figure size 432x288 with 1 Axes>"
      ]
     },
     "metadata": {
      "needs_background": "light"
     },
     "output_type": "display_data"
    }
   ],
   "source": [
    "import matplotlib.pyplot as plt\n",
    "plt.plot(mm_energy)\n",
    "plt.yscale('log')\n",
    "plt.ylabel('mm energy')\n",
    "plt.show()"
   ]
  },
  {
   "cell_type": "code",
   "execution_count": 34,
   "metadata": {},
   "outputs": [
    {
     "data": {
      "image/png": "[encoded data removed]",
      "text/plain": [
       "<Figure size 432x288 with 1 Axes>"
      ]
     },
     "metadata": {
      "needs_background": "light"
     },
     "output_type": "display_data"
    }
   ],
   "source": [
    "cos_sim = [cosine_similarity_tensors(B_mat, ds_pinv(r, W)) for B_mat in B_array]\n",
    "    \n",
    "plt.plot(cos_sim)\n",
    "plt.ylabel('cosine similarity')\n",
    "plt.show()"
   ]
  },
  {
   "cell_type": "code",
   "execution_count": 35,
   "metadata": {},
   "outputs": [
    {
     "data": {
      "text/plain": [
       "array([[0.47954859, 0.32548549, 0.18644496],\n",
       "       [0.69871689, 0.47773238, 0.27048619],\n",
       "       [0.05463746, 0.03486331, 0.02198704]])"
      ]
     },
     "execution_count": 35,
     "metadata": {},
     "output_type": "execute_result"
    }
   ],
   "source": [
    "B_array[-1] @ W "
   ]
  },
  {
   "cell_type": "markdown",
   "metadata": {},
   "source": [
    "# A larger net with 100 -> 10"
   ]
  },
  {
   "cell_type": "code",
   "execution_count": 36,
   "metadata": {},
   "outputs": [
    {
     "name": "stdout",
     "output_type": "stream",
     "text": [
      "mm energy after 50 steps: 0.4011665410683836\n",
      "mm energy after 100 steps: 0.40116654106838384\n",
      "plateau detected, reducing alpha to 100.0\n",
      "mm energy after 150 steps: 0.005527636579651112\n",
      "mm energy after 200 steps: 0.0055276365796510995\n",
      "plateau detected, reducing alpha to 10.0\n",
      "mm energy after 250 steps: 5.7249468237969604e-05\n",
      "mm energy after 300 steps: 5.724946823796838e-05\n",
      "plateau detected, reducing alpha to 1.0\n",
      "mm energy after 350 steps: 5.745256854749688e-07\n",
      "mm energy after 400 steps: 5.74525685474953e-07\n",
      "plateau detected, reducing alpha to 0.1\n",
      "mm energy after 450 steps: 5.747293800088669e-09\n",
      "mm energy after 500 steps: 5.747293800080929e-09\n",
      "plateau detected, reducing alpha to 0.010000000000000002\n",
      "mm energy after 550 steps: 5.747497554238509e-11\n",
      "mm energy after 600 steps: 5.747497554401717e-11\n",
      "plateau detected, reducing alpha to 0.0010000000000000002\n",
      "mm energy after 650 steps: 5.747517930631768e-13\n",
      "mm energy after 700 steps: 5.747517929676091e-13\n",
      "plateau detected, reducing alpha to 0.00010000000000000003\n",
      "mm energy after 750 steps: 5.747519956836242e-15\n",
      "mm energy after 800 steps: 5.7475199735655866e-15\n",
      "plateau detected, reducing alpha to 1.0000000000000004e-05\n",
      "mm energy after 850 steps: 5.747520078401116e-17\n",
      "mm energy after 900 steps: 5.747520276714407e-17\n",
      "plateau detected, reducing alpha to 1.0000000000000004e-06\n",
      "mm energy after 950 steps: 5.74752027980084e-19\n",
      "mm energy after 1000 steps: 5.747521416074954e-19\n",
      "plateau detected, reducing alpha to 1.0000000000000005e-07\n",
      "mm energy after 1050 steps: 5.74752364381064e-21\n",
      "reached precision of 10^-20\n"
     ]
    }
   ],
   "source": [
    "# define parameters of net\n",
    "layers = [100, 10]\n",
    "steps = 5000\n",
    "bw_lr = 1e-4\n",
    "alpha = 1e+3\n",
    "alpha_decay = 1e-1\n",
    "\n",
    "# after how many steps to eval model\n",
    "per_steps = 50\n",
    "\n",
    "# init weights\n",
    "W = np.random.rand(layers[1],layers[0])\n",
    "B = np.random.rand(layers[0],layers[1])\n",
    "r = np.random.rand(layers[0])\n",
    "B0 = B.copy()\n",
    "B_array = []\n",
    "\n",
    "# keep W fixed, but change B\n",
    "mm_energy = []\n",
    "for i in range(steps):\n",
    "    B -= bw_lr * (update_B(r, W, B) + alpha * B)\n",
    "    B_array.append(B.copy())\n",
    "    \n",
    "    mm_energy.append(mismatch_energy(r, W, B))\n",
    "    \n",
    "    # every 50 steps, take average and see if energy doesn't move\n",
    "    if i % per_steps == 0 and i != 0:\n",
    "        if np.isnan(mm_energy[-1]) or np.isinf(mm_energy[-1]):\n",
    "            raise ValueError('mm energy inf or nan')\n",
    "        print(f'mm energy after {i} steps: {mm_energy[-1]}')\n",
    "        if mm_energy[-1] < 1e-20:\n",
    "            print(\"reached precision of 10^-20\")\n",
    "            break\n",
    "        if np.sqrt(np.cov(mm_energy[-per_steps:])) < 1e-2 * np.mean(mm_energy[-per_steps:]):\n",
    "            alpha *= alpha_decay\n",
    "            print(f'plateau detected, reducing alpha to {alpha}')"
   ]
  },
  {
   "cell_type": "code",
   "execution_count": 37,
   "metadata": {},
   "outputs": [
    {
     "data": {
      "image/png": "[encoded data removed]",
      "text/plain": [
       "<Figure size 432x288 with 1 Axes>"
      ]
     },
     "metadata": {
      "needs_background": "light"
     },
     "output_type": "display_data"
    }
   ],
   "source": [
    "import matplotlib.pyplot as plt\n",
    "plt.plot(mm_energy)\n",
    "plt.yscale('log')\n",
    "plt.ylabel('mm energy')\n",
    "plt.show()"
   ]
  },
  {
   "cell_type": "code",
   "execution_count": 38,
   "metadata": {},
   "outputs": [
    {
     "data": {
      "image/png": "[encoded data removed]",
      "text/plain": [
       "<Figure size 432x288 with 1 Axes>"
      ]
     },
     "metadata": {
      "needs_background": "light"
     },
     "output_type": "display_data"
    }
   ],
   "source": [
    "cos_sim = [cosine_similarity_tensors(B_mat, ds_pinv(r, W)) for B_mat in B_array]\n",
    "    \n",
    "plt.plot(cos_sim)\n",
    "plt.ylabel('cosine similarity')\n",
    "plt.show()"
   ]
  },
  {
   "cell_type": "markdown",
   "metadata": {},
   "source": [
    "# The inverse: 10 -> 100"
   ]
  },
  {
   "cell_type": "code",
   "execution_count": 39,
   "metadata": {},
   "outputs": [
    {
     "name": "stdout",
     "output_type": "stream",
     "text": [
      "mm energy after 50 steps: 0.03903427464529699\n",
      "mm energy after 100 steps: 0.03903427464529703\n",
      "plateau detected, reducing alpha to 10.0\n",
      "mm energy after 150 steps: 0.0005302547161950015\n",
      "mm energy after 200 steps: 0.0005302547161949911\n",
      "plateau detected, reducing alpha to 1.0\n",
      "mm energy after 250 steps: 5.482537544678557e-06\n",
      "mm energy after 300 steps: 5.482537544678328e-06\n",
      "plateau detected, reducing alpha to 0.1\n",
      "mm energy after 350 steps: 5.501038939304018e-08\n",
      "mm energy after 400 steps: 5.501038939303865e-08\n",
      "plateau detected, reducing alpha to 0.010000000000000002\n",
      "mm energy after 450 steps: 5.502894227900749e-10\n",
      "mm energy after 500 steps: 5.50289422795574e-10\n",
      "plateau detected, reducing alpha to 0.0010000000000000002\n",
      "mm energy after 550 steps: 5.503079808377827e-12\n",
      "mm energy after 600 steps: 5.503079808549825e-12\n",
      "plateau detected, reducing alpha to 0.00010000000000000003\n",
      "mm energy after 650 steps: 5.503098367270532e-14\n",
      "mm energy after 700 steps: 5.503098365087963e-14\n",
      "plateau detected, reducing alpha to 1.0000000000000004e-05\n",
      "mm energy after 750 steps: 5.503100199310356e-16\n",
      "mm energy after 800 steps: 5.5031002007488475e-16\n",
      "plateau detected, reducing alpha to 1.0000000000000004e-06\n",
      "mm energy after 850 steps: 5.503100786972581e-18\n",
      "mm energy after 900 steps: 5.503100483344644e-18\n",
      "plateau detected, reducing alpha to 1.0000000000000005e-07\n",
      "mm energy after 950 steps: 5.503104908598227e-20\n",
      "mm energy after 1000 steps: 5.503103734098881e-20\n",
      "plateau detected, reducing alpha to 1.0000000000000005e-08\n",
      "mm energy after 1050 steps: 5.50311847316658e-22\n",
      "reached precision of 10^-20\n"
     ]
    }
   ],
   "source": [
    "# define parameters of net\n",
    "layers = [10, 100]\n",
    "steps = 5000\n",
    "bw_lr = 1e-3\n",
    "alpha = 1e+2\n",
    "alpha_decay = 1e-1\n",
    "\n",
    "# after how many steps to eval model\n",
    "per_steps = 50\n",
    "\n",
    "# init weights\n",
    "W = np.random.rand(layers[1],layers[0])\n",
    "B = np.random.rand(layers[0],layers[1])\n",
    "r = np.random.rand(layers[0])\n",
    "B0 = B.copy()\n",
    "B_array = []\n",
    "\n",
    "# keep W fixed, but change B\n",
    "mm_energy = []\n",
    "for i in range(steps):\n",
    "    B -= bw_lr * (update_B(r, W, B) + alpha * B)\n",
    "    B_array.append(B.copy())\n",
    "    \n",
    "    mm_energy.append(mismatch_energy(r, W, B))\n",
    "    \n",
    "    # every 50 steps, take average and see if energy doesn't move\n",
    "    if i % per_steps == 0 and i != 0:\n",
    "        if np.isnan(mm_energy[-1]) or np.isinf(mm_energy[-1]):\n",
    "            raise ValueError('mm energy inf or nan')\n",
    "        print(f'mm energy after {i} steps: {mm_energy[-1]}')\n",
    "        if mm_energy[-1] < 1e-20:\n",
    "            print(\"reached precision of 10^-20\")\n",
    "            break\n",
    "        if np.sqrt(np.cov(mm_energy[-per_steps:])) < 1e-2 * np.mean(mm_energy[-per_steps:]):\n",
    "            alpha *= alpha_decay\n",
    "            print(f'plateau detected, reducing alpha to {alpha}')"
   ]
  },
  {
   "cell_type": "code",
   "execution_count": 40,
   "metadata": {},
   "outputs": [
    {
     "data": {
      "image/png": "[encoded data removed]",
      "text/plain": [
       "<Figure size 432x288 with 1 Axes>"
      ]
     },
     "metadata": {
      "needs_background": "light"
     },
     "output_type": "display_data"
    }
   ],
   "source": [
    "import matplotlib.pyplot as plt\n",
    "plt.plot(mm_energy)\n",
    "plt.yscale('log')\n",
    "plt.ylabel('mm energy')\n",
    "plt.show()"
   ]
  },
  {
   "cell_type": "code",
   "execution_count": 41,
   "metadata": {},
   "outputs": [
    {
     "data": {
      "image/png": "[encoded data removed]",
      "text/plain": [
       "<Figure size 432x288 with 1 Axes>"
      ]
     },
     "metadata": {
      "needs_background": "light"
     },
     "output_type": "display_data"
    }
   ],
   "source": [
    "cos_sim = [cosine_similarity_tensors(B_mat, ds_pinv(r, W)) for B_mat in B_array]\n",
    "    \n",
    "plt.plot(cos_sim)\n",
    "plt.ylabel('cosine similarity')\n",
    "plt.show()"
   ]
  },
  {
   "cell_type": "markdown",
   "metadata": {},
   "source": [
    "# A realistic net with 784 -> 500"
   ]
  },
  {
   "cell_type": "code",
   "execution_count": 42,
   "metadata": {},
   "outputs": [
    {
     "name": "stdout",
     "output_type": "stream",
     "text": [
      "mm energy after 50 steps: 119846576093.72385\n",
      "mm energy after 100 steps: 16227383369.61758\n",
      "mm energy after 150 steps: 2197227474.0011926\n",
      "mm energy after 200 steps: 297516796.412781\n",
      "mm energy after 250 steps: 40287932.438295424\n",
      "mm energy after 300 steps: 5456471.651763763\n",
      "mm energy after 350 steps: 739347.0451204297\n",
      "mm energy after 400 steps: 100305.93984933906\n",
      "mm energy after 450 steps: 13654.477509217146\n",
      "mm energy after 500 steps: 1875.8601656641918\n",
      "mm energy after 550 steps: 264.1183790042887\n",
      "mm energy after 600 steps: 39.665379994370966\n",
      "mm energy after 650 steps: 6.98475608657099\n",
      "mm energy after 700 steps: 1.7172993624490454\n",
      "mm energy after 750 steps: 0.6940767287662629\n",
      "mm energy after 800 steps: 0.44145950285945257\n",
      "mm energy after 850 steps: 0.36528001000201005\n",
      "mm energy after 900 steps: 0.3395198051603311\n",
      "mm energy after 950 steps: 0.3303484204672237\n",
      "mm energy after 1000 steps: 0.3270152848426821\n",
      "mm energy after 1050 steps: 0.32579443517962775\n",
      "plateau detected, reducing alpha to 100000.0\n",
      "mm energy after 1100 steps: 0.003752150375230806\n",
      "mm energy after 1150 steps: 0.003568334798755404\n",
      "mm energy after 1200 steps: 0.0035677936202683823\n",
      "plateau detected, reducing alpha to 10000.0\n",
      "mm energy after 1250 steps: 3.718637643848371e-05\n",
      "mm energy after 1300 steps: 3.602219078055014e-05\n",
      "plateau detected, reducing alpha to 1000.0\n",
      "mm energy after 1350 steps: 3.716877739845694e-07\n",
      "mm energy after 1400 steps: 3.60564900218477e-07\n",
      "plateau detected, reducing alpha to 100.0\n",
      "mm energy after 1450 steps: 3.716714227736789e-09\n",
      "mm energy after 1500 steps: 3.605992364236836e-09\n",
      "plateau detected, reducing alpha to 10.0\n",
      "mm energy after 1550 steps: 3.716698008269689e-11\n",
      "mm energy after 1600 steps: 3.606026704552961e-11\n",
      "plateau detected, reducing alpha to 1.0\n",
      "mm energy after 1650 steps: 3.716696379430251e-13\n",
      "mm energy after 1700 steps: 3.6060301367118745e-13\n",
      "plateau detected, reducing alpha to 0.1\n",
      "mm energy after 1750 steps: 3.716696254658249e-15\n",
      "mm energy after 1800 steps: 3.606030487261973e-15\n",
      "plateau detected, reducing alpha to 0.010000000000000002\n",
      "mm energy after 1850 steps: 3.716695845624286e-17\n",
      "mm energy after 1900 steps: 3.606030959974346e-17\n",
      "plateau detected, reducing alpha to 0.0010000000000000002\n",
      "mm energy after 1950 steps: 3.716704006000728e-19\n",
      "mm energy after 2000 steps: 3.606046621968755e-19\n",
      "plateau detected, reducing alpha to 0.00010000000000000003\n",
      "mm energy after 2050 steps: 3.716690282757953e-21\n",
      "reached precision of 10^-20\n"
     ]
    }
   ],
   "source": [
    "# define parameters of net\n",
    "layers = [784, 500]\n",
    "steps = 5000\n",
    "bw_lr = 1e-7\n",
    "alpha = 1e+6\n",
    "alpha_decay = 1e-1\n",
    "\n",
    "# after how many steps to eval model\n",
    "per_steps = 50\n",
    "\n",
    "# init weights\n",
    "W = np.random.rand(layers[1],layers[0])\n",
    "B = np.random.rand(layers[0],layers[1])\n",
    "r = np.random.rand(layers[0])\n",
    "B0 = B.copy()\n",
    "B_array = []\n",
    "\n",
    "# keep W fixed, but change B\n",
    "mm_energy = []\n",
    "for i in range(steps):\n",
    "    B -= bw_lr * (update_B(r, W, B) + alpha * B)\n",
    "    B_array.append(B.copy())\n",
    "    \n",
    "    mm_energy.append(mismatch_energy(r, W, B))\n",
    "    \n",
    "    # every 50 steps, take average and see if energy doesn't move\n",
    "    if i % per_steps == 0 and i != 0:\n",
    "        if np.isnan(mm_energy[-1]) or np.isinf(mm_energy[-1]):\n",
    "            raise ValueError('mm energy inf or nan')\n",
    "        print(f'mm energy after {i} steps: {mm_energy[-1]}')\n",
    "        if mm_energy[-1] < 1e-20:\n",
    "            print(\"reached precision of 10^-20\")\n",
    "            break\n",
    "        if np.sqrt(np.cov(mm_energy[-per_steps:])) < 1e-2 * np.mean(mm_energy[-per_steps:]):\n",
    "            alpha *= alpha_decay\n",
    "            print(f'plateau detected, reducing alpha to {alpha}')"
   ]
  },
  {
   "cell_type": "code",
   "execution_count": 43,
   "metadata": {},
   "outputs": [
    {
     "data": {
      "image/png": "[encoded data removed]",
      "text/plain": [
       "<Figure size 432x288 with 1 Axes>"
      ]
     },
     "metadata": {
      "needs_background": "light"
     },
     "output_type": "display_data"
    }
   ],
   "source": [
    "import matplotlib.pyplot as plt\n",
    "plt.plot(mm_energy[1::50])\n",
    "plt.yscale('log')\n",
    "plt.ylabel('mm energy')\n",
    "plt.show()"
   ]
  },
  {
   "cell_type": "code",
   "execution_count": 44,
   "metadata": {},
   "outputs": [
    {
     "data": {
      "image/png": "[encoded data removed]",
      "text/plain": [
       "<Figure size 432x288 with 1 Axes>"
      ]
     },
     "metadata": {
      "needs_background": "light"
     },
     "output_type": "display_data"
    }
   ],
   "source": [
    "cos_sim = [cosine_similarity_tensors(B_mat, ds_pinv(r, W)) for B_mat in B_array[1::50]]\n",
    "    \n",
    "plt.plot(cos_sim)\n",
    "plt.ylabel('cosine similarity')\n",
    "plt.show()"
   ]
  },
  {
   "cell_type": "code",
   "execution_count": null,
   "metadata": {},
   "outputs": [],
   "source": []
  }
 ],
 "metadata": {
  "kernelspec": {
   "display_name": "Python 3",
   "language": "python",
   "name": "python3"
  },
  "language_info": {
   "codemirror_mode": {
    "name": "ipython",
    "version": 3
   },
   "file_extension": ".py",
   "mimetype": "text/x-python",
   "name": "python",
   "nbconvert_exporter": "python",
   "pygments_lexer": "ipython3",
   "version": "3.8.5"
  }
 },
 "nbformat": 4,
 "nbformat_minor": 4
}
