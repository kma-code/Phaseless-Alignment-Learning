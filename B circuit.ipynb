{
 "cells": [
  {
   "cell_type": "markdown",
   "metadata": {},
   "source": [
    "# A short demo to show how B converges to the data-specific pseudoinverse of W"
   ]
  },
  {
   "cell_type": "code",
   "execution_count": 1,
   "metadata": {},
   "outputs": [],
   "source": [
    "import torch\n",
    "import torchvision\n",
    "import numpy as np"
   ]
  },
  {
   "cell_type": "markdown",
   "metadata": {},
   "source": [
    "Here we will show how gradient descent on the energy E = 1/2 ||r - B W r||^2 + alpha/2 ||B||^2 (with Tikhonov regularization of B) aligns B with the data-specific pseudoinverse of W. In this demo, we keep W fixed and assume only one data vector r."
   ]
  },
  {
   "cell_type": "code",
   "execution_count": 2,
   "metadata": {},
   "outputs": [],
   "source": [
    "# define the update rule for B\n",
    "def update_B(r, W, B):\n",
    "    grad_B = np.outer((- r + B @ W @ r), (W @ r).T)\n",
    "    return grad_B\n",
    "\n",
    "# define the data-specific pseudoinverse of W given the data vector r\n",
    "def ds_pinv(r, W):\n",
    "    gen_pseudo = np.outer(r,r.T) @ W.T / np.linalg.norm(W @ r)**2\n",
    "    return gen_pseudo\n",
    "\n",
    "# define the mismatch energy\n",
    "def mismatch_energy(r, W, B):\n",
    "    return .5 * np.linalg.norm(r - B @ W @ r)**2\n",
    "\n",
    "# define the mismatch energy with regularizer\n",
    "def mismatch_energy_reg(r, W, B, alpha):\n",
    "    return .5 * np.linalg.norm(r - B @ W @ r)**2 + alpha/2. * np.linalg.norm(B)**2\n",
    "\n",
    "# Calculate the cosine similarity between two tensors\n",
    "# using the Frobenius inner product\n",
    "def cosine_similarity_tensors(A, B):\n",
    "    product = np.trace(A.T @ B)\n",
    "    norm = (np.trace(A.T @ A))**.5 * (np.trace(B.T @ B))**.5\n",
    "\n",
    "    # returns cos(theta)\n",
    "    return product / norm"
   ]
  },
  {
   "cell_type": "markdown",
   "metadata": {},
   "source": [
    "We are now ready to define our 'net', which here just means the matrices W and B. We do so for several examples: a small test net, and some larger nets."
   ]
  },
  {
   "cell_type": "markdown",
   "metadata": {},
   "source": [
    "# Test: small net with 3 -> 2"
   ]
  },
  {
   "cell_type": "code",
   "execution_count": 3,
   "metadata": {},
   "outputs": [
    {
     "name": "stdout",
     "output_type": "stream",
     "text": [
      "mm energy after 50 steps: 3.8136377371685226\n",
      "mm energy after 100 steps: 1.5989075928758452\n",
      "mm energy after 150 steps: 0.9624713116555769\n",
      "mm energy after 200 steps: 0.7774987041666261\n",
      "mm energy after 250 steps: 0.7230079017998657\n",
      "mm energy after 300 steps: 0.7067020848222009\n",
      "plateau detected, reducing alpha to 1.0\n",
      "mm energy after 350 steps: 0.433921267047253\n",
      "mm energy after 400 steps: 0.3708568811876459\n",
      "mm energy after 450 steps: 0.3278076410298921\n",
      "mm energy after 500 steps: 0.29841992422559227\n",
      "mm energy after 550 steps: 0.2783571295802913\n",
      "mm energy after 600 steps: 0.2646593417729099\n",
      "mm energy after 650 steps: 0.25530628175409903\n",
      "mm energy after 700 steps: 0.24891900610922302\n",
      "plateau detected, reducing alpha to 0.1\n",
      "mm energy after 750 steps: 0.10819541336926995\n",
      "mm energy after 800 steps: 0.08861363034592773\n",
      "mm energy after 850 steps: 0.07398531242282963\n",
      "mm energy after 900 steps: 0.06305740866879443\n",
      "mm energy after 950 steps: 0.05489384566119289\n",
      "mm energy after 1000 steps: 0.04879534340131916\n",
      "mm energy after 1050 steps: 0.04423951496364508\n",
      "mm energy after 1100 steps: 0.04083611881258392\n",
      "mm energy after 1150 steps: 0.03829363069848073\n",
      "mm energy after 1200 steps: 0.03639427168013962\n",
      "mm energy after 1250 steps: 0.03497535317332863\n",
      "mm energy after 1300 steps: 0.033915341041391774\n",
      "plateau detected, reducing alpha to 0.010000000000000002\n",
      "mm energy after 1350 steps: 0.008530903312256399\n",
      "mm energy after 1400 steps: 0.007212736067096603\n",
      "mm energy after 1450 steps: 0.006219089986354063\n",
      "mm energy after 1500 steps: 0.005470070745545182\n",
      "mm energy after 1550 steps: 0.004905453317009102\n",
      "mm energy after 1600 steps: 0.004479839557883979\n",
      "mm energy after 1650 steps: 0.00415900795835306\n",
      "mm energy after 1700 steps: 0.0039171620505364674\n",
      "mm energy after 1750 steps: 0.0037348562354923972\n",
      "mm energy after 1800 steps: 0.003597432253804589\n",
      "mm energy after 1850 steps: 0.0034938405836886888\n",
      "plateau detected, reducing alpha to 0.0010000000000000002\n",
      "mm energy after 1900 steps: 0.0006450892467652037\n",
      "mm energy after 1950 steps: 0.0005649526906997692\n",
      "mm energy after 2000 steps: 0.0005044905187720766\n",
      "mm energy after 2050 steps: 0.0004588724579110185\n",
      "mm energy after 2100 steps: 0.00042445411907516184\n",
      "mm energy after 2150 steps: 0.0003984858499592165\n",
      "mm energy after 2200 steps: 0.00037889306749475137\n",
      "mm energy after 2250 steps: 0.0003641105210864495\n",
      "mm energy after 2300 steps: 0.0003529572460077584\n",
      "plateau detected, reducing alpha to 0.00010000000000000003\n",
      "mm energy after 2350 steps: 6.047747160094803e-05\n",
      "mm energy after 2400 steps: 5.345803031361302e-05\n",
      "mm energy after 2450 steps: 4.816145937254981e-05\n",
      "mm energy after 2500 steps: 4.416489288873039e-05\n",
      "mm energy after 2550 steps: 4.1149254303811084e-05\n",
      "mm energy after 2600 steps: 3.8873782060233764e-05\n",
      "mm energy after 2650 steps: 3.71568077587249e-05\n",
      "mm energy after 2700 steps: 3.586125217605264e-05\n",
      "mm energy after 2750 steps: 3.4883681178838126e-05\n",
      "plateau detected, reducing alpha to 1.0000000000000004e-05\n",
      "mm energy after 2800 steps: 5.535520786814403e-06\n",
      "reached precision of 10^-5\n"
     ]
    }
   ],
   "source": [
    "# define parameters of net\n",
    "layers = [3, 2]\n",
    "steps = 5000\n",
    "bw_lr = 1e-3\n",
    "alpha = 1e+1\n",
    "alpha_decay = 1e-1\n",
    "\n",
    "# after how many steps to eval model\n",
    "per_steps = 50\n",
    "\n",
    "# init weights\n",
    "W = np.random.rand(layers[1],layers[0])\n",
    "B = np.random.rand(layers[0],layers[1])\n",
    "r = np.random.rand(layers[0])\n",
    "B0 = B.copy()\n",
    "B_array = []\n",
    "\n",
    "# keep W fixed, but change B\n",
    "mm_energy = []\n",
    "for i in range(steps):\n",
    "    B -= bw_lr * (update_B(r, W, B) + alpha * B)\n",
    "    B_array.append(B.copy())\n",
    "    \n",
    "    mm_energy.append(mismatch_energy_reg(r, W, B, alpha))\n",
    "    \n",
    "    # every 50 steps, take average and see if energy doesn't move\n",
    "    if i % per_steps == 0 and i != 0:\n",
    "        print(f'mm energy after {i} steps: {mm_energy[-1]}')\n",
    "        if mm_energy[-1] < 1e-5:\n",
    "            print(\"reached precision of 10^-5\")\n",
    "            break\n",
    "        if np.sqrt(np.cov(mm_energy[-per_steps:])) < 1e-2 * np.mean(mm_energy[-per_steps:]):\n",
    "            alpha *= alpha_decay\n",
    "            print(f'plateau detected, reducing alpha to {alpha}')"
   ]
  },
  {
   "cell_type": "code",
   "execution_count": 4,
   "metadata": {},
   "outputs": [
    {
     "data": {
      "image/png": "[encoded data removed]",
      "text/plain": [
       "<Figure size 432x288 with 1 Axes>"
      ]
     },
     "metadata": {
      "needs_background": "light"
     },
     "output_type": "display_data"
    }
   ],
   "source": [
    "import matplotlib.pyplot as plt\n",
    "plt.plot(mm_energy)\n",
    "plt.yscale('log')\n",
    "plt.ylabel('mm energy')\n",
    "plt.show()"
   ]
  },
  {
   "cell_type": "code",
   "execution_count": 5,
   "metadata": {},
   "outputs": [
    {
     "data": {
      "image/png": "[encoded data removed]",
      "text/plain": [
       "<Figure size 432x288 with 1 Axes>"
      ]
     },
     "metadata": {
      "needs_background": "light"
     },
     "output_type": "display_data"
    }
   ],
   "source": [
    "cos_sim = [cosine_similarity_tensors(B_mat, ds_pinv(r, W)) for B_mat in B_array]\n",
    "    \n",
    "plt.plot(cos_sim)\n",
    "plt.ylabel('cosine similarity')\n",
    "plt.show()"
   ]
  },
  {
   "cell_type": "markdown",
   "metadata": {},
   "source": [
    "# A larger net with 100 -> 10"
   ]
  },
  {
   "cell_type": "code",
   "execution_count": 6,
   "metadata": {},
   "outputs": [
    {
     "name": "stdout",
     "output_type": "stream",
     "text": [
      "mm energy after 50 steps: 3.1812390032880584\n",
      "mm energy after 100 steps: 2.39587859758383\n",
      "mm energy after 150 steps: 2.395857737312823\n",
      "plateau detected, reducing alpha to 100.0\n",
      "mm energy after 200 steps: 0.2736621440834573\n",
      "mm energy after 250 steps: 0.27366214407059936\n",
      "plateau detected, reducing alpha to 10.0\n",
      "mm energy after 300 steps: 0.027761060971318256\n",
      "plateau detected, reducing alpha to 1.0\n",
      "mm energy after 350 steps: 0.0027801173197131183\n",
      "plateau detected, reducing alpha to 0.1\n",
      "mm energy after 400 steps: 0.00027805190796073586\n",
      "plateau detected, reducing alpha to 0.010000000000000002\n",
      "mm energy after 450 steps: 2.780559261983373e-05\n",
      "plateau detected, reducing alpha to 0.0010000000000000002\n",
      "mm energy after 500 steps: 2.7805632802848507e-06\n",
      "reached precision of 10^-5\n"
     ]
    }
   ],
   "source": [
    "# define parameters of net\n",
    "layers = [100, 10]\n",
    "steps = 5000\n",
    "bw_lr = 1e-4\n",
    "alpha = 1e+3\n",
    "alpha_decay = 1e-1\n",
    "\n",
    "# after how many steps to eval model\n",
    "per_steps = 50\n",
    "\n",
    "# init weights\n",
    "W = np.random.rand(layers[1],layers[0])\n",
    "B = np.random.rand(layers[0],layers[1])\n",
    "r = np.random.rand(layers[0])\n",
    "B0 = B.copy()\n",
    "B_array = []\n",
    "\n",
    "# keep W fixed, but change B\n",
    "mm_energy = []\n",
    "for i in range(steps):\n",
    "    B -= bw_lr * (update_B(r, W, B) + alpha * B)\n",
    "    B_array.append(B.copy())\n",
    "    \n",
    "    mm_energy.append(mismatch_energy_reg(r, W, B, alpha))\n",
    "    \n",
    "    # every 50 steps, take average and see if energy doesn't move\n",
    "    if i % per_steps == 0 and i != 0:\n",
    "        if np.isnan(mm_energy[-1]) or np.isinf(mm_energy[-1]):\n",
    "            raise ValueError('mm energy inf or nan')\n",
    "        print(f'mm energy after {i} steps: {mm_energy[-1]}')\n",
    "        if mm_energy[-1] < 1e-5:\n",
    "            print(\"reached precision of 10^-5\")\n",
    "            break\n",
    "        if np.sqrt(np.cov(mm_energy[-per_steps:])) < 1e-2 * np.mean(mm_energy[-per_steps:]):\n",
    "            alpha *= alpha_decay\n",
    "            print(f'plateau detected, reducing alpha to {alpha}')"
   ]
  },
  {
   "cell_type": "code",
   "execution_count": 7,
   "metadata": {},
   "outputs": [
    {
     "data": {
      "image/png": "[encoded data removed]",
      "text/plain": [
       "<Figure size 432x288 with 1 Axes>"
      ]
     },
     "metadata": {
      "needs_background": "light"
     },
     "output_type": "display_data"
    }
   ],
   "source": [
    "import matplotlib.pyplot as plt\n",
    "plt.plot(mm_energy)\n",
    "plt.yscale('log')\n",
    "plt.ylabel('mm energy')\n",
    "plt.show()"
   ]
  },
  {
   "cell_type": "code",
   "execution_count": 8,
   "metadata": {},
   "outputs": [
    {
     "data": {
      "image/png": "[encoded data removed]",
      "text/plain": [
       "<Figure size 432x288 with 1 Axes>"
      ]
     },
     "metadata": {
      "needs_background": "light"
     },
     "output_type": "display_data"
    }
   ],
   "source": [
    "cos_sim = [cosine_similarity_tensors(B_mat, ds_pinv(r, W)) for B_mat in B_array]\n",
    "    \n",
    "plt.plot(cos_sim)\n",
    "plt.ylabel('cosine similarity')\n",
    "plt.show()"
   ]
  },
  {
   "cell_type": "markdown",
   "metadata": {},
   "source": [
    "# The inverse: 10 -> 100"
   ]
  },
  {
   "cell_type": "code",
   "execution_count": 9,
   "metadata": {},
   "outputs": [
    {
     "name": "stdout",
     "output_type": "stream",
     "text": [
      "mm energy after 50 steps: 0.3014044291052979\n",
      "mm energy after 100 steps: 0.20857535235950814\n",
      "mm energy after 150 steps: 0.2085728866893723\n",
      "plateau detected, reducing alpha to 10.0\n",
      "mm energy after 200 steps: 0.022599157985059348\n",
      "plateau detected, reducing alpha to 1.0\n",
      "mm energy after 250 steps: 0.002278948137281816\n",
      "plateau detected, reducing alpha to 0.1\n",
      "mm energy after 300 steps: 0.0002280869017337342\n",
      "plateau detected, reducing alpha to 0.010000000000000002\n",
      "mm energy after 350 steps: 2.2810612834557837e-05\n",
      "plateau detected, reducing alpha to 0.0010000000000000002\n",
      "mm energy after 400 steps: 2.281080511850424e-06\n",
      "reached precision of 10^-5\n"
     ]
    }
   ],
   "source": [
    "# define parameters of net\n",
    "layers = [10, 100]\n",
    "steps = 5000\n",
    "bw_lr = 1e-3\n",
    "alpha = 1e+2\n",
    "alpha_decay = 1e-1\n",
    "\n",
    "# after how many steps to eval model\n",
    "per_steps = 50\n",
    "\n",
    "# init weights\n",
    "W = np.random.rand(layers[1],layers[0])\n",
    "B = np.random.rand(layers[0],layers[1])\n",
    "r = np.random.rand(layers[0])\n",
    "B0 = B.copy()\n",
    "B_array = []\n",
    "\n",
    "# keep W fixed, but change B\n",
    "mm_energy = []\n",
    "for i in range(steps):\n",
    "    B -= bw_lr * (update_B(r, W, B) + alpha * B)\n",
    "    B_array.append(B.copy())\n",
    "    \n",
    "    mm_energy.append(mismatch_energy_reg(r, W, B, alpha))\n",
    "    \n",
    "    # every 50 steps, take average and see if energy doesn't move\n",
    "    if i % per_steps == 0 and i != 0:\n",
    "        if np.isnan(mm_energy[-1]) or np.isinf(mm_energy[-1]):\n",
    "            raise ValueError('mm energy inf or nan')\n",
    "        print(f'mm energy after {i} steps: {mm_energy[-1]}')\n",
    "        if mm_energy[-1] < 1e-5:\n",
    "            print(\"reached precision of 10^-5\")\n",
    "            break\n",
    "        if np.sqrt(np.cov(mm_energy[-per_steps:])) < 1e-2 * np.mean(mm_energy[-per_steps:]):\n",
    "            alpha *= alpha_decay\n",
    "            print(f'plateau detected, reducing alpha to {alpha}')"
   ]
  },
  {
   "cell_type": "code",
   "execution_count": 10,
   "metadata": {},
   "outputs": [
    {
     "data": {
      "image/png": "[encoded data removed]",
      "text/plain": [
       "<Figure size 432x288 with 1 Axes>"
      ]
     },
     "metadata": {
      "needs_background": "light"
     },
     "output_type": "display_data"
    }
   ],
   "source": [
    "import matplotlib.pyplot as plt\n",
    "plt.plot(mm_energy)\n",
    "plt.yscale('log')\n",
    "plt.ylabel('mm energy')\n",
    "plt.show()"
   ]
  },
  {
   "cell_type": "code",
   "execution_count": 12,
   "metadata": {},
   "outputs": [
    {
     "data": {
      "image/png": "[encoded data removed]",
      "text/plain": [
       "<Figure size 432x288 with 1 Axes>"
      ]
     },
     "metadata": {
      "needs_background": "light"
     },
     "output_type": "display_data"
    }
   ],
   "source": [
    "cos_sim = [cosine_similarity_tensors(B_mat, ds_pinv(r, W)) for B_mat in B_array]\n",
    "    \n",
    "plt.plot(cos_sim)\n",
    "plt.ylabel('cosine similarity')\n",
    "plt.show()"
   ]
  },
  {
   "cell_type": "markdown",
   "metadata": {},
   "source": [
    "# A realistic net with 784 -> 500"
   ]
  },
  {
   "cell_type": "code",
   "execution_count": 13,
   "metadata": {},
   "outputs": [
    {
     "name": "stdout",
     "output_type": "stream",
     "text": [
      "mm energy after 50 steps: 3512309.256267527\n",
      "mm energy after 100 steps: 137.98889432842455\n",
      "mm energy after 150 steps: 44.700712362522964\n",
      "mm energy after 200 steps: 44.698234497910256\n",
      "plateau detected, reducing alpha to 1000000.0\n",
      "mm energy after 250 steps: 6.48937040613759\n",
      "mm energy after 300 steps: 6.489370401931849\n",
      "plateau detected, reducing alpha to 100000.0\n",
      "mm energy after 350 steps: 0.6796446113508516\n",
      "mm energy after 400 steps: 0.6796446111624748\n",
      "plateau detected, reducing alpha to 10000.0\n",
      "mm energy after 450 steps: 0.06828759666037006\n",
      "plateau detected, reducing alpha to 1000.0\n",
      "mm energy after 500 steps: 0.006832007929044286\n",
      "plateau detected, reducing alpha to 100.0\n",
      "mm energy after 550 steps: 0.0006832332925315191\n",
      "plateau detected, reducing alpha to 10.0\n",
      "mm energy after 600 steps: 6.83236542664288e-05\n",
      "plateau detected, reducing alpha to 1.0\n",
      "mm energy after 650 steps: 6.832368676792652e-06\n",
      "reached precision of 10^-5\n"
     ]
    }
   ],
   "source": [
    "# define parameters of net\n",
    "layers = [784, 500]\n",
    "steps = 5000\n",
    "bw_lr = 1e-8\n",
    "alpha = 1e+7\n",
    "alpha_decay = 1e-1\n",
    "\n",
    "# after how many steps to eval model\n",
    "per_steps = 50\n",
    "\n",
    "# init weights\n",
    "W = np.random.rand(layers[1],layers[0])\n",
    "B = np.random.rand(layers[0],layers[1])\n",
    "r = np.random.rand(layers[0])\n",
    "B0 = B.copy()\n",
    "B_array = []\n",
    "\n",
    "# keep W fixed, but change B\n",
    "mm_energy = []\n",
    "for i in range(steps):\n",
    "    B -= bw_lr * (update_B(r, W, B) + alpha * B)\n",
    "    B_array.append(B.copy())\n",
    "    \n",
    "    mm_energy.append(mismatch_energy_reg(r, W, B, alpha))\n",
    "    \n",
    "    # every 50 steps, take average and see if energy doesn't move\n",
    "    if i % per_steps == 0 and i != 0:\n",
    "        if np.isnan(mm_energy[-1]) or np.isinf(mm_energy[-1]):\n",
    "            raise ValueError('mm energy inf or nan')\n",
    "        print(f'mm energy after {i} steps: {mm_energy[-1]}')\n",
    "        if mm_energy[-1] < 1e-5:\n",
    "            print(\"reached precision of 10^-5\")\n",
    "            break\n",
    "        if np.sqrt(np.cov(mm_energy[-per_steps:])) < 1e-2 * np.mean(mm_energy[-per_steps:]):\n",
    "            alpha *= alpha_decay\n",
    "            print(f'plateau detected, reducing alpha to {alpha}')"
   ]
  },
  {
   "cell_type": "code",
   "execution_count": 14,
   "metadata": {},
   "outputs": [
    {
     "data": {
      "image/png": "[encoded data removed]",
      "text/plain": [
       "<Figure size 432x288 with 1 Axes>"
      ]
     },
     "metadata": {
      "needs_background": "light"
     },
     "output_type": "display_data"
    }
   ],
   "source": [
    "import matplotlib.pyplot as plt\n",
    "plt.plot(mm_energy)\n",
    "plt.yscale('log')\n",
    "plt.ylabel('mm energy')\n",
    "plt.show()"
   ]
  },
  {
   "cell_type": "code",
   "execution_count": 15,
   "metadata": {},
   "outputs": [
    {
     "data": {
      "image/png": "[encoded data removed]",
      "text/plain": [
       "<Figure size 432x288 with 1 Axes>"
      ]
     },
     "metadata": {
      "needs_background": "light"
     },
     "output_type": "display_data"
    }
   ],
   "source": [
    "cos_sim = [cosine_similarity_tensors(B_mat, ds_pinv(r, W)) for B_mat in B_array[1::10]]\n",
    "    \n",
    "plt.plot(cos_sim)\n",
    "plt.ylabel('cosine similarity')\n",
    "plt.show()"
   ]
  }
 ],
 "metadata": {
  "kernelspec": {
   "display_name": "Python 3",
   "language": "python",
   "name": "python3"
  },
  "language_info": {
   "codemirror_mode": {
    "name": "ipython",
    "version": 3
   },
   "file_extension": ".py",
   "mimetype": "text/x-python",
   "name": "python",
   "nbconvert_exporter": "python",
   "pygments_lexer": "ipython3",
   "version": "3.8.5"
  }
 },
 "nbformat": 4,
 "nbformat_minor": 4
}
