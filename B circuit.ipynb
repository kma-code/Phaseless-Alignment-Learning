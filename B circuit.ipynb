{
 "cells": [
  {
   "cell_type": "markdown",
   "metadata": {},
   "source": [
    "# A short demo to show how B converges to the data-specific pseudoinverse of W"
   ]
  },
  {
   "cell_type": "code",
   "execution_count": 12,
   "metadata": {},
   "outputs": [],
   "source": [
    "import torch\n",
    "import torchvision\n",
    "import numpy as np\n",
    "from scipy import spatial\n",
    "import timeit"
   ]
  },
  {
   "cell_type": "markdown",
   "metadata": {},
   "source": [
    "Here we will show how gradient descent on the energy E = 1/2 ||r - B W r||^2 + alpha/2 ||B||^2 (with Tikhonov regularization of B) aligns B with the data-specific pseudoinverse of W. In this demo, we keep W fixed and assume only one data vector r."
   ]
  },
  {
   "cell_type": "code",
   "execution_count": 13,
   "metadata": {},
   "outputs": [],
   "source": [
    "# define the update rule for B\n",
    "def update_B(r, W, B):\n",
    "    grad_B = np.outer((- r + B @ W @ r), (W @ r).T)\n",
    "    return grad_B\n",
    "\n",
    "# define the data-specific pseudoinverse of W given the data vector r\n",
    "def ds_pinv(r, W):\n",
    "    gen_pseudo = np.outer(r,r.T) @ W.T / np.linalg.norm(W @ r)**2\n",
    "    return gen_pseudo\n",
    "\n",
    "# define the mismatch energy\n",
    "def mismatch_energy(r, W, B):\n",
    "    return .5 * np.linalg.norm(r - B @ W @ r)**2\n",
    "\n",
    "# define the mismatch energy with regularizer\n",
    "def mismatch_energy_reg(r, W, B, alpha):\n",
    "    return .5 * np.linalg.norm(r - B @ W @ r)**2 + alpha/2. * np.linalg.norm(B)**2\n",
    "\n",
    "# Calculate the cosine similarity between two tensors\n",
    "# using the Frobenius inner product\n",
    "def cosine_similarity_tensors(A, B):\n",
    "    product = np.trace(A.T @ B)\n",
    "    norm = (np.trace(A.T @ A))**.5 * (np.trace(B.T @ B))**.5\n",
    "\n",
    "    # returns cos(theta)\n",
    "    return product / norm\n",
    "\n",
    "# Calculate the cosine similarity between two tensors\n",
    "# using the Frobenius inner product\n",
    "def cosine_similarity_vectors(A, B):\n",
    "    product = A.T @ B\n",
    "    norm = (A.T @ A)**.5 * (B.T @ B)**.5\n",
    "\n",
    "    # returns cos(theta)\n",
    "    return product / norm\n",
    "\n",
    "# alternative measure for the distance of two tensors\n",
    "def norm_distance(A,B):\n",
    "    return np.linalg.norm(A - B)**2 / np.linalg.norm(A) / np.linalg.norm(B)"
   ]
  },
  {
   "cell_type": "markdown",
   "metadata": {},
   "source": [
    "We are now ready to define our 'net', which here just means the matrices W and B. We do so for several examples: a small test net, and some larger nets."
   ]
  },
  {
   "cell_type": "markdown",
   "metadata": {},
   "source": [
    "# Test: small net with 3 -> 2"
   ]
  },
  {
   "cell_type": "code",
   "execution_count": 14,
   "metadata": {},
   "outputs": [
    {
     "name": "stdout",
     "output_type": "stream",
     "text": [
      "mm energy after 50 steps: 4.666433511694878\n",
      "mm energy after 100 steps: 1.7624179226345968\n",
      "mm energy after 150 steps: 0.7436100643263029\n",
      "mm energy after 200 steps: 0.38605104147463465\n",
      "mm energy after 250 steps: 0.2605143284562977\n",
      "mm energy after 300 steps: 0.21642161639269974\n",
      "mm energy after 350 steps: 0.20092840491335617\n",
      "mm energy after 400 steps: 0.19548212174419471\n",
      "plateau detected, reducing alpha to 1.0\n",
      "mm energy after 450 steps: 0.17319930947303286\n",
      "mm energy after 500 steps: 0.1677671809842135\n",
      "plateau detected, reducing alpha to 0.1\n",
      "mm energy after 550 steps: 0.15628785398839057\n",
      "mm energy after 600 steps: 0.14906532472215436\n",
      "mm energy after 650 steps: 0.1422673029528512\n",
      "mm energy after 700 steps: 0.1358688379275355\n",
      "mm energy after 750 steps: 0.12984644539413637\n",
      "mm energy after 800 steps: 0.12417802140665864\n",
      "mm energy after 850 steps: 0.11884276119655429\n",
      "mm energy after 900 steps: 0.1138210828124968\n",
      "mm energy after 950 steps: 0.10909455524828984\n",
      "mm energy after 1000 steps: 0.10464583079511836\n",
      "mm energy after 1050 steps: 0.10045858136985163\n",
      "mm energy after 1100 steps: 0.09651743858570308\n",
      "mm energy after 1150 steps: 0.09280793734528635\n",
      "mm energy after 1200 steps: 0.08931646274903654\n",
      "mm energy after 1250 steps: 0.08603020012413255\n",
      "mm energy after 1300 steps: 0.08293708799051058\n",
      "mm energy after 1350 steps: 0.08002577379133995\n",
      "mm energy after 1400 steps: 0.07728557222547551\n",
      "mm energy after 1450 steps: 0.07470642602895594\n",
      "plateau detected, reducing alpha to 0.010000000000000002\n",
      "mm energy after 1500 steps: 0.06505039464526129\n",
      "mm energy after 1550 steps: 0.06197805236375654\n",
      "mm energy after 1600 steps: 0.059060131454894214\n",
      "mm energy after 1650 steps: 0.05628887042548326\n",
      "mm energy after 1700 steps: 0.05365689788880359\n",
      "mm energy after 1750 steps: 0.05115721295716013\n",
      "mm energy after 1800 steps: 0.048783166619941885\n",
      "mm energy after 1850 steps: 0.046528444057652996\n",
      "mm energy after 1900 steps: 0.044387047844872136\n",
      "mm energy after 1950 steps: 0.04235328199746107\n",
      "mm energy after 2000 steps: 0.040421736821588845\n",
      "mm energy after 2050 steps: 0.03858727452427115\n",
      "mm energy after 2100 steps: 0.036845015547149314\n",
      "mm energy after 2150 steps: 0.03519032558715838\n",
      "mm energy after 2200 steps: 0.033618803269559\n",
      "mm energy after 2250 steps: 0.03212626844054515\n",
      "mm energy after 2300 steps: 0.030708751048285837\n",
      "mm energy after 2350 steps: 0.02936248058282571\n",
      "mm energy after 2400 steps: 0.028083876046755125\n",
      "mm energy after 2450 steps: 0.026869536429971887\n",
      "mm energy after 2500 steps: 0.025716231663198766\n",
      "mm energy after 2550 steps: 0.024620894026193125\n",
      "mm energy after 2600 steps: 0.023580609987795282\n",
      "mm energy after 2650 steps: 0.022592612456110626\n",
      "mm energy after 2700 steps: 0.0216542734182113\n",
      "mm energy after 2750 steps: 0.020763096949779774\n",
      "mm energy after 2800 steps: 0.01991671257609982\n",
      "mm energy after 2850 steps: 0.019112868966736262\n",
      "mm energy after 2900 steps: 0.01834942794713125\n",
      "mm energy after 2950 steps: 0.017624358811188214\n",
      "mm energy after 3000 steps: 0.016935732919715674\n",
      "mm energy after 3050 steps: 0.016281718570362858\n",
      "mm energy after 3100 steps: 0.015660576125401268\n",
      "mm energy after 3150 steps: 0.015070653384393022\n",
      "mm energy after 3200 steps: 0.014510381189436684\n",
      "mm energy after 3250 steps: 0.01397826925130172\n",
      "mm energy after 3300 steps: 0.013472902185348377\n",
      "mm energy after 3350 steps: 0.01299293574668976\n",
      "mm energy after 3400 steps: 0.012537093254581052\n",
      "mm energy after 3450 steps: 0.012104162196525355\n",
      "mm energy after 3500 steps: 0.011692991003063414\n",
      "mm energy after 3550 steps: 0.011302485984667852\n",
      "plateau detected, reducing alpha to 0.0010000000000000002\n",
      "mm energy after 3600 steps: 0.008619209768278638\n",
      "mm energy after 3650 steps: 0.008213096683313506\n",
      "mm energy after 3700 steps: 0.007827048100155661\n",
      "mm energy after 3750 steps: 0.007460072708128479\n",
      "mm energy after 3800 steps: 0.007111228173443309\n",
      "mm energy after 3850 steps: 0.0067796187194377674\n",
      "mm energy after 3900 steps: 0.00646439282636548\n",
      "mm energy after 3950 steps: 0.006164741044830144\n",
      "mm energy after 4000 steps: 0.00587989391724967\n",
      "mm energy after 4050 steps: 0.005609120002012886\n",
      "mm energy after 4100 steps: 0.005351723995255034\n",
      "mm energy after 4150 steps: 0.0051070449454292234\n",
      "mm energy after 4200 steps: 0.0048744545560892244\n",
      "mm energy after 4250 steps: 0.004653355572525167\n",
      "mm energy after 4300 steps: 0.0044431802481094285\n",
      "mm energy after 4350 steps: 0.004243388886414676\n",
      "mm energy after 4400 steps: 0.004053468455360183\n",
      "mm energy after 4450 steps: 0.003872931269827901\n",
      "mm energy after 4500 steps: 0.003701313739365556\n",
      "mm energy after 4550 steps: 0.0035381751777608804\n",
      "mm energy after 4600 steps: 0.0033830966714302234\n",
      "mm energy after 4650 steps: 0.00323568000371594\n",
      "mm energy after 4700 steps: 0.003095546632329963\n",
      "mm energy after 4750 steps: 0.002962336717318115\n",
      "mm energy after 4800 steps: 0.002835708197048901\n",
      "mm energy after 4850 steps: 0.0027153359098543313\n",
      "mm energy after 4900 steps: 0.0026009107590669613\n",
      "mm energy after 4950 steps: 0.0024921389193093882\n"
     ]
    }
   ],
   "source": [
    "# define parameters of net\n",
    "layers = [3, 2]\n",
    "steps = 5000\n",
    "bw_lr = 1e-3\n",
    "alpha = 1e+1\n",
    "alpha_decay = 1e-1\n",
    "\n",
    "# after how many steps to eval model\n",
    "per_steps = 50\n",
    "\n",
    "# init weights\n",
    "W = np.random.rand(layers[1],layers[0])\n",
    "B = np.random.rand(layers[0],layers[1])\n",
    "r = np.random.rand(layers[0])\n",
    "B0 = B.copy()\n",
    "B_array = []\n",
    "\n",
    "# keep W fixed, but change B\n",
    "mm_energy = []\n",
    "for i in range(steps):\n",
    "    B -= bw_lr * (update_B(r, W, B) + alpha * B)\n",
    "    B_array.append(B.copy())\n",
    "    \n",
    "    mm_energy.append(mismatch_energy_reg(r, W, B, alpha))\n",
    "    \n",
    "    # every 50 steps, take average and see if energy doesn't move\n",
    "    if i % per_steps == 0 and i != 0:\n",
    "        print(f'mm energy after {i} steps: {mm_energy[-1]}')\n",
    "        if mm_energy[-1] < 1e-5:\n",
    "            print(\"reached precision of 10^-5\")\n",
    "            break\n",
    "        if np.sqrt(np.cov(mm_energy[-per_steps:])) < 1e-2 * np.mean(mm_energy[-per_steps:]):\n",
    "            alpha *= alpha_decay\n",
    "            print(f'plateau detected, reducing alpha to {alpha}')"
   ]
  },
  {
   "cell_type": "code",
   "execution_count": 15,
   "metadata": {},
   "outputs": [
    {
     "data": {
      "image/png": "[encoded data removed]",
      "text/plain": [
       "<Figure size 432x288 with 1 Axes>"
      ]
     },
     "metadata": {
      "needs_background": "light"
     },
     "output_type": "display_data"
    }
   ],
   "source": [
    "import matplotlib.pyplot as plt\n",
    "plt.plot(mm_energy)\n",
    "plt.yscale('log')\n",
    "plt.ylabel('mm energy')\n",
    "plt.show()"
   ]
  },
  {
   "cell_type": "code",
   "execution_count": 16,
   "metadata": {},
   "outputs": [
    {
     "data": {
      "image/png": "[encoded data removed]",
      "text/plain": [
       "<Figure size 432x288 with 1 Axes>"
      ]
     },
     "metadata": {
      "needs_background": "light"
     },
     "output_type": "display_data"
    }
   ],
   "source": [
    "cos_sim = [cosine_similarity_tensors(B_mat, ds_pinv(r, W)) for B_mat in B_array]\n",
    "    \n",
    "plt.plot(cos_sim)\n",
    "plt.ylabel('cosine similarity')\n",
    "plt.show()"
   ]
  },
  {
   "cell_type": "code",
   "execution_count": 17,
   "metadata": {},
   "outputs": [
    {
     "data": {
      "image/png": "[encoded data removed]",
      "text/plain": [
       "<Figure size 432x288 with 1 Axes>"
      ]
     },
     "metadata": {
      "needs_background": "light"
     },
     "output_type": "display_data"
    }
   ],
   "source": [
    "norm_dist = [norm_distance(B_mat, ds_pinv(r, W)) for B_mat in B_array]\n",
    "    \n",
    "plt.plot(norm_dist)\n",
    "plt.ylabel('normalized distance')\n",
    "plt.show()"
   ]
  },
  {
   "cell_type": "markdown",
   "metadata": {},
   "source": [
    "# A larger net with 100 -> 10"
   ]
  },
  {
   "cell_type": "code",
   "execution_count": 18,
   "metadata": {},
   "outputs": [
    {
     "name": "stdout",
     "output_type": "stream",
     "text": [
      "mm energy after 50 steps: 3.1029334304295673\n",
      "mm energy after 100 steps: 2.3024725406295956\n",
      "mm energy after 150 steps: 2.302451279268608\n",
      "plateau detected, reducing alpha to 100.0\n",
      "mm energy after 200 steps: 0.26225437725720735\n",
      "mm energy after 250 steps: 0.26225437724410233\n",
      "plateau detected, reducing alpha to 10.0\n",
      "mm energy after 300 steps: 0.0265951703865184\n",
      "plateau detected, reducing alpha to 1.0\n",
      "mm energy after 350 steps: 0.0026632717846248577\n",
      "plateau detected, reducing alpha to 0.1\n",
      "mm energy after 400 steps: 0.00026636478424152193\n",
      "plateau detected, reducing alpha to 0.010000000000000002\n",
      "mm energy after 450 steps: 2.6636854540353274e-05\n",
      "plateau detected, reducing alpha to 0.0010000000000000002\n",
      "mm energy after 500 steps: 2.663689215255758e-06\n",
      "reached precision of 10^-5\n"
     ]
    }
   ],
   "source": [
    "# define parameters of net\n",
    "layers = [100, 10]\n",
    "steps = 5000\n",
    "bw_lr = 1e-4\n",
    "alpha = 1e+3\n",
    "alpha_decay = 1e-1\n",
    "\n",
    "# after how many steps to eval model\n",
    "per_steps = 50\n",
    "\n",
    "# init weights\n",
    "W = np.random.rand(layers[1],layers[0])\n",
    "B = np.random.rand(layers[0],layers[1])\n",
    "r = np.random.rand(layers[0])\n",
    "B0 = B.copy()\n",
    "B_array = []\n",
    "\n",
    "# keep W fixed, but change B\n",
    "mm_energy = []\n",
    "for i in range(steps):\n",
    "    B -= bw_lr * (update_B(r, W, B) + alpha * B)\n",
    "    B_array.append(B.copy())\n",
    "    \n",
    "    mm_energy.append(mismatch_energy_reg(r, W, B, alpha))\n",
    "    \n",
    "    # every 50 steps, take average and see if energy doesn't move\n",
    "    if i % per_steps == 0 and i != 0:\n",
    "        if np.isnan(mm_energy[-1]) or np.isinf(mm_energy[-1]):\n",
    "            raise ValueError('mm energy inf or nan')\n",
    "        print(f'mm energy after {i} steps: {mm_energy[-1]}')\n",
    "        if mm_energy[-1] < 1e-5:\n",
    "            print(\"reached precision of 10^-5\")\n",
    "            break\n",
    "        if np.sqrt(np.cov(mm_energy[-per_steps:])) < 1e-2 * np.mean(mm_energy[-per_steps:]):\n",
    "            alpha *= alpha_decay\n",
    "            print(f'plateau detected, reducing alpha to {alpha}')"
   ]
  },
  {
   "cell_type": "code",
   "execution_count": 19,
   "metadata": {},
   "outputs": [
    {
     "data": {
      "image/png": "[encoded data removed]",
      "text/plain": [
       "<Figure size 432x288 with 1 Axes>"
      ]
     },
     "metadata": {
      "needs_background": "light"
     },
     "output_type": "display_data"
    }
   ],
   "source": [
    "import matplotlib.pyplot as plt\n",
    "plt.plot(mm_energy)\n",
    "plt.yscale('log')\n",
    "plt.ylabel('mm energy')\n",
    "plt.show()"
   ]
  },
  {
   "cell_type": "code",
   "execution_count": 20,
   "metadata": {},
   "outputs": [
    {
     "data": {
      "image/png": "[encoded data removed]",
      "text/plain": [
       "<Figure size 432x288 with 1 Axes>"
      ]
     },
     "metadata": {
      "needs_background": "light"
     },
     "output_type": "display_data"
    }
   ],
   "source": [
    "cos_sim = [cosine_similarity_tensors(B_mat, ds_pinv(r, W)) for B_mat in B_array]\n",
    "    \n",
    "plt.plot(cos_sim)\n",
    "plt.ylabel('cosine similarity')\n",
    "plt.show()"
   ]
  },
  {
   "cell_type": "code",
   "execution_count": 21,
   "metadata": {},
   "outputs": [
    {
     "data": {
      "image/png": "[encoded data removed]",
      "text/plain": [
       "<Figure size 432x288 with 1 Axes>"
      ]
     },
     "metadata": {
      "needs_background": "light"
     },
     "output_type": "display_data"
    }
   ],
   "source": [
    "norm_dist = [norm_distance(B_mat, ds_pinv(r, W)) for B_mat in B_array]\n",
    "    \n",
    "plt.plot(norm_dist)\n",
    "plt.ylabel('normalized distance')\n",
    "plt.show()"
   ]
  },
  {
   "cell_type": "markdown",
   "metadata": {},
   "source": [
    "# The inverse: 10 -> 100"
   ]
  },
  {
   "cell_type": "code",
   "execution_count": 22,
   "metadata": {},
   "outputs": [
    {
     "name": "stdout",
     "output_type": "stream",
     "text": [
      "mm energy after 50 steps: 0.316592322478641\n",
      "mm energy after 100 steps: 0.22145678725112222\n",
      "mm energy after 150 steps: 0.22145426031822274\n",
      "plateau detected, reducing alpha to 10.0\n",
      "mm energy after 200 steps: 0.027457148842320866\n",
      "mm energy after 250 steps: 0.027457148840763335\n",
      "plateau detected, reducing alpha to 1.0\n",
      "mm energy after 300 steps: 0.002813191080863946\n",
      "mm energy after 350 steps: 0.0028131910808562\n",
      "plateau detected, reducing alpha to 0.1\n",
      "mm energy after 400 steps: 0.0002820121555617464\n",
      "plateau detected, reducing alpha to 0.010000000000000002\n",
      "mm energy after 450 steps: 2.8208164816594727e-05\n",
      "plateau detected, reducing alpha to 0.0010000000000000002\n",
      "mm energy after 500 steps: 2.820885993100717e-06\n",
      "reached precision of 10^-5\n"
     ]
    }
   ],
   "source": [
    "# define parameters of net\n",
    "layers = [10, 100]\n",
    "steps = 5000\n",
    "bw_lr = 1e-3\n",
    "alpha = 1e+2\n",
    "alpha_decay = 1e-1\n",
    "\n",
    "# after how many steps to eval model\n",
    "per_steps = 50\n",
    "\n",
    "# init weights\n",
    "W = np.random.rand(layers[1],layers[0])\n",
    "B = np.random.rand(layers[0],layers[1])\n",
    "r = np.random.rand(layers[0])\n",
    "B0 = B.copy()\n",
    "B_array = []\n",
    "\n",
    "# keep W fixed, but change B\n",
    "mm_energy = []\n",
    "for i in range(steps):\n",
    "    B -= bw_lr * (update_B(r, W, B) + alpha * B)\n",
    "    B_array.append(B.copy())\n",
    "    \n",
    "    mm_energy.append(mismatch_energy_reg(r, W, B, alpha))\n",
    "    \n",
    "    # every 50 steps, take average and see if energy doesn't move\n",
    "    if i % per_steps == 0 and i != 0:\n",
    "        if np.isnan(mm_energy[-1]) or np.isinf(mm_energy[-1]):\n",
    "            raise ValueError('mm energy inf or nan')\n",
    "        print(f'mm energy after {i} steps: {mm_energy[-1]}')\n",
    "        if mm_energy[-1] < 1e-5:\n",
    "            print(\"reached precision of 10^-5\")\n",
    "            break\n",
    "        if np.sqrt(np.cov(mm_energy[-per_steps:])) < 1e-2 * np.mean(mm_energy[-per_steps:]):\n",
    "            alpha *= alpha_decay\n",
    "            print(f'plateau detected, reducing alpha to {alpha}')"
   ]
  },
  {
   "cell_type": "code",
   "execution_count": 23,
   "metadata": {},
   "outputs": [
    {
     "data": {
      "image/png": "[encoded data removed]",
      "text/plain": [
       "<Figure size 432x288 with 1 Axes>"
      ]
     },
     "metadata": {
      "needs_background": "light"
     },
     "output_type": "display_data"
    }
   ],
   "source": [
    "import matplotlib.pyplot as plt\n",
    "plt.plot(mm_energy)\n",
    "plt.yscale('log')\n",
    "plt.ylabel('mm energy')\n",
    "plt.show()"
   ]
  },
  {
   "cell_type": "code",
   "execution_count": 24,
   "metadata": {},
   "outputs": [
    {
     "data": {
      "image/png": "[encoded data removed]",
      "text/plain": [
       "<Figure size 432x288 with 1 Axes>"
      ]
     },
     "metadata": {
      "needs_background": "light"
     },
     "output_type": "display_data"
    }
   ],
   "source": [
    "cos_sim = [cosine_similarity_tensors(B_mat, ds_pinv(r, W)) for B_mat in B_array]\n",
    "    \n",
    "plt.plot(cos_sim)\n",
    "plt.ylabel('cosine similarity')\n",
    "plt.show()"
   ]
  },
  {
   "cell_type": "code",
   "execution_count": 25,
   "metadata": {},
   "outputs": [
    {
     "data": {
      "image/png": "[encoded data removed]",
      "text/plain": [
       "<Figure size 432x288 with 1 Axes>"
      ]
     },
     "metadata": {
      "needs_background": "light"
     },
     "output_type": "display_data"
    }
   ],
   "source": [
    "norm_dist = [norm_distance(B_mat, ds_pinv(r, W)) for B_mat in B_array]\n",
    "    \n",
    "plt.plot(norm_dist)\n",
    "plt.ylabel('normalized distance')\n",
    "plt.show()"
   ]
  },
  {
   "cell_type": "markdown",
   "metadata": {},
   "source": [
    "# A realistic net with 784 -> 500"
   ]
  },
  {
   "cell_type": "code",
   "execution_count": 26,
   "metadata": {},
   "outputs": [
    {
     "name": "stdout",
     "output_type": "stream",
     "text": [
      "mm energy after 50 steps: 3511855.9939269\n",
      "mm energy after 100 steps: 138.43718440920824\n",
      "mm energy after 150 steps: 45.16105363880102\n",
      "mm energy after 200 steps: 45.15857609428495\n",
      "plateau detected, reducing alpha to 1000000.0\n",
      "mm energy after 250 steps: 6.570844778520834\n",
      "mm energy after 300 steps: 6.570844773748826\n",
      "plateau detected, reducing alpha to 100000.0\n",
      "mm energy after 350 steps: 0.6884113393673391\n",
      "mm energy after 400 steps: 0.6884113391401078\n",
      "plateau detected, reducing alpha to 10000.0\n",
      "mm energy after 450 steps: 0.06917091001269426\n",
      "plateau detected, reducing alpha to 1000.0\n",
      "mm energy after 500 steps: 0.006920406147643285\n",
      "plateau detected, reducing alpha to 100.0\n",
      "mm energy after 550 steps: 0.0006920737837061598\n",
      "plateau detected, reducing alpha to 10.0\n",
      "mm energy after 600 steps: 6.920771007752174e-05\n",
      "plateau detected, reducing alpha to 1.0\n",
      "mm energy after 650 steps: 6.920774324838716e-06\n",
      "reached precision of 10^-5\n"
     ]
    }
   ],
   "source": [
    "# define parameters of net\n",
    "layers = [784, 500]\n",
    "steps = 5000\n",
    "bw_lr = 1e-8\n",
    "alpha = 1e+7\n",
    "alpha_decay = 1e-1\n",
    "\n",
    "# after how many steps to eval model\n",
    "per_steps = 50\n",
    "\n",
    "# init weights\n",
    "W = np.random.rand(layers[1],layers[0])\n",
    "B = np.random.rand(layers[0],layers[1])\n",
    "r = np.random.rand(layers[0])\n",
    "B0 = B.copy()\n",
    "B_array = []\n",
    "\n",
    "# keep W fixed, but change B\n",
    "mm_energy = []\n",
    "for i in range(steps):\n",
    "    B -= bw_lr * (update_B(r, W, B) + alpha * B)\n",
    "    B_array.append(B.copy())\n",
    "    \n",
    "    mm_energy.append(mismatch_energy_reg(r, W, B, alpha))\n",
    "    \n",
    "    # every 50 steps, take average and see if energy doesn't move\n",
    "    if i % per_steps == 0 and i != 0:\n",
    "        if np.isnan(mm_energy[-1]) or np.isinf(mm_energy[-1]):\n",
    "            raise ValueError('mm energy inf or nan')\n",
    "        print(f'mm energy after {i} steps: {mm_energy[-1]}')\n",
    "        if mm_energy[-1] < 1e-5:\n",
    "            print(\"reached precision of 10^-5\")\n",
    "            break\n",
    "        if np.sqrt(np.cov(mm_energy[-per_steps:])) < 1e-2 * np.mean(mm_energy[-per_steps:]):\n",
    "            alpha *= alpha_decay\n",
    "            print(f'plateau detected, reducing alpha to {alpha}')"
   ]
  },
  {
   "cell_type": "code",
   "execution_count": 27,
   "metadata": {},
   "outputs": [
    {
     "data": {
      "image/png": "[encoded data removed]",
      "text/plain": [
       "<Figure size 432x288 with 1 Axes>"
      ]
     },
     "metadata": {
      "needs_background": "light"
     },
     "output_type": "display_data"
    }
   ],
   "source": [
    "import matplotlib.pyplot as plt\n",
    "plt.plot(mm_energy)\n",
    "plt.yscale('log')\n",
    "plt.ylabel('mm energy')\n",
    "plt.show()"
   ]
  },
  {
   "cell_type": "code",
   "execution_count": 29,
   "metadata": {},
   "outputs": [
    {
     "data": {
      "image/png": "[encoded data removed]",
      "text/plain": [
       "<Figure size 432x288 with 1 Axes>"
      ]
     },
     "metadata": {
      "needs_background": "light"
     },
     "output_type": "display_data"
    }
   ],
   "source": [
    "cos_sim = [cosine_similarity_tensors(B_mat, ds_pinv(r, W)) for B_mat in B_array[::10]]\n",
    "\n",
    "plt.plot(cos_sim)\n",
    "plt.ylabel('cosine similarity')\n",
    "plt.show()"
   ]
  },
  {
   "cell_type": "code",
   "execution_count": 30,
   "metadata": {},
   "outputs": [
    {
     "data": {
      "image/png": "[encoded data removed]",
      "text/plain": [
       "<Figure size 432x288 with 1 Axes>"
      ]
     },
     "metadata": {
      "needs_background": "light"
     },
     "output_type": "display_data"
    }
   ],
   "source": [
    "norm_dist = [norm_distance(B_mat, ds_pinv(r, W)) for B_mat in B_array[::10]]\n",
    "    \n",
    "plt.plot(norm_dist)\n",
    "plt.ylabel('normalized distance')\n",
    "plt.show()"
   ]
  }
 ],
 "metadata": {
  "kernelspec": {
   "display_name": "Python 3",
   "language": "python",
   "name": "python3"
  },
  "language_info": {
   "codemirror_mode": {
    "name": "ipython",
    "version": 3
   },
   "file_extension": ".py",
   "mimetype": "text/x-python",
   "name": "python",
   "nbconvert_exporter": "python",
   "pygments_lexer": "ipython3",
   "version": "3.8.5"
  }
 },
 "nbformat": 4,
 "nbformat_minor": 4
}
