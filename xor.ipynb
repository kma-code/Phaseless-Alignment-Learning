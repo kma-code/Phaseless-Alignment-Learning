{
 "cells": [
  {
   "cell_type": "code",
   "execution_count": 1,
   "id": "4fd475a6-06cd-4d27-9bfc-57f095ddd433",
   "metadata": {},
   "outputs": [],
   "source": [
    "import numpy as np\n",
    "import matplotlib.pyplot as plt\n",
    "import copy\n",
    "from scipy.linalg import sqrtm"
   ]
  },
  {
   "cell_type": "code",
   "execution_count": 21,
   "id": "070a3620-6fb0-4d2c-a468-68fc4ff027fb",
   "metadata": {},
   "outputs": [],
   "source": [
    "# MSE error\n",
    "def calc_error(r, target):\n",
    "    return r - target\n",
    "\n",
    "def calc_loss(r, target):\n",
    "    return 0.5 * ((r - target)**2).mean()\n",
    "\n",
    "def calc_accuracy_onehot(r, target):\n",
    "    # one hot encoding of output\n",
    "    b = np.zeros_like(r)\n",
    "    b[np.where(r == np.amax(r))] = 1\n",
    "    return np.linalg.norm(b * target)\n",
    "\n",
    "def calc_accuracy_single(r, target, eps = 0.25):\n",
    "    if np.abs(target - r) < eps:\n",
    "        return 1.0\n",
    "    else:\n",
    "        return 0.0\n",
    "\n",
    "def linear(x):\n",
    "    return x\n",
    "\n",
    "def d_linear(x):\n",
    "    return np.ones_like(x)\n",
    "\n",
    "def relu(x):\n",
    "    return np.maximum(x, 0, x)\n",
    "\n",
    "def d_relu(x):\n",
    "    return np.heaviside(x, 0)\n",
    "\n",
    "def logistic(x):\n",
    "    return 1/(1 + np.exp(-x))\n",
    "\n",
    "def d_logistic(x):\n",
    "    y = logistic(x)\n",
    "    return y * (1.0 - y)\n",
    "\n",
    "def tanh(x):\n",
    "    return np.tanh(x)\n",
    "\n",
    "def d_tanh(x):\n",
    "    y = tanh(x)\n",
    "    return 1 - y**2\n",
    "\n",
    "def ds_pinv(r_array, w_matrix):\n",
    "\n",
    "    covariance = np.cov(r_array.T)\n",
    "    mean = np.mean(r_array, axis=0)\n",
    "    gammasquared = covariance + np.outer(mean,mean)\n",
    "    \n",
    "    u_matrix, s_matrix, vh_matrix = np.linalg.svd(gammasquared)\n",
    "    gamma = np.dot(np.dot(u_matrix, np.diag(np.sqrt(s_matrix))), vh_matrix)\n",
    "    \n",
    "    # gamma = sqrtm(gammasquared)\n",
    "    #print(gamma.shape[0])\n",
    "    \n",
    "    # gamma = np.eye(gamma.shape[0])\n",
    "    # print(gamma)\n",
    "\n",
    "    gen_pseudo = np.dot(gamma, np.linalg.pinv(np.dot(w_matrix, gamma)))\n",
    "    if not np.all(np.isreal(gen_pseudo) == True):\n",
    "        print(gen_pseudo)\n",
    "        raise ValueError('ds-pinv has not converged to real matrix')\n",
    "\n",
    "    return gen_pseudo\n",
    "\n",
    "def cos_sim(A, B):\n",
    "    return np.trace(A.T @ B) / np.linalg.norm(A) / np.linalg.norm(B)\n",
    "\n",
    "def sem(A):\n",
    "    return np.std(A) / np.sqrt(len(A))"
   ]
  },
  {
   "cell_type": "code",
   "execution_count": 131,
   "id": "0a104bcd-98f2-417d-a514-2689dcb5b231",
   "metadata": {},
   "outputs": [],
   "source": [
    "def calc_net(lr, layers, activation, d_activation, W_init, inputs, steps, algo, learn_W, bias, learn_bias, acc_measure, bw_lr = None, alpha = None, pinv_recalc = 4, print_steps = 10):\n",
    "\n",
    "    number_layers = len(layers)\n",
    "    e = [[] for layer in range(number_layers)]\n",
    "    e_array = []\n",
    "    loss_array = []\n",
    "    acc_array = []\n",
    "    r = [[] for layer in range(number_layers)]\n",
    "    W_array = []\n",
    "    B_array = []\n",
    "    bias_array = []\n",
    "    r_array = []\n",
    "    bias_array.append(copy.deepcopy(bias))\n",
    "\n",
    "    W = copy.deepcopy(W_init)\n",
    "    \n",
    "    W_array.append(copy.deepcopy(W_init))\n",
    "    \n",
    "    if algo in ['fa', 'dyn-pbp', 'gen-pbp']:\n",
    "        pinv_counter = 0\n",
    "        B = []\n",
    "        for mat in W_init:\n",
    "            # use uniform [0,1] init for FA backwards matrix\n",
    "            B.append(np.random.uniform(0, 1, size=(mat.shape)).T)\n",
    "    \n",
    "    elif algo in ['pbp']:\n",
    "        pinv_counter = 0\n",
    "        B = []\n",
    "        for mat in W_init:\n",
    "            B.append(np.linalg.pinv(mat))\n",
    "\n",
    "    for i in range(steps):\n",
    "        if print_steps > 0:\n",
    "            if i % (steps / print_steps) == 0:\n",
    "                print(\"Working on step \" , i)\n",
    "        dW = [np.zeros_like(W) for W in W_init]\n",
    "        dB = [np.zeros_like(W.T) for W in W_init]\n",
    "        dbias = [np.zeros_like(bias) for bias in bias]\n",
    "        \n",
    "        # batch learn over all samples\n",
    "        for j in range(len(inputs)):\n",
    "            r[0] = inputs[j]\n",
    "            target = targets[j]\n",
    "\n",
    "            # fw pass\n",
    "            for l in range(len(layers)-2):\n",
    "                r[l+1] = activation(W[l] @ r[l] + bias[l])\n",
    "            r[-1] = W[-1] @ r[-2] + bias[-1]\n",
    "\n",
    "            # bw pass\n",
    "            e[-1] = calc_error(r[-1], target)\n",
    "\n",
    "            for k in range(len(layers)-2, -1, -1):\n",
    "                if algo == 'bp':\n",
    "                    e[k] = np.diag(d_activation(r[k])) @ W[k].T @ e[k+1]\n",
    "                elif algo == 'fa':\n",
    "                    e[k] = np.diag(d_activation(r[k])) @ B[k] @ e[k+1]\n",
    "                elif algo in ['pbp', 'gen-pbp', 'dyn-pbp']:\n",
    "                    e[k] = np.diag(d_activation(r[k])) @ B[k] @ e[k+1]\n",
    "\n",
    "            # calculate weight update\n",
    "            for l in range(len(layers)-1):\n",
    "                if learn_W[l]:\n",
    "                    dW[l] += np.outer(e[l+1], r[l])\n",
    "                if learn_bias[l]:\n",
    "                    dbias[l] += e[l+1]\n",
    "                if algo == 'dyn-pbp':\n",
    "                    dB[l] += np.outer(B[l] @ W[l] @ r[l] - r[l], W[l] @ r[l])\n",
    "                    \n",
    "            r_array.append(copy.deepcopy(r))     \n",
    "            e_array.append(copy.deepcopy(e))\n",
    "            W_array.append(copy.deepcopy(W))\n",
    "            if algo in ['fa', 'pbp', 'gen-pbp', 'dyn-pbp']:\n",
    "                B_array.append(copy.deepcopy(B))\n",
    "            bias_array.append(copy.deepcopy(bias))\n",
    "            loss_array.append(calc_loss(r[-1], target))\n",
    "            \n",
    "            if acc_measure == \"onehot\":\n",
    "                acc_array.append(calc_accuracy_onehot(r[-1], target))\n",
    "            elif acc_measure == \"single\":\n",
    "                acc_array.append(calc_accuracy_single(r[-1][0], target))\n",
    "                    \n",
    "        # update weights\n",
    "        for l in range(len(layers)-1):\n",
    "            if learn_W[l]:\n",
    "                W[l] -= lr * dW[l]\n",
    "            if learn_bias[l]:\n",
    "                bias[l] -= lr * dbias[l]\n",
    "            if algo == 'dyn-pbp':\n",
    "                B[l] -= bw_lr * (dB[l] - alpha * B[l])\n",
    "        \n",
    "        if algo in ['pbp', 'gen-pbp']:\n",
    "            pinv_counter += 1\n",
    "            if pinv_counter == pinv_recalc:\n",
    "                for k in range(len(layers)-2, -1, -1):\n",
    "                    if algo == 'pbp':\n",
    "                        B[k] = np.linalg.pinv(W[k])\n",
    "                    elif algo == 'gen-pbp':\n",
    "                        # create a batch of r's since last recalc of backwards weights\n",
    "                        r_batch = [r_array[-pinv_recalc:][i][k] for i in range(pinv_recalc)]\n",
    "                        # catch an exeption where ds-pinv does not converge to a real matrix\n",
    "                        try:\n",
    "                            B[k] = ds_pinv(np.array(r_batch), W[k])\n",
    "                        except ValueError:\n",
    "                            print('ds-pinv has not converged to real matrix')\n",
    "                            return _, _, _, _, _, _\n",
    "                    pinv_counter = 0\n",
    "    if algo in ['fa', 'pbp', 'gen-pbp', 'dyn-pbp']:\n",
    "        return r_array, e_array, W_array, B_array, loss_array, acc_array\n",
    "    else:\n",
    "        return r_array, e_array, W_array, _, loss_array, acc_array"
   ]
  },
  {
   "cell_type": "code",
   "execution_count": 5,
   "id": "0970cbc5-4a7a-4c76-816e-a4a56a46ed60",
   "metadata": {},
   "outputs": [],
   "source": [
    "# plot options\n",
    "labels = ['bp', 'fa', 'pbp', 'gen-pbp', 'dyn-pbp']\n",
    "styles = ['g', 'b', 'r', 'y', 'black']"
   ]
  },
  {
   "cell_type": "markdown",
   "id": "cb85ea58-4d2e-477a-861e-fcfa055e956b",
   "metadata": {},
   "source": [
    "# The setup"
   ]
  },
  {
   "cell_type": "markdown",
   "id": "c091c199-2221-49df-998b-21d28edf94a6",
   "metadata": {},
   "source": [
    " In order to limit the network to the smallest size, we use single-target encoding, i.e. the targets are encoded as -1 (for xor = zero) and +1 (for one).\n",
    " \n",
    " In combination with the input in the form [-1, -1] for [zero, zero] etc., this symmetrises the problem around positive and negative error propagation. Therefore, we should see that FA fails in ~50% of cases.\n",
    " \n",
    " Also, bias is deactivated because we want to stress how FA is not able to produce sign changes in the error signal.\n",
    " \n",
    " Therefore, we need a net of hidden layer size 3, i.e. 2-3-1. (?)\n",
    " \n",
    " A note on pinv_recalc:\n",
    " Here, we sample over all 4 examples given by xor. Therefore, pinv-recalc should be set to 4 or multiples of 4."
   ]
  },
  {
   "cell_type": "markdown",
   "id": "fc240241-83c4-40c8-a6e0-c16750d952a5",
   "metadata": {},
   "source": [
    "# Comparison of activation functions"
   ]
  },
  {
   "cell_type": "markdown",
   "id": "4db4e58d-3578-4a1c-9a46-a3f8ab3f1a0a",
   "metadata": {},
   "source": [
    "Let's start by comparing the effect of different activation functions with backprop."
   ]
  },
  {
   "cell_type": "code",
   "execution_count": 144,
   "id": "e9a741da-d407-46dc-a4a7-11c2b600fa15",
   "metadata": {},
   "outputs": [],
   "source": [
    "# define parameters of model\n",
    "lr = 0.1\n",
    "layers = [2, 3, 1]\n",
    "\n",
    "inputs = np.array([[1, 0], [0, 1], [1, 1], [0, 0]])\n",
    "targets = np.array([1, 1, 0, 0])\n",
    "\n",
    "steps = 4000\n",
    "seeds = 5"
   ]
  },
  {
   "cell_type": "code",
   "execution_count": 145,
   "id": "697e4e58-1fff-4060-a189-a0f0a78dfec0",
   "metadata": {},
   "outputs": [
    {
     "name": "stdout",
     "output_type": "stream",
     "text": [
      "accuracy over last 100 samples:  1.0\n",
      "accuracy over last 100 samples:  0.5\n",
      "accuracy over last 100 samples:  0.75\n",
      "accuracy over last 100 samples:  0.25\n",
      "accuracy over last 100 samples:  0.25\n",
      "--------------------------------------\n",
      "activation:  <function relu at 0x7ff291a80d30> , total accuracy over  5  seeds:  0.55  +-  0.13038404810405296\n",
      "accuracy over last 100 samples:  0.0\n",
      "accuracy over last 100 samples:  0.0\n",
      "accuracy over last 100 samples:  0.0\n",
      "accuracy over last 100 samples:  0.0\n",
      "accuracy over last 100 samples:  0.0\n",
      "--------------------------------------\n",
      "activation:  <function logistic at 0x7ff291b54550> , total accuracy over  5  seeds:  0.0  +-  0.0\n",
      "accuracy over last 100 samples:  1.0\n",
      "accuracy over last 100 samples:  1.0\n",
      "accuracy over last 100 samples:  1.0\n",
      "accuracy over last 100 samples:  1.0\n",
      "accuracy over last 100 samples:  1.0\n",
      "--------------------------------------\n",
      "activation:  <function tanh at 0x7ff291a80f70> , total accuracy over  5  seeds:  1.0  +-  0.0\n"
     ]
    }
   ],
   "source": [
    "for activation in [[relu, d_relu], [logistic, d_logistic], [tanh, d_tanh]]:\n",
    "    acc = []\n",
    "    for seed in range(seeds):\n",
    "\n",
    "        np.random.seed(seed)\n",
    "        init_val = 1\n",
    "        W1_init = np.random.uniform(-init_val, init_val, size=(layers[1], layers[0]))\n",
    "        W2_init = np.random.uniform(-init_val, init_val, size=(layers[2], layers[1]))\n",
    "        # W1_init = np.random.normal(0, 1, size=(layers[1], layers[0]))\n",
    "        # W2_init = np.random.normal(0, 1, size=(layers[2], layers[1]))\n",
    "        bias_init = [np.zeros(layers[1]), np.zeros(layers[2])]\n",
    "        W_init = [W1_init, W2_init]\n",
    "\n",
    "        _, _, _, _, _, acc_array_bp = calc_net(lr, layers, activation[0], activation[1], W_init, inputs, steps, 'bp', learn_W = [True]*(len(layers)-1), bias = bias_init, learn_bias = [False]*(len(layers)-1), acc_measure = 'single', print_steps=0)\n",
    "\n",
    "        acc.append(np.mean(acc_array_bp[-100:]))\n",
    "        print('accuracy over last 100 samples: ', acc[-1])\n",
    "\n",
    "    print('--------------------------------------')\n",
    "    print('activation: ', str(activation[0]),', total accuracy over ', seeds, ' seeds: ', np.mean(acc), ' +- ', np.std(acc)/np.sqrt(seeds))"
   ]
  },
  {
   "cell_type": "markdown",
   "id": "84e24a7d-d966-4316-8626-2987191b30f1",
   "metadata": {},
   "source": [
    "## Conclusion:\n",
    "\n",
    "Tanh gives best results for this initialization, number of steps and learning rate, so we pick this."
   ]
  },
  {
   "cell_type": "markdown",
   "id": "32102422-9824-41b6-b9f1-2c879b93199f",
   "metadata": {},
   "source": [
    "# Comparison of models"
   ]
  },
  {
   "cell_type": "markdown",
   "id": "9b8068a9-6dc7-4f0e-85ae-56e4d7c10d6d",
   "metadata": {},
   "source": [
    "First, let's run a parameter scan for each model with 10 seeds"
   ]
  },
  {
   "cell_type": "code",
   "execution_count": 146,
   "id": "576a036f-d2c6-4be2-815f-911e99ca59e0",
   "metadata": {},
   "outputs": [],
   "source": [
    "# define parameters of model\n",
    "lrs = [0.01, 0.05, 0.1]\n",
    "\n",
    "layers = [2, 3, 1]\n",
    "\n",
    "inputs = np.array([[1, 0], [0, 1], [1, 1], [0, 0]])\n",
    "targets = np.array([1, 1, 0, 0])\n",
    "\n",
    "steps = 4000\n",
    "seeds = 10"
   ]
  },
  {
   "cell_type": "code",
   "execution_count": 148,
   "id": "5b4533d2-9ce2-49c3-a479-1bb202b93069",
   "metadata": {},
   "outputs": [
    {
     "name": "stdout",
     "output_type": "stream",
     "text": [
      "model: bp lr: 0.01 accuracy: 0.775 +- 0.13205112646244258\n",
      "model: bp lr: 0.05 accuracy: 0.925 +- 0.0832916562447884\n",
      "model: bp lr: 0.1 accuracy: 1.0 +- 0.0\n",
      "model: fa lr: 0.01 accuracy: 0.5 +- 0.15811388300841897\n",
      "model: fa lr: 0.05 accuracy: 1.0 +- 0.0\n",
      "model: fa lr: 0.1 accuracy: 1.0 +- 0.0\n",
      "model: pbp lr: 0.01 accuracy: 0.5 +- 0.15811388300841897\n",
      "model: pbp lr: 0.05 accuracy: 0.925 +- 0.0832916562447884\n",
      "model: pbp lr: 0.1 accuracy: 0.95 +- 0.06892024376045111\n"
     ]
    }
   ],
   "source": [
    "for model in ['bp', 'fa', 'pbp']:\n",
    "    for lr in lrs:\n",
    "        acc = []\n",
    "        for seed in range(seeds):\n",
    "\n",
    "            np.random.seed(seed)\n",
    "            init_val = 1\n",
    "            W1_init = np.random.uniform(-init_val, init_val, size=(layers[1], layers[0]))\n",
    "            W2_init = np.random.uniform(-init_val, init_val, size=(layers[2], layers[1]))\n",
    "            bias_init = [np.zeros(layers[1]), np.zeros(layers[2])]\n",
    "            W_init = [W1_init, W2_init]\n",
    "\n",
    "            _, _, _, _, _, acc_array = calc_net(lr, layers, tanh, d_tanh, W_init, inputs, steps, model,\n",
    "                                            learn_W = [True]*(len(layers)-1), bias = bias_init, learn_bias = [False]*(len(layers)-1),\n",
    "                                            acc_measure = 'single', print_steps=0, pinv_recalc=40)\n",
    "\n",
    "            acc.append(acc_array)\n",
    "        # take last 100 samples of each run and average\n",
    "        print('model:', model, 'lr:', lr, 'accuracy:', np.mean(np.array(acc)[:,-100:]), '+-', np.std(np.array(acc)[:,-100:])/np.sqrt(seeds))"
   ]
  },
  {
   "cell_type": "code",
   "execution_count": 23,
   "id": "05c61fa4-d6e5-40f6-a0bc-9f67048c3c41",
   "metadata": {},
   "outputs": [
    {
     "name": "stdout",
     "output_type": "stream",
     "text": [
      "model: gen-pbp pinv_recalc: 4 accuracy: 0.25 +- 0.13693063937629152\n",
      "model: gen-pbp pinv_recalc: 10 accuracy: 0.25 +- 0.13693063937629152\n",
      "model: gen-pbp pinv_recalc: 40 accuracy: 0.25 +- 0.13693063937629152\n",
      "model: gen-pbp pinv_recalc: 100 accuracy: 0.55 +- 0.15732132722552275\n",
      "model: gen-pbp pinv_recalc: 400 accuracy: 0.571 +- 0.1565116609074225\n"
     ]
    }
   ],
   "source": [
    "# increase pinv_recalc to get better results for gen_pseudo\n",
    "# this is motivated by the fact that the ds-pinv can jump a lot, so a smoothening is actually preferred\n",
    "\n",
    "lrs = [0.1]\n",
    "\n",
    "pinv_recalcs = [4, 10, 40, 100, 400]\n",
    "\n",
    "for model in ['gen-pbp']:\n",
    "    for pinv_recalc in pinv_recalcs:\n",
    "        acc = []\n",
    "        for seed in range(seeds):\n",
    "\n",
    "            np.random.seed(seed)\n",
    "            init_val = 1\n",
    "            W1_init = np.random.uniform(0, init_val, size=(layers[1], layers[0]))\n",
    "            W2_init = np.random.uniform(0, init_val, size=(layers[2], layers[1]))\n",
    "            bias_init = [np.zeros(layers[1]), np.zeros(layers[2])]\n",
    "            W_init = [W1_init, W2_init]\n",
    "\n",
    "            _, _, _, _, _, acc_array = calc_net(0.1, layers, tanh, d_tanh, W_init, inputs, steps, model,\n",
    "                                            learn_W = [True]*(len(layers)-1), bias = bias_init, learn_bias = [False]*(len(layers)-1),\n",
    "                                            acc_measure = 'single', print_steps=0, pinv_recalc=pinv_recalc)\n",
    "\n",
    "            acc.append(acc_array)\n",
    "        # take last 100 samples of each run and average\n",
    "        print('model:', model, 'pinv_recalc:', pinv_recalc, 'accuracy:', np.mean(np.array(acc)[:,-100:]), '+-', np.std(np.array(acc)[:,-100:])/np.sqrt(seeds))"
   ]
  },
  {
   "cell_type": "code",
   "execution_count": 119,
   "id": "d486809d-0ba2-4dc5-b190-90321f7827c5",
   "metadata": {},
   "outputs": [
    {
     "data": {
      "image/png": "[encoded data removed]",
      "text/plain": [
       "<Figure size 432x288 with 1 Axes>"
      ]
     },
     "metadata": {
      "needs_background": "light"
     },
     "output_type": "display_data"
    },
    {
     "data": {
      "image/png": "[encoded data removed]",
      "text/plain": [
       "<Figure size 432x288 with 1 Axes>"
      ]
     },
     "metadata": {
      "needs_background": "light"
     },
     "output_type": "display_data"
    },
    {
     "data": {
      "image/png": "[encoded data removed]",
      "text/plain": [
       "<Figure size 432x288 with 1 Axes>"
      ]
     },
     "metadata": {
      "needs_background": "light"
     },
     "output_type": "display_data"
    },
    {
     "data": {
      "image/png": "[encoded data removed]",
      "text/plain": [
       "<Figure size 432x288 with 1 Axes>"
      ]
     },
     "metadata": {
      "needs_background": "light"
     },
     "output_type": "display_data"
    }
   ],
   "source": [
    "#######################\n",
    "###### debugging ######\n",
    "#######################\n",
    "\n",
    "np.random.seed(seed)\n",
    "init_val = 1\n",
    "W1_init = np.random.uniform(0, init_val, size=(layers[1], layers[0]))\n",
    "W2_init = np.random.uniform(0, init_val, size=(layers[2], layers[1]))\n",
    "bias_init = [np.zeros(layers[1]), np.zeros(layers[2])]\n",
    "W_init = [W1_init, W2_init]\n",
    "\n",
    "r_array, e_array, W_array, _, loss_array, acc_array = calc_net(0.1, layers, tanh, d_tanh, W_init, inputs, 4, 'pbp',\n",
    "                                learn_W = [True]*(len(layers)-1), bias = bias_init, learn_bias = [False]*(len(layers)-1),\n",
    "                                acc_measure = 'single', print_steps=0)\n",
    "\n",
    "plt.plot(loss_array)\n",
    "plt.show()\n",
    "plt.plot(acc_array)\n",
    "plt.show()\n",
    "\n",
    "W0_std_array = [np.std(np.abs(W_array[i][0])) for i in range(len(W_array))]\n",
    "plt.plot(W0_std_array)\n",
    "plt.yscale('log')\n",
    "plt.show()\n",
    "\n",
    "e2_array = [e_array[i][2] for i in range(len(e_array))]\n",
    "plt.plot(e2_array)\n",
    "plt.yscale('log')\n",
    "plt.show()"
   ]
  },
  {
   "cell_type": "code",
   "execution_count": null,
   "id": "a50352e0-d48d-4a68-b56c-3cfed81395d7",
   "metadata": {},
   "outputs": [],
   "source": []
  },
  {
   "cell_type": "code",
   "execution_count": 143,
   "id": "3b05a325-623a-4556-b4bd-30e2978b1e2b",
   "metadata": {},
   "outputs": [
    {
     "data": {
      "image/png": "[encoded data removed]",
      "text/plain": [
       "<Figure size 432x288 with 1 Axes>"
      ]
     },
     "metadata": {
      "needs_background": "light"
     },
     "output_type": "display_data"
    },
    {
     "data": {
      "image/png": "[encoded data removed]",
      "text/plain": [
       "<Figure size 432x288 with 1 Axes>"
      ]
     },
     "metadata": {
      "needs_background": "light"
     },
     "output_type": "display_data"
    },
    {
     "data": {
      "image/png": "[encoded data removed]",
      "text/plain": [
       "<Figure size 432x288 with 1 Axes>"
      ]
     },
     "metadata": {
      "needs_background": "light"
     },
     "output_type": "display_data"
    },
    {
     "data": {
      "image/png": "[encoded data removed]",
      "text/plain": [
       "<Figure size 432x288 with 1 Axes>"
      ]
     },
     "metadata": {
      "needs_background": "light"
     },
     "output_type": "display_data"
    }
   ],
   "source": [
    "np.random.seed(10)\n",
    "init_val = 1\n",
    "W1_init = np.random.uniform(0, init_val, size=(layers[1], layers[0]))\n",
    "W2_init = np.random.uniform(0, init_val, size=(layers[2], layers[1]))\n",
    "bias_init = [np.zeros(layers[1]), np.zeros(layers[2])]\n",
    "W_init = [W1_init, W2_init]\n",
    "\n",
    "r_array, e_array, W_array, B_array, loss_array, acc_array = calc_net(0.1, layers, tanh, d_tanh, W_init, inputs, 4, 'gen-pbp',\n",
    "                                learn_W = [True]*(len(layers)-1), bias = bias_init, learn_bias = [False]*(len(layers)-1),\n",
    "                                acc_measure = 'single', print_steps=0, pinv_recalc = 4)\n",
    "\n",
    "plt.plot(loss_array)\n",
    "plt.show()\n",
    "plt.plot(acc_array)\n",
    "plt.show()\n",
    "\n",
    "W0_std_array = [np.std(np.abs(W_array[i][0])) for i in range(len(W_array))]\n",
    "plt.plot(W0_std_array)\n",
    "plt.yscale('log')\n",
    "plt.show()\n",
    "\n",
    "e2_array = [e_array[i][2] for i in range(len(e_array))]\n",
    "plt.plot(e2_array)\n",
    "plt.yscale('log')\n",
    "plt.show()"
   ]
  },
  {
   "cell_type": "code",
   "execution_count": 142,
   "id": "0790790a-77e2-4e39-a4be-0c7707a6f890",
   "metadata": {},
   "outputs": [
    {
     "data": {
      "text/plain": [
       "array([[-1.32100753,  0.3054498 , -0.31132953],\n",
       "       [ 2.23982253, -0.65888345,  1.72092605]])"
      ]
     },
     "execution_count": 142,
     "metadata": {},
     "output_type": "execute_result"
    }
   ],
   "source": [
    "B_array[0][0] - B_array[-1][0]"
   ]
  },
  {
   "cell_type": "code",
   "execution_count": 140,
   "id": "b23c0410-b5a6-4807-b991-1ad33286f38a",
   "metadata": {},
   "outputs": [
    {
     "data": {
      "text/plain": [
       "[0.0,\n",
       " 0.0,\n",
       " 0.0,\n",
       " 1.0,\n",
       " 0.0,\n",
       " 0.0,\n",
       " 0.0,\n",
       " 1.0,\n",
       " 0.0,\n",
       " 0.0,\n",
       " 0.0,\n",
       " 1.0,\n",
       " 0.0,\n",
       " 0.0,\n",
       " 0.0,\n",
       " 1.0,\n",
       " 0.0,\n",
       " 0.0,\n",
       " 0.0,\n",
       " 1.0,\n",
       " 0.0,\n",
       " 0.0,\n",
       " 0.0,\n",
       " 1.0,\n",
       " 0.0,\n",
       " 0.0,\n",
       " 0.0,\n",
       " 1.0,\n",
       " 0.0,\n",
       " 0.0,\n",
       " 0.0,\n",
       " 1.0,\n",
       " 0.0,\n",
       " 0.0,\n",
       " 0.0,\n",
       " 1.0,\n",
       " 0.0,\n",
       " 0.0,\n",
       " 0.0,\n",
       " 1.0,\n",
       " 0.0,\n",
       " 0.0,\n",
       " 0.0,\n",
       " 1.0,\n",
       " 0.0,\n",
       " 0.0,\n",
       " 0.0,\n",
       " 1.0,\n",
       " 0.0,\n",
       " 0.0,\n",
       " 0.0,\n",
       " 1.0,\n",
       " 0.0,\n",
       " 0.0,\n",
       " 0.0,\n",
       " 1.0,\n",
       " 0.0,\n",
       " 0.0,\n",
       " 0.0,\n",
       " 1.0,\n",
       " 0.0,\n",
       " 0.0,\n",
       " 0.0,\n",
       " 1.0,\n",
       " 0.0,\n",
       " 0.0,\n",
       " 0.0,\n",
       " 1.0,\n",
       " 0.0,\n",
       " 0.0,\n",
       " 0.0,\n",
       " 1.0,\n",
       " 0.0,\n",
       " 0.0,\n",
       " 0.0,\n",
       " 1.0,\n",
       " 0.0,\n",
       " 0.0,\n",
       " 0.0,\n",
       " 1.0,\n",
       " 0.0,\n",
       " 0.0,\n",
       " 0.0,\n",
       " 1.0,\n",
       " 0.0,\n",
       " 0.0,\n",
       " 0.0,\n",
       " 1.0,\n",
       " 0.0,\n",
       " 0.0,\n",
       " 0.0,\n",
       " 1.0,\n",
       " 0.0,\n",
       " 0.0,\n",
       " 0.0,\n",
       " 1.0,\n",
       " 0.0,\n",
       " 0.0,\n",
       " 0.0,\n",
       " 1.0,\n",
       " 0.0,\n",
       " 0.0,\n",
       " 0.0,\n",
       " 1.0,\n",
       " 0.0,\n",
       " 0.0,\n",
       " 0.0,\n",
       " 1.0,\n",
       " 0.0,\n",
       " 0.0,\n",
       " 0.0,\n",
       " 1.0,\n",
       " 0.0,\n",
       " 0.0,\n",
       " 0.0,\n",
       " 1.0,\n",
       " 0.0,\n",
       " 0.0,\n",
       " 0.0,\n",
       " 1.0,\n",
       " 0.0,\n",
       " 0.0,\n",
       " 0.0,\n",
       " 1.0,\n",
       " 0.0,\n",
       " 0.0,\n",
       " 0.0,\n",
       " 1.0,\n",
       " 0.0,\n",
       " 0.0,\n",
       " 0.0,\n",
       " 1.0,\n",
       " 0.0,\n",
       " 0.0,\n",
       " 0.0,\n",
       " 1.0,\n",
       " 0.0,\n",
       " 0.0,\n",
       " 0.0,\n",
       " 1.0,\n",
       " 0.0,\n",
       " 0.0,\n",
       " 0.0,\n",
       " 1.0,\n",
       " 0.0,\n",
       " 0.0,\n",
       " 0.0,\n",
       " 1.0,\n",
       " 0.0,\n",
       " 0.0,\n",
       " 0.0,\n",
       " 1.0,\n",
       " 0.0,\n",
       " 0.0,\n",
       " 0.0,\n",
       " 1.0,\n",
       " 0.0,\n",
       " 0.0,\n",
       " 0.0,\n",
       " 1.0]"
      ]
     },
     "execution_count": 140,
     "metadata": {},
     "output_type": "execute_result"
    }
   ],
   "source": [
    "acc_array"
   ]
  },
  {
   "cell_type": "markdown",
   "id": "52ddcc76-c3be-483f-bfc2-1fafbed01085",
   "metadata": {},
   "source": [
    "## cont after debugging"
   ]
  },
  {
   "cell_type": "code",
   "execution_count": 26,
   "id": "8453d0bc-b0ff-406a-9378-1f6c2b96ae32",
   "metadata": {},
   "outputs": [
    {
     "name": "stdout",
     "output_type": "stream",
     "text": [
      "model: dyn-pbp lr: 0.1 bw_lr: 0.0 accuracy: 0.85 +- 0.07984359711335656\n",
      "model: dyn-pbp lr: 0.1 bw_lr: 1e-05 accuracy: 0.85 +- 0.07984359711335656\n",
      "model: dyn-pbp lr: 0.1 bw_lr: 5e-05 accuracy: 0.775 +- 0.0933742469849155\n",
      "model: dyn-pbp lr: 0.1 bw_lr: 0.0001 accuracy: 0.8125 +- 0.08727650027355588\n",
      "model: dyn-pbp lr: 0.1 bw_lr: 0.0005 accuracy: 0.85 +- 0.07984359711335656\n",
      "model: dyn-pbp lr: 0.1 bw_lr: 0.001 accuracy: 0.6625 +- 0.10573404134903763\n",
      "model: dyn-pbp lr: 0.1 bw_lr: 0.005 accuracy: 0.2875 +- 0.10120369311443134\n",
      "model: dyn-pbp lr: 0.1 bw_lr: 0.01 accuracy: 0.25 +- 0.09682458365518541\n",
      "model: dyn-pbp lr: 0.1 bw_lr: 0.05 accuracy: 0.25 +- 0.09682458365518541\n",
      "model: dyn-pbp lr: 0.1 bw_lr: 0.1 accuracy: 0.25 +- 0.09682458365518541\n"
     ]
    }
   ],
   "source": [
    "seeds = 20\n",
    "\n",
    "# for model dyn-pseudo, we also sample over backwards learning rate\n",
    "# because this scans takes more time (it also scanes over the backwards learning rate), we restrict to lr = 0.1, best case found in the BP and PBP runs\n",
    "# for reference, we also run with bw_lr = 0, which reproduces FA\n",
    "\n",
    "lrs = [0.1]\n",
    "bw_lrs = [0.0, 1e-5, 5e-5, 1e-4, 5e-4, 1e-3, 5e-3, 1e-2, 5e-2, 1e-1]\n",
    "# bw_lrs = [1e-4]\n",
    "\n",
    "r_array = []\n",
    "W_array = []\n",
    "B_array = []\n",
    "\n",
    "for i in range(len(lrs)):\n",
    "    r_array.append([])\n",
    "    W_array.append([])\n",
    "    B_array.append([])\n",
    "    \n",
    "    for j in range(len(bw_lrs)):\n",
    "        r_array[i].append([])\n",
    "        W_array[i].append([])\n",
    "        B_array[i].append([])    \n",
    "        acc = []\n",
    "        for k in range(seeds):\n",
    "            r_array[i][j].append([])\n",
    "            W_array[i][j].append([])\n",
    "            B_array[i][j].append([]) \n",
    "\n",
    "            np.random.seed(range(seeds)[k])\n",
    "            W1_init = np.random.uniform(0, init_val, size=(layers[1], layers[0]))\n",
    "            W2_init = np.random.uniform(0, init_val, size=(layers[2], layers[1]))\n",
    "            bias_init = [np.zeros(layers[1]), np.zeros(layers[2])]\n",
    "            W_init = [W1_init, W2_init]\n",
    "\n",
    "            r, _, W, B, _, acc_array = calc_net(lrs[i], layers, tanh, d_tanh, W_init, inputs, steps, 'dyn-pbp',\n",
    "                                            learn_W = [True]*(len(layers)-1), bias = bias_init, learn_bias = [False]*(len(layers)-1),\n",
    "                                            acc_measure = 'single', print_steps=0, pinv_recalc=1, alpha = 0.1, bw_lr = bw_lrs[j])\n",
    "            B_array[i][j][k].append(B)\n",
    "            W_array[i][j][k].append(W)\n",
    "            r_array[i][j][k].append(r)\n",
    "            acc.append(acc_array)\n",
    "        print('model:', 'dyn-pbp', 'lr:', lrs[i], 'bw_lr:', bw_lrs[j], 'accuracy:', np.mean(np.array(acc)[:,-100:]), '+-', np.std(np.array(acc)[:,-100:])/np.sqrt(seeds))"
   ]
  },
  {
   "cell_type": "code",
   "execution_count": 27,
   "id": "d1df79da-1e1a-4b04-acb2-ffc2d321a209",
   "metadata": {},
   "outputs": [
    {
     "name": "stdout",
     "output_type": "stream",
     "text": [
      "model: dyn-pbp lr: 0.1 bw_lr: 0.0002 accuracy: 0.778 +- 0.09292900515985307\n",
      "model: dyn-pbp lr: 0.1 bw_lr: 0.0003 accuracy: 0.8125 +- 0.08727650027355588\n",
      "model: dyn-pbp lr: 0.1 bw_lr: 0.0004 accuracy: 0.85 +- 0.07984359711335656\n",
      "model: dyn-pbp lr: 0.1 bw_lr: 0.0006 accuracy: 0.8125 +- 0.08727650027355588\n",
      "model: dyn-pbp lr: 0.1 bw_lr: 0.0007 accuracy: 0.8 +- 0.08944271909999159\n",
      "model: dyn-pbp lr: 0.1 bw_lr: 0.0008 accuracy: 0.8125 +- 0.08727650027355588\n",
      "model: dyn-pbp lr: 0.1 bw_lr: 0.0009 accuracy: 0.775 +- 0.0933742469849155\n"
     ]
    }
   ],
   "source": [
    "# for model dyn-pseudo, we also sample over backwards learning rate\n",
    "# because this scans takes more time (it also scanes over the backwards learning rate), we restrict to lr = 0.1, best case found in the BP and PBP runs\n",
    "# for reference, we also run with bw_lr = 0, which reproduces FA\n",
    "\n",
    "lrs = [0.1]\n",
    "bw_lrs = [2e-4, 3e-4, 4e-4, 6e-4, 7e-4, 8e-4, 9e-4]\n",
    "# bw_lrs = [1e-4]\n",
    "\n",
    "r_array = []\n",
    "W_array = []\n",
    "B_array = []\n",
    "\n",
    "for i in range(len(lrs)):\n",
    "    r_array.append([])\n",
    "    W_array.append([])\n",
    "    B_array.append([])\n",
    "    \n",
    "    for j in range(len(bw_lrs)):\n",
    "        r_array[i].append([])\n",
    "        W_array[i].append([])\n",
    "        B_array[i].append([])    \n",
    "        acc = []\n",
    "        for k in range(seeds):\n",
    "            r_array[i][j].append([])\n",
    "            W_array[i][j].append([])\n",
    "            B_array[i][j].append([]) \n",
    "\n",
    "            np.random.seed(range(seeds)[k])\n",
    "            W1_init = np.random.uniform(0, init_val, size=(layers[1], layers[0]))\n",
    "            W2_init = np.random.uniform(0, init_val, size=(layers[2], layers[1]))\n",
    "            bias_init = [np.zeros(layers[1]), np.zeros(layers[2])]\n",
    "            W_init = [W1_init, W2_init]\n",
    "\n",
    "            r, _, W, B, _, acc_array = calc_net(lrs[i], layers, tanh, d_tanh, W_init, inputs, steps, 'dyn-pbp',\n",
    "                                            learn_W = [True]*(len(layers)-1), bias = bias_init, learn_bias = [False]*(len(layers)-1),\n",
    "                                            acc_measure = 'single', print_steps=0, pinv_recalc=1, alpha = 0.1, bw_lr = bw_lrs[j])\n",
    "            B_array[i][j][k].append(B)\n",
    "            W_array[i][j][k].append(W)\n",
    "            r_array[i][j][k].append(r)\n",
    "            acc.append(acc_array)\n",
    "        print('model:', 'dyn-pbp', 'lr:', lrs[i], 'bw_lr:', bw_lrs[j], 'accuracy:', np.mean(np.array(acc)[:,-100:]), '+-', np.std(np.array(acc)[:,-100:])/np.sqrt(seeds))"
   ]
  },
  {
   "cell_type": "code",
   "execution_count": 214,
   "id": "49a06d6f-9def-424b-9977-1316a1cc51f9",
   "metadata": {},
   "outputs": [
    {
     "ename": "ValueError",
     "evalue": "ds-pinv has not converged to real matrix",
     "output_type": "error",
     "traceback": [
      "\u001b[0;31m---------------------------------------------------------------------------\u001b[0m",
      "\u001b[0;31mValueError\u001b[0m                                Traceback (most recent call last)",
      "\u001b[0;32m/var/folders/zb/q43ry99x69g19b1w0cyrrr700000gn/T/ipykernel_46453/2161704627.py\u001b[0m in \u001b[0;36m<module>\u001b[0;34m\u001b[0m\n\u001b[1;32m     24\u001b[0m                     \u001b[0;31m# print(W_array[lr][bw_lr][seed][0][step][layer])\u001b[0m\u001b[0;34m\u001b[0m\u001b[0;34m\u001b[0m\u001b[0;34m\u001b[0m\u001b[0m\n\u001b[1;32m     25\u001b[0m \u001b[0;34m\u001b[0m\u001b[0m\n\u001b[0;32m---> 26\u001b[0;31m                     \u001b[0mdspinv\u001b[0m \u001b[0;34m=\u001b[0m \u001b[0mds_pinv\u001b[0m\u001b[0;34m(\u001b[0m\u001b[0mnp\u001b[0m\u001b[0;34m.\u001b[0m\u001b[0marray\u001b[0m\u001b[0;34m(\u001b[0m\u001b[0mr_batch\u001b[0m\u001b[0;34m)\u001b[0m\u001b[0;34m,\u001b[0m \u001b[0mW_array\u001b[0m\u001b[0;34m[\u001b[0m\u001b[0mlr\u001b[0m\u001b[0;34m]\u001b[0m\u001b[0;34m[\u001b[0m\u001b[0mbw_lr\u001b[0m\u001b[0;34m]\u001b[0m\u001b[0;34m[\u001b[0m\u001b[0mseed\u001b[0m\u001b[0;34m]\u001b[0m\u001b[0;34m[\u001b[0m\u001b[0;36m0\u001b[0m\u001b[0;34m]\u001b[0m\u001b[0;34m[\u001b[0m\u001b[0mstep\u001b[0m\u001b[0;34m]\u001b[0m\u001b[0;34m[\u001b[0m\u001b[0mlayer\u001b[0m\u001b[0;34m]\u001b[0m\u001b[0;34m)\u001b[0m\u001b[0;34m\u001b[0m\u001b[0;34m\u001b[0m\u001b[0m\n\u001b[0m\u001b[1;32m     27\u001b[0m \u001b[0;34m\u001b[0m\u001b[0m\n\u001b[1;32m     28\u001b[0m                     \u001b[0mcossim\u001b[0m \u001b[0;34m=\u001b[0m \u001b[0mcos_sim\u001b[0m\u001b[0;34m(\u001b[0m\u001b[0mnp\u001b[0m\u001b[0;34m.\u001b[0m\u001b[0marray\u001b[0m\u001b[0;34m(\u001b[0m\u001b[0mB_array\u001b[0m\u001b[0;34m[\u001b[0m\u001b[0mlr\u001b[0m\u001b[0;34m]\u001b[0m\u001b[0;34m[\u001b[0m\u001b[0mbw_lr\u001b[0m\u001b[0;34m]\u001b[0m\u001b[0;34m[\u001b[0m\u001b[0mseed\u001b[0m\u001b[0;34m]\u001b[0m\u001b[0;34m[\u001b[0m\u001b[0;36m0\u001b[0m\u001b[0;34m]\u001b[0m\u001b[0;34m[\u001b[0m\u001b[0mstep\u001b[0m\u001b[0;34m]\u001b[0m\u001b[0;34m[\u001b[0m\u001b[0mlayer\u001b[0m\u001b[0;34m]\u001b[0m\u001b[0;34m)\u001b[0m\u001b[0;34m,\u001b[0m \u001b[0mdspinv\u001b[0m\u001b[0;34m)\u001b[0m\u001b[0;34m\u001b[0m\u001b[0;34m\u001b[0m\u001b[0m\n",
      "\u001b[0;32m/var/folders/zb/q43ry99x69g19b1w0cyrrr700000gn/T/ipykernel_46453/388979020.py\u001b[0m in \u001b[0;36mds_pinv\u001b[0;34m(r_array, w_matrix)\u001b[0m\n\u001b[1;32m     54\u001b[0m     \u001b[0mgen_pseudo\u001b[0m \u001b[0;34m=\u001b[0m \u001b[0mnp\u001b[0m\u001b[0;34m.\u001b[0m\u001b[0mdot\u001b[0m\u001b[0;34m(\u001b[0m\u001b[0mgamma\u001b[0m\u001b[0;34m,\u001b[0m \u001b[0mnp\u001b[0m\u001b[0;34m.\u001b[0m\u001b[0mlinalg\u001b[0m\u001b[0;34m.\u001b[0m\u001b[0mpinv\u001b[0m\u001b[0;34m(\u001b[0m\u001b[0mnp\u001b[0m\u001b[0;34m.\u001b[0m\u001b[0mdot\u001b[0m\u001b[0;34m(\u001b[0m\u001b[0mw_matrix\u001b[0m\u001b[0;34m,\u001b[0m \u001b[0mgamma\u001b[0m\u001b[0;34m)\u001b[0m\u001b[0;34m)\u001b[0m\u001b[0;34m)\u001b[0m\u001b[0;34m\u001b[0m\u001b[0;34m\u001b[0m\u001b[0m\n\u001b[1;32m     55\u001b[0m     \u001b[0;32mif\u001b[0m \u001b[0;32mnot\u001b[0m \u001b[0mnp\u001b[0m\u001b[0;34m.\u001b[0m\u001b[0mall\u001b[0m\u001b[0;34m(\u001b[0m\u001b[0mnp\u001b[0m\u001b[0;34m.\u001b[0m\u001b[0misreal\u001b[0m\u001b[0;34m(\u001b[0m\u001b[0mgen_pseudo\u001b[0m\u001b[0;34m)\u001b[0m \u001b[0;34m==\u001b[0m \u001b[0;32mTrue\u001b[0m\u001b[0;34m)\u001b[0m\u001b[0;34m:\u001b[0m\u001b[0;34m\u001b[0m\u001b[0;34m\u001b[0m\u001b[0m\n\u001b[0;32m---> 56\u001b[0;31m         \u001b[0;32mraise\u001b[0m \u001b[0mValueError\u001b[0m\u001b[0;34m(\u001b[0m\u001b[0;34m'ds-pinv has not converged to real matrix'\u001b[0m\u001b[0;34m)\u001b[0m\u001b[0;34m\u001b[0m\u001b[0;34m\u001b[0m\u001b[0m\n\u001b[0m\u001b[1;32m     57\u001b[0m \u001b[0;34m\u001b[0m\u001b[0m\n\u001b[1;32m     58\u001b[0m     \u001b[0;32mreturn\u001b[0m \u001b[0mgen_pseudo\u001b[0m\u001b[0;34m\u001b[0m\u001b[0;34m\u001b[0m\u001b[0m\n",
      "\u001b[0;31mValueError\u001b[0m: ds-pinv has not converged to real matrix"
     ]
    }
   ],
   "source": [
    "pinv_recalc = 4\n",
    "lrs = [0.1]\n",
    "bw_lrs = [0.0, 1e-5, 5e-5, 1e-4, 5e-4]\n",
    "\n",
    "cos_sim_array = []\n",
    "\n",
    "for lr in range(len(B_array)):\n",
    "    cos_sim_array.append([])\n",
    "    \n",
    "    for bw_lr in range(len(B_array[0])):\n",
    "        cos_sim_array[lr].append([])\n",
    "    \n",
    "        for seed in range(len(B_array[0][0])):\n",
    "            cos_sim_array[lr][bw_lr].append([])\n",
    "        \n",
    "            for layer in range(len(B_array[0][0][0][0][0])):\n",
    "                cos_sim_array[lr][bw_lr][seed].append([])\n",
    "            \n",
    "                for step in range(steps):\n",
    "                \n",
    "                    r_batch = [r_array[lr][bw_lr][seed][0][-pinv_recalc:][i][layer] for i in range(pinv_recalc)]\n",
    "                    \n",
    "                    # print(np.array(r_batch).T)\n",
    "                    # print(W_array[lr][bw_lr][seed][0][step][layer])\n",
    "\n",
    "                    dspinv = ds_pinv(np.array(r_batch), W_array[lr][bw_lr][seed][0][step][layer])\n",
    "                    \n",
    "                    cossim = cos_sim(np.array(B_array[lr][bw_lr][seed][0][step][layer]), dspinv)\n",
    "                    \n",
    "                    cos_sim_array[lr][bw_lr][seed][layer].append(cossim.copy())\n"
   ]
  },
  {
   "cell_type": "code",
   "execution_count": null,
   "id": "5f8c41f0-1c37-472d-8269-c965c4d99c0d",
   "metadata": {},
   "outputs": [],
   "source": [
    "fig, ax = plt.subplots(2, 1, figsize=(10,10))\n",
    "\n",
    "layer = 0\n",
    "\n",
    "for lr in range(len(cos_sim_array)):    \n",
    "    for bw_lr in range(len(cos_sim_array[0])):    \n",
    "        for seed in range(len(cos_sim_array[0][0])):\n",
    "            label = 'lr ' + str(lr) + 'bw lr ' + str(bw_lr) + 'layer ' + str(layer)\n",
    "            ax[0].plot(cos_sim_array[lr][bw_lr][seed][layer], label=label)\n",
    "\n",
    "\n",
    "layer = 1\n",
    "\n",
    "for lr in range(len(cos_sim_array)):    \n",
    "    for bw_lr in range(len(cos_sim_array[0])):    \n",
    "        for seed in range(len(cos_sim_array[0][0])):\n",
    "            label = 'lr ' + str(lr) + 'bw lr ' + str(bw_lr) + 'layer ' + str(layer)\n",
    "            ax[1].plot(cos_sim_array[lr][bw_lr][seed][layer])\n",
    "        \n",
    "plt.show()"
   ]
  },
  {
   "cell_type": "markdown",
   "id": "b54b386c-3353-4b66-8d71-84e0fcf560b5",
   "metadata": {},
   "source": [
    "A little aside on Feedback Alignment: can it change the sign of W?"
   ]
  },
  {
   "cell_type": "code",
   "execution_count": 13,
   "id": "63695ea4-e8da-403b-8c42-8ea096d23f57",
   "metadata": {},
   "outputs": [],
   "source": [
    "acc = []\n",
    "loss = []\n",
    "r = []\n",
    "W = []\n",
    "e = []\n",
    "\n",
    "for seed in range(seeds):\n",
    "    \n",
    "    np.random.seed(seed)\n",
    "    W1_init = np.random.uniform(0, 1, size=(layers[1], layers[0]))\n",
    "    W2_init = np.random.uniform(0, 1, size=(layers[2], layers[1]))\n",
    "    bias_init = [np.zeros(layers[1]), np.zeros(layers[2])]\n",
    "    W_init = [W1_init, W2_init]\n",
    "    \n",
    "    r_array_bp, e_array_bp, W_array_bp, B_array_bp, loss_array_bp, acc_array_bp = calc_net(0.1, layers, tanh, d_tanh, W_init, inputs, steps, 'bp', learn_W = [True]*(len(layers)-1), bias = bias_init, learn_bias = [False]*(len(layers)-1), acc_measure = 'single', print_steps=0)\n",
    "    r_array_fa, e_array_fa, W_array_fa, B_array_fa, loss_array_fa, acc_array_fa = calc_net(0.1, layers, tanh, d_tanh, W_init, inputs, steps, 'fa', learn_W = [True]*(len(layers)-1), bias = bias_init, learn_bias = [False]*(len(layers)-1), acc_measure = 'single', print_steps=0)\n",
    "    \n",
    "    r.append([r_array_bp, r_array_fa])\n",
    "    e.append([e_array_bp, e_array_fa])\n",
    "    W.append([W_array_bp, W_array_fa])\n",
    "    acc.append([acc_array_bp, acc_array_fa])\n",
    "    loss.append([loss_array_bp, loss_array_fa])"
   ]
  },
  {
   "cell_type": "code",
   "execution_count": 56,
   "id": "26d68e4b-dae8-4a17-893e-742df0c97ab1",
   "metadata": {},
   "outputs": [
    {
     "data": {
      "image/png": "[encoded data removed]",
      "text/plain": [
       "<Figure size 432x288 with 1 Axes>"
      ]
     },
     "metadata": {
      "needs_background": "light"
     },
     "output_type": "display_data"
    },
    {
     "data": {
      "image/png": "[encoded data removed]",
      "text/plain": [
       "<Figure size 432x288 with 1 Axes>"
      ]
     },
     "metadata": {
      "needs_background": "light"
     },
     "output_type": "display_data"
    }
   ],
   "source": [
    "# FA can change sign of W, if delta W > W:\n",
    "\n",
    "W = np.array([W_array_fa[seed][0] for seed in range(len(W_array_fa))])\n",
    "plt.plot(100*(W[:,1,0][1:] - W[:,1,0][0:-1]), label='100 * dW')\n",
    "plt.plot(W[:,1,0], label='W')\n",
    "plt.grid()\n",
    "plt.legend()\n",
    "plt.show()\n",
    "\n",
    "plt.plot((W[:,1,0][1:] - W[:,1,0][0:-1])/W[:,1,0][0:-1], label='dW / W')\n",
    "plt.grid()\n",
    "plt.legend()\n",
    "plt.show()"
   ]
  },
  {
   "cell_type": "code",
   "execution_count": 59,
   "id": "9428a1f0-f546-485d-9c03-4a804577d154",
   "metadata": {},
   "outputs": [],
   "source": [
    "######### END of aside"
   ]
  },
  {
   "cell_type": "markdown",
   "id": "a583cbe7-0a31-403d-95ba-8611be611d88",
   "metadata": {},
   "source": [
    "From this, we use the best values and rerun for more seeds:"
   ]
  },
  {
   "cell_type": "code",
   "execution_count": 149,
   "id": "b4587cae-f2bd-41a0-9916-6e5b0b295423",
   "metadata": {},
   "outputs": [],
   "source": [
    "# define parameters of model\n",
    "lr_bp = 0.1\n",
    "lr_fa = 0.1\n",
    "lr_pbp = 0.1\n",
    "lr_gen = 0#0.001\n",
    "lr_dyn = 0.1\n",
    "bw_lr =  1e-4\n",
    "\n",
    "layers = [2, 3, 1]\n",
    "\n",
    "inputs = np.array([[1, 0], [0, 1], [1, 1], [0, 0]])\n",
    "targets = np.array([1, 1, 0, 0])\n",
    "\n",
    "steps = 4000\n",
    "seeds = 20"
   ]
  },
  {
   "cell_type": "code",
   "execution_count": 154,
   "id": "ad2460cb-98b1-4cde-9a90-64f289b4dea4",
   "metadata": {},
   "outputs": [],
   "source": [
    "acc = []\n",
    "loss = []\n",
    "\n",
    "# for dyn-pseudo, we also record the backwards arrays\n",
    "B_array = []\n",
    "W_array = []\n",
    "r_array = []\n",
    "\n",
    "for seed in range(seeds):\n",
    "    \n",
    "    np.random.seed(seed)\n",
    "    init_val = 1\n",
    "    W1_init = np.random.uniform(0, init_val, size=(layers[1], layers[0]))\n",
    "    W2_init = np.random.uniform(0, init_val, size=(layers[2], layers[1]))\n",
    "    bias_init = [np.zeros(layers[1]), np.zeros(layers[2])]\n",
    "    W_init = [W1_init, W2_init]\n",
    "    \n",
    "    _, _, _, _, loss_array_bp, acc_array_bp = calc_net(lr_bp, layers, tanh, d_tanh, W_init, inputs, steps, 'bp', learn_W = [True]*(len(layers)-1), bias = bias_init, learn_bias = [False]*(len(layers)-1), acc_measure = 'single', print_steps=0)\n",
    "    _, _, _, _, loss_array_fa, acc_array_fa = calc_net(lr_fa, layers, tanh, d_tanh, W_init, inputs, steps, 'fa', learn_W = [True]*(len(layers)-1), bias = bias_init, learn_bias = [False]*(len(layers)-1), acc_measure = 'single', print_steps=0)\n",
    "    _, _, _, _, loss_array_pbp, acc_array_pbp = calc_net(lr_pbp, layers, tanh, d_tanh, W_init, inputs, steps, 'pbp', learn_W = [True]*(len(layers)-1), bias = bias_init, learn_bias = [False]*(len(layers)-1), acc_measure = 'single', print_steps=0, pinv_recalc=40)\n",
    "    _, _, _, _, loss_array_gen, acc_array_gen = calc_net(lr_gen, layers, tanh, d_tanh, W_init, inputs, steps, 'gen-pbp', learn_W = [True]*(len(layers)-1), bias = bias_init, learn_bias = [False]*(len(layers)-1), acc_measure = 'single', print_steps=0, pinv_recalc=4)\n",
    "    r, _, W, B, loss_array_dyn, acc_array_dyn = calc_net(lr_dyn, layers, tanh, d_tanh, W_init, inputs, steps, 'dyn-pbp', learn_W = [True]*(len(layers)-1), bias = bias_init,\n",
    "                                                      learn_bias = [False]*(len(layers)-1), acc_measure = 'single', print_steps=0, pinv_recalc=1, alpha = 0.1, bw_lr = bw_lr)\n",
    "    \n",
    "    B_array.append(B)\n",
    "    W_array.append(W)\n",
    "    r_array.append(r)\n",
    "    acc.append([acc_array_bp, acc_array_fa, acc_array_pbp, acc_array_gen, acc_array_dyn])\n",
    "    loss.append([loss_array_bp, loss_array_fa, loss_array_pbp, loss_array_gen, loss_array_dyn])"
   ]
  },
  {
   "cell_type": "code",
   "execution_count": 155,
   "id": "8b9e3b8b-b154-41bb-969d-c04811179a42",
   "metadata": {},
   "outputs": [
    {
     "name": "stdout",
     "output_type": "stream",
     "text": [
      "total accuracy over 20 seeds (last 100 steps): \n",
      "bp : 1.0  +-  0.0\n",
      "fa : 0.85  +-  0.0\n",
      "pbp : 0.9625  +-  0.0\n",
      "gen-pbp : 0.3  +-  0.0\n",
      "dyn-pbp : 0.925  +-  0.0\n"
     ]
    }
   ],
   "source": [
    "print('total accuracy over', seeds, 'seeds (last 100 steps): ')\n",
    "\n",
    "labels = ['bp', 'fa', 'pbp', 'gen-pbp', 'dyn-pbp']\n",
    "\n",
    "\n",
    "for i in range(len(labels)):\n",
    "    print(labels[i], ':', np.mean(np.transpose(np.array(acc)[:,:,-100:], axes=(1,0,2))[i]), ' +- ',  sem(np.mean(np.transpose(np.array(acc)[:,:,-100:], axes=(1,0,2))[0], axis = 1)))"
   ]
  },
  {
   "cell_type": "code",
   "execution_count": 156,
   "id": "f89eb368-37d4-4d60-9cc9-920775fbca3a",
   "metadata": {},
   "outputs": [
    {
     "data": {
      "image/png": "[encoded data removed]",
      "text/plain": [
       "<Figure size 432x288 with 1 Axes>"
      ]
     },
     "metadata": {
      "needs_background": "light"
     },
     "output_type": "display_data"
    }
   ],
   "source": [
    "per_steps = 1\n",
    "\n",
    "for i in range(len(labels)):\n",
    "    data = np.transpose(np.array(loss), axes = (1,0,2))[i]\n",
    "    plt.plot(np.linspace(0, len(data[0][::per_steps]), len(data[0][::per_steps])), np.mean(data, axis=0)[::per_steps], label=labels[i], c=styles[i])\n",
    "    \n",
    "plt.yscale('log')\n",
    "plt.xlabel('Step')\n",
    "plt.ylabel('MSE')\n",
    "plt.legend()\n",
    "plt.show()"
   ]
  },
  {
   "cell_type": "code",
   "execution_count": 157,
   "id": "36e2a161-4616-43ba-b18a-abc4dcc5e911",
   "metadata": {},
   "outputs": [
    {
     "data": {
      "image/png": "[encoded data removed]",
      "text/plain": [
       "<Figure size 720x720 with 5 Axes>"
      ]
     },
     "metadata": {
      "needs_background": "light"
     },
     "output_type": "display_data"
    },
    {
     "data": {
      "image/png": "[encoded data removed]",
      "text/plain": [
       "<Figure size 720x360 with 1 Axes>"
      ]
     },
     "metadata": {
      "needs_background": "light"
     },
     "output_type": "display_data"
    }
   ],
   "source": [
    "fig, ax = plt.subplots(len(labels), 1, figsize=(10,10))\n",
    "\n",
    "# we take the mean and convolve the result in time to make it more readable\n",
    "# per_steps sets the bin size of the convolution window\n",
    "per_steps = 1\n",
    "N = len(np.transpose(np.array(acc), axes = (1,0,2))[0]) // per_steps\n",
    "\n",
    "for i in range(len(labels)):\n",
    "    data = np.transpose(np.array(acc), axes = (1,0,2))[i]\n",
    "    y = np.convolve(np.mean(data, axis=0), np.ones(N)/N, mode='valid')\n",
    "    ax[i].plot(y, label=labels[i], c=styles[i])\n",
    "    ax[i].legend(loc='lower right')\n",
    "    ax[i].set_ylim([-0.1,1.1])\n",
    "    ax[i].grid()\n",
    "\n",
    "plt.xlabel('Step')\n",
    "fig.text(0.06, 0.5, 'Accuracy', ha='center', va='center', rotation='vertical')\n",
    "plt.show()\n",
    "\n",
    "\n",
    "\n",
    "fig, ax = plt.subplots(1, 1, figsize=(10,5))\n",
    "\n",
    "per_steps = 1000\n",
    "N = len(data[0]) // per_steps\n",
    "\n",
    "for i in range(len(labels)):\n",
    "    data = np.transpose(np.array(acc), axes = (1,0,2))[i]\n",
    "    y = np.convolve(np.mean(data, axis=0), np.ones(N)/N, mode='valid')\n",
    "    ax.plot(y, label=labels[i], c=styles[i])\n",
    "    ax.legend(loc='lower right')\n",
    "    ax.set_ylim([-0.1,1.1])\n",
    "    ax.grid()\n",
    "\n",
    "plt.xlabel('Step')\n",
    "fig.text(0.06, 0.5, 'Accuracy', ha='center', va='center', rotation='vertical')\n",
    "plt.show()"
   ]
  },
  {
   "cell_type": "code",
   "execution_count": 19,
   "id": "014d17d5-cd38-4c3b-bfbf-04a03ec786d7",
   "metadata": {},
   "outputs": [],
   "source": [
    "####### More testing"
   ]
  },
  {
   "cell_type": "code",
   "execution_count": null,
   "id": "c54b0a4f-06c8-44f4-9c73-5c4393782b13",
   "metadata": {},
   "outputs": [],
   "source": []
  }
 ],
 "metadata": {
  "kernelspec": {
   "display_name": "Python 3 (ipykernel)",
   "language": "python",
   "name": "python3"
  },
  "language_info": {
   "codemirror_mode": {
    "name": "ipython",
    "version": 3
   },
   "file_extension": ".py",
   "mimetype": "text/x-python",
   "name": "python",
   "nbconvert_exporter": "python",
   "pygments_lexer": "ipython3",
   "version": "3.8.5"
  }
 },
 "nbformat": 4,
 "nbformat_minor": 5
}
